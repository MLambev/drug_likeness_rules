{
 "cells": [
  {
   "cell_type": "code",
   "id": "initial_id",
   "metadata": {
    "collapsed": true
   },
   "source": [
    "import pandas as pd\n",
    "import numpy as np\n",
    "import matplotlib.pyplot as plt\n",
    "import seaborn as sns\n",
    "\n",
    "from rdkit import Chem\n",
    "\n",
    "from rdkit import Chem\n",
    "from rdkit.Chem import Descriptors, Draw, AllChem, rdFingerprintGenerator\n",
    "\n",
    "from sklearn.model_selection import train_test_split, cross_val_score\n",
    "from sklearn.ensemble import RandomForestClassifier\n",
    "from sklearn.metrics import accuracy_score, precision_score, recall_score, f1_score, confusion_matrix, \\\n",
    "    classification_report, roc_curve, roc_auc_score, RocCurveDisplay, average_precision_score, make_scorer\n",
    "from sklearn.preprocessing import label_binarize\n",
    "from sklearn.model_selection import GridSearchCV\n"
   ],
   "outputs": [],
   "execution_count": null
  },
  {
   "metadata": {},
   "cell_type": "code",
   "source": "dataset_chemical_physical = pd.read_csv('datasets/pubchem_chemical_and_physical_properties.csv', low_memory=False)",
   "id": "adf12f538ee0eec1",
   "outputs": [],
   "execution_count": null
  },
  {
   "metadata": {},
   "cell_type": "code",
   "source": "dataset_chemical_physical",
   "id": "f7092905abd1f808",
   "outputs": [],
   "execution_count": null
  },
  {
   "metadata": {},
   "cell_type": "code",
   "source": "dataset_chemical_physical_for_work = dataset_chemical_physical[['cmpdname', 'smiles', 'mw', 'xlogp', 'hbonddonor', 'hbondacc', 'polararea', 'rotbonds']]",
   "id": "29176a721b1cc6c4",
   "outputs": [],
   "execution_count": null
  },
  {
   "metadata": {},
   "cell_type": "code",
   "source": [
    "violations_lipinski = []\n",
    "\n",
    "for row in range(0, len(dataset_chemical_physical_for_work)):\n",
    "\n",
    "    nviolations = 0\n",
    "\n",
    "    if float(dataset_chemical_physical_for_work.iloc[row, 2]) > 500:\n",
    "        nviolations += 1\n",
    "    if float(dataset_chemical_physical_for_work.iloc[row, 3]) > 5:\n",
    "        nviolations += 1\n",
    "    if float(dataset_chemical_physical_for_work.iloc[row, 3]) < 0:\n",
    "        nviolations += 1\n",
    "    if float(dataset_chemical_physical_for_work.iloc[row, 4]) > 5:\n",
    "        nviolations += 1\n",
    "    if float(dataset_chemical_physical_for_work.iloc[row, 5]) > 10:\n",
    "        nviolations += 1\n",
    "\n",
    "    violations_lipinski.append(nviolations)"
   ],
   "id": "2685917393a4c7c4",
   "outputs": [],
   "execution_count": null
  },
  {
   "metadata": {},
   "cell_type": "code",
   "source": [
    "violations_bro = []\n",
    "\n",
    "for row in range(0, len(dataset_chemical_physical_for_work)):\n",
    "\n",
    "    nviolations = 0\n",
    "\n",
    "    if float(dataset_chemical_physical_for_work.iloc[row, 2]) > 1000:\n",
    "        nviolations += 1\n",
    "    if float(dataset_chemical_physical_for_work.iloc[row, 3]) > 10:\n",
    "        nviolations += 1\n",
    "    if float(dataset_chemical_physical_for_work.iloc[row, 3]) < -2:\n",
    "        nviolations += 1\n",
    "    if float(dataset_chemical_physical_for_work.iloc[row, 4]) > 6:\n",
    "        nviolations += 1\n",
    "    if float(dataset_chemical_physical_for_work.iloc[row, 5]) > 15:\n",
    "        nviolations += 1\n",
    "    if float(dataset_chemical_physical_for_work.iloc[row, 6]) > 250:\n",
    "        nviolations += 1\n",
    "    if float(dataset_chemical_physical_for_work.iloc[row, 7]) > 20:\n",
    "        nviolations += 1\n",
    "\n",
    "    violations_bro.append(nviolations)"
   ],
   "id": "a6c5f1fe5adea09c",
   "outputs": [],
   "execution_count": null
  },
  {
   "metadata": {},
   "cell_type": "code",
   "source": [
    "violations_muegge = []\n",
    "\n",
    "for row in range(0, len(dataset_chemical_physical_for_work)):\n",
    "\n",
    "    nviolations = 0\n",
    "\n",
    "    if float(dataset_chemical_physical_for_work.iloc[row, 2]) > 600:\n",
    "        nviolations += 1\n",
    "    if float(dataset_chemical_physical_for_work.iloc[row, 2]) < 200:\n",
    "        nviolations += 1\n",
    "    if float(dataset_chemical_physical_for_work.iloc[row, 3]) > 5:\n",
    "        nviolations += 1\n",
    "    if float(dataset_chemical_physical_for_work.iloc[row, 3]) < -2:\n",
    "        nviolations += 1\n",
    "    if float(dataset_chemical_physical_for_work.iloc[row, 4]) > 5:\n",
    "        nviolations += 1\n",
    "    if float(dataset_chemical_physical_for_work.iloc[row, 5]) > 10:\n",
    "        nviolations += 1\n",
    "    if float(dataset_chemical_physical_for_work.iloc[row, 6]) > 150:\n",
    "        nviolations += 1\n",
    "    if float(dataset_chemical_physical_for_work.iloc[row, 7]) > 15:\n",
    "        nviolations += 1\n",
    "\n",
    "    count_carbon = 0\n",
    "    count_heteroatoms = 0\n",
    "    count_rings = 0\n",
    "\n",
    "    for symbol in dataset_chemical_physical_for_work.iloc[row, 1]:\n",
    "\n",
    "        heteroatoms_check = ['C', 'c', 'H', 'h', '[', ']', '(', ')', '+', '-', '=', '#']\n",
    "\n",
    "        if symbol == 'C':\n",
    "            count_carbon += 1\n",
    "        elif symbol not in heteroatoms_check:\n",
    "            count_heteroatoms += 1\n",
    "        elif symbol.isdigit():\n",
    "            count_rings = int(symbol)\n",
    "\n",
    "        if symbol == 'l':\n",
    "            count_carbon -= 1\n",
    "        # elif symbol == 'r':\n",
    "        #     count_carbon -= 1\n",
    "\n",
    "    if count_carbon < 5:\n",
    "        nviolations += 1\n",
    "    if count_heteroatoms < 2:\n",
    "        nviolations += 1\n",
    "    if count_rings > 7:\n",
    "        nviolations += 1\n",
    "\n",
    "\n",
    "    violations_muegge.append(nviolations)"
   ],
   "id": "beb5e78895456c8f",
   "outputs": [],
   "execution_count": null
  },
  {
   "metadata": {},
   "cell_type": "code",
   "source": [
    "violations_lipinski_dict = {'nviolations_lipinski_rule': violations_lipinski}\n",
    "violations_bro_dict = {'nviolations_bro_rule': violations_bro}\n",
    "violations_muegge_dict = {'nviolations_muegge_rule': violations_muegge}"
   ],
   "id": "904ed00355f07911",
   "outputs": [],
   "execution_count": null
  },
  {
   "metadata": {},
   "cell_type": "code",
   "source": "dataset_with_nviolations_con = pd.concat([dataset_chemical_physical_for_work, pd.DataFrame(violations_lipinski_dict), pd.DataFrame(violations_bro_dict), pd.DataFrame(violations_muegge_dict)], axis=1)",
   "id": "1d8f40a6e22f53d4",
   "outputs": [],
   "execution_count": null
  },
  {
   "metadata": {},
   "cell_type": "code",
   "source": "dataset_with_nviolations = dataset_with_nviolations_con.dropna()",
   "id": "7e8ab2bd68e3069",
   "outputs": [],
   "execution_count": null
  },
  {
   "metadata": {},
   "cell_type": "code",
   "source": [
    "molecule_ml1 = Chem.MolFromSmiles('N[C@@H](CCCNC(=N)N)C(=O)NCC(=O)N[C@@H](CC(=O)O)C(=O)O')\n",
    "molecule_ml2 = Chem.MolFromSmiles('NC(CCNC(=N)N)C(=O)NCC(=O)N[C@@H](CC(=O)O)C(=O)O')\n",
    "molecule_ml3 = Chem.MolFromSmiles('NC(CNC(=N)N)C(=O)NCC(=O)N[C@@H](CC(=O)O)C(=O)O')\n",
    "molecule_ml4 = Chem.MolFromSmiles('N[C@@H](CCONC(=N)N)C(=O)OCC(=O)N[C@@H](CC(=O)O)C(=O)O')\n",
    "molecule_ml5 = Chem.MolFromSmiles('NCCNC(=O)[C@H](CC(=O)O)NC(=O)CNC(=O)[C@@H](N)CCCNC(=N)N')\n",
    "molecule_ml6 = Chem.MolFromSmiles('NCCCNC(=O)[C@H](CC(=O)O)NC(=O)CNC(=O)[C@@H](N)CCCNC(=N)N')\n",
    "molecule_ml7 = Chem.MolFromSmiles('NCCNC(=O)[C@H](CC(=O)O)NC(=O)CNC(=O)C(N)CCNC(=N)N')\n",
    "molecule_ml8 = Chem.MolFromSmiles('NCCCNC(=O)[C@H](CC(=O)O)NC(=O)CNC(=O)C(N)CCNC(=N)N')\n",
    "molecule_ml9 = Chem.MolFromSmiles('NCCNC(=O)[C@H](CC(=O)O)NC(=O)CNC(=O)C(N)CNC(=N)N')\n",
    "molecule_ml10 = Chem.MolFromSmiles('NCCCNC(=O)[C@H](CC(=O)O)NC(=O)CNC(=O)C(N)CNC(=N)N')\n",
    "molecule_ml11 = Chem.MolFromSmiles('NCCNC(=O)[C@H](CC(=O)O)NC(=O)COC(=O)[C@@H](N)CCONC(=N)N')\n",
    "molecule_ml12 = Chem.MolFromSmiles('NCCCNC(=O)[C@H](CC(=O)O)NC(=O)COC(=O)[C@@H](N)CCONC(=N)N')\n",
    "molecule_ml13 = Chem.MolFromSmiles('CC[C@H](C)[C@@H](NC(=O)[C@@H]1CCCN1C(=O)[C@@H](NC(=O)[C@H](C)N)C(C)C)C(=O)O')\n",
    "molecule_ml14 = Chem.MolFromSmiles('CC[C@H](C)[C@@H](NC(=O)[C@@H]1CCCN1C(=O)[C@H](Cc2ccc(F)cc2)NC(=O)[C@H](C)N)C(=O)O')\n",
    "molecule_ml15 = Chem.MolFromSmiles('C[C@H](N)C(=O)N[C@@H](Cc1ccc(F)cc1)C(=O)N2CCC[C@H]2C(=O)N[C@H](Cc3ccc(F)cc3)C(=O)O')\n",
    "molecule_ml16 = Chem.MolFromSmiles('CC(C)[C@H](NC(=O)[C@H](C)N)C(=O)N1CCC[C@H]1C(=O)N[C@H](Cc2ccc(F)cc2)C(=O)O')\n",
    "molecule_ml17 = Chem.MolFromSmiles('CC[C@H](C)[C@H](NC(=O)[C@H](Cc1ccc(O)cc1)NC(=O)C2CCCN2C(=O)[C@H](CCCNC(=N)N)NC(=O)[C@@H](N)CCCNC(=N)N)C(=O)N[C@@H](CC(C)C)C(=O)O')\n",
    "molecule_ml18 = Chem.MolFromSmiles('CC[C@H](C)[C@H](NC(=O)[C@H](Cc1ccc(O)cc1)NC(=O)C2CCCN2C(=O)[C@H](CCONC(=N)N)NC(=O)[C@@H](N)CCCCN)C(=O)N[C@@H](CC(C)C)C(=O)O')\n",
    "molecule_ml19 = Chem.MolFromSmiles('CC[C@H](C)[C@H](NC(=O)[C@H](Cc1ccc(O)cc1)NC(=O)C2CCCN2C(=O)[C@H](CCCCN)NC(=O)[C@@H](N)CCONC(=N)N)C(=O)N[C@@H](CC(C)C)C(=O)O')\n",
    "molecule_ml20 = Chem.MolFromSmiles('CC[C@H](C)[C@H](NC(=O)[C@H](Cc1ccc(O)cc1)NC(=O)C2CCCN2C(=O)[C@H](CCONC(=N)N)NC(=O)[C@@H](N)CCONC(=N)N)C(=O)N[C@@H](CC(C)C)C(=O)O')\n",
    "molecule_ml21 = Chem.MolFromSmiles('CC[C@H](C)[C@H](NC(=O)[C@H](Cc1ccc(O)cc1)NC(=O)C2CCCN2C(=O)[C@H](CCONC(=N)N)NC(=O)[C@@H](N)CCCNC(=N)N)C(=O)N[C@@H](CC(C)C)C(=O)O')\n",
    "molecule_ml22 = Chem.MolFromSmiles('CC[C@H](C)[C@H](NC(=O)[C@H](Cc1ccc(O)cc1)NC(=O)C2CCCN2C(=O)[C@H](CCCNC(=N)N)NC(=O)[C@@H](N)CCONC(=N)N)C(=O)N[C@@H](CC(C)C)C(=O)O')\n",
    "molecule_ml23 = Chem.MolFromSmiles('CC[C@@H](C)[C@H](NC(=O)[C@H](Cc1ccc(F)cc1)NC(=O)C2CCCN2C(=O)[C@H](CCCNC(=N)N)NC(=O)[C@@H](N)CCONC(=N)N)C(=O)N[C@@H](CC(C)C)C(=O)O')\n",
    "molecule_ml24 = Chem.MolFromSmiles('CCC(C)[C@H](NC(=O)[C@@H]1CCCN1C(=O)[C@@H](NC(=O)[C@H](C)N)C(C)C)C(=O)N[C@@H](CCCNC(=N)N)C(=O)N[C@@H](CCCNC(=N)N)C(=O)N[C@@H](CCCNC(=N)N)C(=O)N[C@@H](CCCNC(=N)N)C(=O)N[C@@H](CCCNC(=N)N)C(=O)N[C@@H](CCCNC(=N)N)C(=O)O')\n",
    "molecule_ml25 = Chem.MolFromSmiles('CC[C@H](C)[C@H](NC(=O)[C@H](Cc1ccc(O)cc1)NC(=O)C2CCCN2C(=O)[C@H](CCONC(=N)N)NC(=O)[C@H](CCONC(=N)N)NC(=O)[C@@H](NC(=O)[C@@H]3CCCN3C(=O)[C@@H](NC(=O)[C@H](C)N)C(C)C)C(C)CC)C(=O)N[C@@H](CC(C)C)C(=O)O')\n",
    "molecule_ml26 = Chem.MolFromSmiles('CC[C@H](C)[C@H](NC(=O)[C@H](Cc1ccc(O)cc1)NC(=O)C2CCCN2C(=O)[C@H](CCCNC(=N)N)NC(=O)[C@H](CCCNC(=N)N)NC(=O)[C@@H](NC(=O)[C@@H]3CCCN3C(=O)[C@@H](NC(=O)[C@H](C)N)C(C)C)C(C)CC)C(=O)N[C@@H](CC(C)C)C(=O)O')"
   ],
   "id": "56e0da8afc62543",
   "outputs": [],
   "execution_count": null
  },
  {
   "metadata": {},
   "cell_type": "code",
   "source": [
    "descriptors_ml1 = Descriptors.CalcMolDescriptors(molecule_ml1)\n",
    "descriptors_ml2 = Descriptors.CalcMolDescriptors(molecule_ml2)\n",
    "descriptors_ml3 = Descriptors.CalcMolDescriptors(molecule_ml3)\n",
    "descriptors_ml4 = Descriptors.CalcMolDescriptors(molecule_ml4)\n",
    "descriptors_ml5 = Descriptors.CalcMolDescriptors(molecule_ml5)\n",
    "descriptors_ml6 = Descriptors.CalcMolDescriptors(molecule_ml6)\n",
    "descriptors_ml7 = Descriptors.CalcMolDescriptors(molecule_ml7)\n",
    "descriptors_ml8 = Descriptors.CalcMolDescriptors(molecule_ml8)\n",
    "descriptors_ml9 = Descriptors.CalcMolDescriptors(molecule_ml9)\n",
    "descriptors_ml10 = Descriptors.CalcMolDescriptors(molecule_ml10)\n",
    "descriptors_ml11 = Descriptors.CalcMolDescriptors(molecule_ml11)\n",
    "descriptors_ml12 = Descriptors.CalcMolDescriptors(molecule_ml12)\n",
    "descriptors_ml13 = Descriptors.CalcMolDescriptors(molecule_ml13)\n",
    "descriptors_ml14 = Descriptors.CalcMolDescriptors(molecule_ml14)\n",
    "descriptors_ml15 = Descriptors.CalcMolDescriptors(molecule_ml15)\n",
    "descriptors_ml16 = Descriptors.CalcMolDescriptors(molecule_ml16)\n",
    "descriptors_ml17 = Descriptors.CalcMolDescriptors(molecule_ml17)\n",
    "descriptors_ml18 = Descriptors.CalcMolDescriptors(molecule_ml18)\n",
    "descriptors_ml19 = Descriptors.CalcMolDescriptors(molecule_ml19)\n",
    "descriptors_ml20 = Descriptors.CalcMolDescriptors(molecule_ml20)\n",
    "descriptors_ml21 = Descriptors.CalcMolDescriptors(molecule_ml21)\n",
    "descriptors_ml22 = Descriptors.CalcMolDescriptors(molecule_ml22)\n",
    "descriptors_ml23 = Descriptors.CalcMolDescriptors(molecule_ml23)\n",
    "descriptors_ml24 = Descriptors.CalcMolDescriptors(molecule_ml24)\n",
    "descriptors_ml25 = Descriptors.CalcMolDescriptors(molecule_ml25)\n",
    "descriptors_ml26 = Descriptors.CalcMolDescriptors(molecule_ml26)"
   ],
   "id": "951c9abb891674cd",
   "outputs": [],
   "execution_count": null
  },
  {
   "metadata": {},
   "cell_type": "code",
   "source": [
    "molecular_descriptors_test_peptides = {\n",
    "    'MolWt': [],\n",
    "    'NHOHCount': [],\n",
    "    'NOCount': [],\n",
    "    'NumHAcceptors': [],\n",
    "    'NumHDonors': [],\n",
    "    'NumRotatableBonds': [],\n",
    "    'MolLogP': [],\n",
    "    'TPSA': []\n",
    "}\n",
    "\n",
    "def molecular_descriptors_calculation_peptides(descriptors_dict):\n",
    "    for descriptor, value in descriptors_dict.items():\n",
    "        if descriptor == 'MolWt':\n",
    "            molecular_descriptors_test_peptides['MolWt'].append(value)\n",
    "        elif descriptor == 'NHOHCount':\n",
    "            molecular_descriptors_test_peptides['NHOHCount'].append(value)\n",
    "        elif descriptor == 'NOCount':\n",
    "            molecular_descriptors_test_peptides['NOCount'].append(value)\n",
    "        elif descriptor == 'NumHAcceptors':\n",
    "            molecular_descriptors_test_peptides['NumHAcceptors'].append(value)\n",
    "        elif descriptor == 'NumHDonors':\n",
    "            molecular_descriptors_test_peptides['NumHDonors'].append(value)\n",
    "        elif descriptor == 'NumRotatableBonds':\n",
    "            molecular_descriptors_test_peptides['NumRotatableBonds'].append(value)\n",
    "        elif descriptor == 'MolLogP':\n",
    "            molecular_descriptors_test_peptides['MolLogP'].append(value)\n",
    "        elif descriptor == 'TPSA':\n",
    "            molecular_descriptors_test_peptides['TPSA'].append(value)"
   ],
   "id": "4acabc2dce92a657",
   "outputs": [],
   "execution_count": null
  },
  {
   "metadata": {},
   "cell_type": "code",
   "source": [
    "molecular_descriptors_calculation_peptides(descriptors_ml1)\n",
    "molecular_descriptors_calculation_peptides(descriptors_ml2)\n",
    "molecular_descriptors_calculation_peptides(descriptors_ml3)\n",
    "molecular_descriptors_calculation_peptides(descriptors_ml4)\n",
    "molecular_descriptors_calculation_peptides(descriptors_ml5)\n",
    "molecular_descriptors_calculation_peptides(descriptors_ml6)\n",
    "molecular_descriptors_calculation_peptides(descriptors_ml7)\n",
    "molecular_descriptors_calculation_peptides(descriptors_ml8)\n",
    "molecular_descriptors_calculation_peptides(descriptors_ml9)\n",
    "molecular_descriptors_calculation_peptides(descriptors_ml10)\n",
    "molecular_descriptors_calculation_peptides(descriptors_ml11)\n",
    "molecular_descriptors_calculation_peptides(descriptors_ml12)\n",
    "molecular_descriptors_calculation_peptides(descriptors_ml13)\n",
    "molecular_descriptors_calculation_peptides(descriptors_ml14)\n",
    "molecular_descriptors_calculation_peptides(descriptors_ml15)\n",
    "molecular_descriptors_calculation_peptides(descriptors_ml16)\n",
    "molecular_descriptors_calculation_peptides(descriptors_ml17)\n",
    "molecular_descriptors_calculation_peptides(descriptors_ml18)\n",
    "molecular_descriptors_calculation_peptides(descriptors_ml19)\n",
    "molecular_descriptors_calculation_peptides(descriptors_ml20)\n",
    "molecular_descriptors_calculation_peptides(descriptors_ml21)\n",
    "molecular_descriptors_calculation_peptides(descriptors_ml22)\n",
    "molecular_descriptors_calculation_peptides(descriptors_ml23)\n",
    "molecular_descriptors_calculation_peptides(descriptors_ml24)\n",
    "molecular_descriptors_calculation_peptides(descriptors_ml25)\n",
    "molecular_descriptors_calculation_peptides(descriptors_ml26)"
   ],
   "id": "cb884e7900e413b0",
   "outputs": [],
   "execution_count": null
  },
  {
   "metadata": {},
   "cell_type": "code",
   "source": "attributes_lipinski_train, attributes_lipinski_test, target_lipinski_train, target_lipinski_test = train_test_split(dataset_with_nviolations[['mw', 'xlogp', 'hbonddonor', 'hbondacc']], dataset_with_nviolations[['nviolations_lipinski_rule']], test_size=0.2, random_state=42)",
   "id": "f87735e70db6cc82",
   "outputs": [],
   "execution_count": null
  },
  {
   "metadata": {},
   "cell_type": "code",
   "source": "attributes_bro_train, attributes_bro_test, target_bro_train, target_bro_test = train_test_split(dataset_with_nviolations[['mw', 'xlogp', 'hbonddonor', 'hbondacc', 'polararea', 'rotbonds']], dataset_with_nviolations[['nviolations_bro_rule']], test_size=0.2, random_state=42)",
   "id": "62168c97b7802d8b",
   "outputs": [],
   "execution_count": null
  },
  {
   "metadata": {},
   "cell_type": "code",
   "source": "attributes_muegge_train, attributes_muegge_test, target_muegge_train, target_muegge_test = train_test_split(dataset_with_nviolations[['mw', 'xlogp', 'hbonddonor', 'hbondacc', 'polararea', 'rotbonds']], dataset_with_nviolations[['nviolations_muegge_rule']], test_size=0.2, random_state=42)",
   "id": "713169c05e99e36f",
   "outputs": [],
   "execution_count": null
  },
  {
   "metadata": {},
   "cell_type": "code",
   "source": [
    "rf_lipinski = RandomForestClassifier()\n",
    "\n",
    "param_grid = {\n",
    "    'n_estimators': [10, 20, 30],\n",
    "    'max_depth': [None, 10, 20],\n",
    "    'max_features': ['sqrt', 'log2'],\n",
    "    'min_samples_split': [2, 5],\n",
    "    'min_samples_leaf': [1, 4],\n",
    "    'bootstrap': [True, False]\n",
    "}\n",
    "\n",
    "grid_search = GridSearchCV(estimator=rf_lipinski, param_grid=param_grid,\n",
    "                           cv=5, scoring='accuracy', n_jobs=1, verbose=2)\n",
    "\n",
    "grid_search.fit(attributes_lipinski_train, target_lipinski_train)\n",
    "\n",
    "print(\"Best parameters:\", grid_search.best_params_)\n",
    "print(\"Best accuracy:\", grid_search.best_score_)"
   ],
   "id": "5bd75ca0b4eb941b",
   "outputs": [],
   "execution_count": null
  },
  {
   "metadata": {},
   "cell_type": "code",
   "source": [
    "rf_lipinski = RandomForestClassifier()\n",
    "\n",
    "param_grid = {\n",
    "    'n_estimators': [10, 20, 30],\n",
    "    'max_depth': [None, 10, 20],\n",
    "    'max_features': ['sqrt', 'log2'],\n",
    "    'min_samples_split': [2, 5],\n",
    "    'min_samples_leaf': [1, 4],\n",
    "    'bootstrap': [True, False]\n",
    "}\n",
    "\n",
    "scorer = make_scorer(precision_score, average='macro')\n",
    "\n",
    "grid_search = GridSearchCV(estimator=rf_lipinski, param_grid=param_grid,\n",
    "                           cv=5, scoring=scorer, n_jobs=1, verbose=2)\n",
    "\n",
    "grid_search.fit(attributes_lipinski_train, target_lipinski_train)\n",
    "\n",
    "print(\"Best parameters:\", grid_search.best_params_)\n",
    "print(\"Best precision:\", grid_search.best_score_)"
   ],
   "id": "8e3b8633e388411c",
   "outputs": [],
   "execution_count": null
  },
  {
   "metadata": {},
   "cell_type": "code",
   "source": [
    "rf_lipinski = RandomForestClassifier()\n",
    "\n",
    "param_grid = {\n",
    "    'n_estimators': [10, 20, 30],\n",
    "    'max_depth': [None, 10, 20],\n",
    "    'max_features': ['sqrt', 'log2'],\n",
    "    'min_samples_split': [2, 5],\n",
    "    'min_samples_leaf': [1, 4],\n",
    "    'bootstrap': [True, False]\n",
    "}\n",
    "\n",
    "scorer = make_scorer(recall_score, average='macro')\n",
    "\n",
    "grid_search = GridSearchCV(estimator=rf_lipinski, param_grid=param_grid,\n",
    "                           cv=5, scoring=scorer, n_jobs=1, verbose=2)\n",
    "\n",
    "grid_search.fit(attributes_lipinski_train, target_lipinski_train)\n",
    "\n",
    "print(\"Best parameters:\", grid_search.best_params_)\n",
    "print(\"Best recall:\", grid_search.best_score_)"
   ],
   "id": "eb882d1c55b75b23",
   "outputs": [],
   "execution_count": null
  },
  {
   "metadata": {},
   "cell_type": "code",
   "source": [
    "rf_lipinski = RandomForestClassifier()\n",
    "\n",
    "param_grid = {\n",
    "    'n_estimators': [10, 20, 30],\n",
    "    'max_depth': [None, 10, 20],\n",
    "    'max_features': ['sqrt', 'log2'],\n",
    "    'min_samples_split': [2, 5],\n",
    "    'min_samples_leaf': [1, 4],\n",
    "    'bootstrap': [True, False]\n",
    "}\n",
    "\n",
    "scorer = make_scorer(f1_score, average='macro')\n",
    "\n",
    "grid_search = GridSearchCV(estimator=rf_lipinski, param_grid=param_grid,\n",
    "                           cv=5, scoring=scorer, n_jobs=1, verbose=2)\n",
    "\n",
    "grid_search.fit(attributes_lipinski_train, target_lipinski_train)\n",
    "\n",
    "print(\"Best parameters:\", grid_search.best_params_)\n",
    "print(\"Best F1:\", grid_search.best_score_)"
   ],
   "id": "1981a88f9fe0717c",
   "outputs": [],
   "execution_count": null
  },
  {
   "metadata": {},
   "cell_type": "code",
   "source": [
    "rf_muegge = RandomForestClassifier()\n",
    "\n",
    "param_grid = {\n",
    "    'n_estimators': [10, 20, 30],\n",
    "    'max_depth': [None, 10, 20],\n",
    "    'max_features': ['sqrt', 'log2'],\n",
    "    'min_samples_split': [2, 5],\n",
    "    'min_samples_leaf': [1, 4],\n",
    "    'bootstrap': [True, False]\n",
    "}\n",
    "\n",
    "grid_search = GridSearchCV(estimator=rf_muegge, param_grid=param_grid,\n",
    "                           cv=5, scoring='accuracy', n_jobs=1, verbose=2)\n",
    "\n",
    "grid_search.fit(attributes_muegge_train, target_muegge_train)\n",
    "\n",
    "print(\"Best parameters:\", grid_search.best_params_)\n",
    "print(\"Best accuracy:\", grid_search.best_score_)"
   ],
   "id": "f177676971de233a",
   "outputs": [],
   "execution_count": null
  },
  {
   "metadata": {},
   "cell_type": "code",
   "source": [
    "rf_muegge = RandomForestClassifier()\n",
    "\n",
    "param_grid = {\n",
    "    'n_estimators': [10, 20, 30],\n",
    "    'max_depth': [None, 10, 20],\n",
    "    'max_features': ['sqrt', 'log2'],\n",
    "    'min_samples_split': [2, 5],\n",
    "    'min_samples_leaf': [1, 4],\n",
    "    'bootstrap': [True, False]\n",
    "}\n",
    "\n",
    "scorer = make_scorer(precision_score, average='macro')\n",
    "\n",
    "grid_search = GridSearchCV(estimator=rf_muegge, param_grid=param_grid,\n",
    "                           cv=5, scoring=scorer, n_jobs=1, verbose=2)\n",
    "\n",
    "grid_search.fit(attributes_muegge_train, target_muegge_train)\n",
    "\n",
    "print(\"Best parameters:\", grid_search.best_params_)\n",
    "print(\"Best precision:\", grid_search.best_score_)"
   ],
   "id": "580bbda0bbbe209",
   "outputs": [],
   "execution_count": null
  },
  {
   "metadata": {},
   "cell_type": "code",
   "source": [
    "rf_muegge = RandomForestClassifier()\n",
    "\n",
    "param_grid = {\n",
    "    'n_estimators': [10, 20, 30],\n",
    "    'max_depth': [None, 10, 20],\n",
    "    'max_features': ['sqrt', 'log2'],\n",
    "    'min_samples_split': [2, 5],\n",
    "    'min_samples_leaf': [1, 4],\n",
    "    'bootstrap': [True, False]\n",
    "}\n",
    "\n",
    "scorer = make_scorer(recall_score, average='macro')\n",
    "\n",
    "grid_search = GridSearchCV(estimator=rf_muegge, param_grid=param_grid,\n",
    "                           cv=5, scoring=scorer, n_jobs=1, verbose=2)\n",
    "\n",
    "grid_search.fit(attributes_muegge_train, target_muegge_train)\n",
    "\n",
    "print(\"Best parameters:\", grid_search.best_params_)\n",
    "print(\"Best recall:\", grid_search.best_score_)"
   ],
   "id": "b0d28047d486c815",
   "outputs": [],
   "execution_count": null
  },
  {
   "metadata": {},
   "cell_type": "code",
   "source": [
    "rf_muegge = RandomForestClassifier()\n",
    "\n",
    "param_grid = {\n",
    "    'n_estimators': [10, 20, 30],\n",
    "    'max_depth': [None, 10, 20],\n",
    "    'max_features': ['sqrt', 'log2'],\n",
    "    'min_samples_split': [2, 5],\n",
    "    'min_samples_leaf': [1, 4],\n",
    "    'bootstrap': [True, False]\n",
    "}\n",
    "\n",
    "scorer = make_scorer(f1_score, average='macro')\n",
    "\n",
    "grid_search = GridSearchCV(estimator=rf_muegge, param_grid=param_grid,\n",
    "                           cv=5, scoring=scorer, n_jobs=1, verbose=2)\n",
    "\n",
    "grid_search.fit(attributes_muegge_train, target_muegge_train)\n",
    "\n",
    "print(\"Best parameters:\", grid_search.best_params_)\n",
    "print(\"Best F1:\", grid_search.best_score_)"
   ],
   "id": "5c6927e753b138ed",
   "outputs": [],
   "execution_count": null
  },
  {
   "metadata": {},
   "cell_type": "code",
   "source": [
    "rf_bro = RandomForestClassifier()\n",
    "\n",
    "param_grid = {\n",
    "    'n_estimators': [10, 20, 30],\n",
    "    'max_depth': [None, 10, 20],\n",
    "    'max_features': ['sqrt', 'log2'],\n",
    "    'min_samples_split': [2, 5],\n",
    "    'min_samples_leaf': [1, 4],\n",
    "    'bootstrap': [True, False]\n",
    "}\n",
    "\n",
    "grid_search = GridSearchCV(estimator=rf_bro, param_grid=param_grid,\n",
    "                           cv=5, scoring='accuracy', n_jobs=1, verbose=2)\n",
    "\n",
    "grid_search.fit(attributes_bro_train, target_bro_train)\n",
    "\n",
    "print(\"Best parameters:\", grid_search.best_params_)\n",
    "print(\"Best accuracy:\", grid_search.best_score_)"
   ],
   "id": "eb3977cf8d80e8dd",
   "outputs": [],
   "execution_count": null
  },
  {
   "metadata": {},
   "cell_type": "code",
   "source": [
    "rf_bro = RandomForestClassifier()\n",
    "\n",
    "param_grid = {\n",
    "    'n_estimators': [10, 20, 30],\n",
    "    'max_depth': [None, 10, 20],\n",
    "    'max_features': ['sqrt', 'log2'],\n",
    "    'min_samples_split': [2, 5],\n",
    "    'min_samples_leaf': [1, 4],\n",
    "    'bootstrap': [True, False]\n",
    "}\n",
    "\n",
    "scorer = make_scorer(precision_score, average='macro')\n",
    "\n",
    "grid_search = GridSearchCV(estimator=rf_bro, param_grid=param_grid,\n",
    "                           cv=5, scoring=scorer, n_jobs=1, verbose=2)\n",
    "\n",
    "grid_search.fit(attributes_bro_train, target_bro_train)\n",
    "\n",
    "print(\"Best parameters:\", grid_search.best_params_)\n",
    "print(\"Best precision:\", grid_search.best_score_)"
   ],
   "id": "47720a4eaac3f912",
   "outputs": [],
   "execution_count": null
  },
  {
   "metadata": {},
   "cell_type": "code",
   "source": [
    "rf_bro = RandomForestClassifier()\n",
    "\n",
    "param_grid = {\n",
    "    'n_estimators': [10, 20, 30],\n",
    "    'max_depth': [None, 10, 20],\n",
    "    'max_features': ['sqrt', 'log2'],\n",
    "    'min_samples_split': [2, 5],\n",
    "    'min_samples_leaf': [1, 4],\n",
    "    'bootstrap': [True, False]\n",
    "}\n",
    "\n",
    "scorer = make_scorer(recall_score, average='macro')\n",
    "\n",
    "grid_search = GridSearchCV(estimator=rf_bro, param_grid=param_grid,\n",
    "                           cv=5, scoring=scorer, n_jobs=1, verbose=2)\n",
    "\n",
    "grid_search.fit(attributes_bro_train, target_bro_train)\n",
    "\n",
    "print(\"Best parameters:\", grid_search.best_params_)\n",
    "print(\"Best recall:\", grid_search.best_score_)"
   ],
   "id": "5ba3f7e239ad09dc",
   "outputs": [],
   "execution_count": null
  },
  {
   "metadata": {},
   "cell_type": "code",
   "source": [
    "rf_bro = RandomForestClassifier()\n",
    "\n",
    "param_grid = {\n",
    "    'n_estimators': [10, 20, 30],\n",
    "    'max_depth': [None, 10, 20],\n",
    "    'max_features': ['sqrt', 'log2'],\n",
    "    'min_samples_split': [2, 5],\n",
    "    'min_samples_leaf': [1, 4],\n",
    "    'bootstrap': [True, False]\n",
    "}\n",
    "\n",
    "scorer = make_scorer(f1_score, average='macro')\n",
    "\n",
    "grid_search = GridSearchCV(estimator=rf_bro, param_grid=param_grid,\n",
    "                           cv=5, scoring=scorer, n_jobs=1, verbose=2)\n",
    "\n",
    "grid_search.fit(attributes_bro_train, target_bro_train)\n",
    "\n",
    "print(\"Best parameters:\", grid_search.best_params_)\n",
    "print(\"Best F1:\", grid_search.best_score_)"
   ],
   "id": "4f8cf58d484f4200",
   "outputs": [],
   "execution_count": null
  },
  {
   "metadata": {},
   "cell_type": "code",
   "source": "model_lipinski_10 = RandomForestClassifier(n_estimators=10)",
   "id": "f3a7f907cf80c900",
   "outputs": [],
   "execution_count": null
  },
  {
   "metadata": {},
   "cell_type": "code",
   "source": "model_lipinski_20 = RandomForestClassifier(n_estimators=20)",
   "id": "58721f1d96bf9c34",
   "outputs": [],
   "execution_count": null
  },
  {
   "metadata": {},
   "cell_type": "code",
   "source": "model_lipinski_30 = RandomForestClassifier(n_estimators=30)",
   "id": "b318adfcd54f2ac6",
   "outputs": [],
   "execution_count": null
  },
  {
   "metadata": {},
   "cell_type": "code",
   "source": "model_bro_10 = RandomForestClassifier(n_estimators=10)",
   "id": "4bb7894184662852",
   "outputs": [],
   "execution_count": null
  },
  {
   "metadata": {},
   "cell_type": "code",
   "source": "model_bro_20 = RandomForestClassifier(n_estimators=20)",
   "id": "eec38787e18ad028",
   "outputs": [],
   "execution_count": null
  },
  {
   "metadata": {},
   "cell_type": "code",
   "source": "model_bro_30 = RandomForestClassifier(n_estimators=30)",
   "id": "eb0533eb0d6c6cf0",
   "outputs": [],
   "execution_count": null
  },
  {
   "metadata": {},
   "cell_type": "code",
   "source": "model_muegge_10 = RandomForestClassifier(n_estimators=10)",
   "id": "f1fc76202795b699",
   "outputs": [],
   "execution_count": null
  },
  {
   "metadata": {},
   "cell_type": "code",
   "outputs": [],
   "execution_count": null,
   "source": "model_muegge_20 = RandomForestClassifier(n_estimators=20)",
   "id": "16e6326695618fa4"
  },
  {
   "metadata": {},
   "cell_type": "code",
   "outputs": [],
   "execution_count": null,
   "source": "model_muegge_30 = RandomForestClassifier(n_estimators=30)",
   "id": "cf722a89e9ad5d20"
  },
  {
   "metadata": {},
   "cell_type": "code",
   "source": "model_lipinski_10.fit(attributes_lipinski_train, target_lipinski_train)",
   "id": "9a20809f6ca69b19",
   "outputs": [],
   "execution_count": null
  },
  {
   "metadata": {},
   "cell_type": "code",
   "source": "model_lipinski_20.fit(attributes_lipinski_train, target_lipinski_train)",
   "id": "dbbc44284c4e4da6",
   "outputs": [],
   "execution_count": null
  },
  {
   "metadata": {},
   "cell_type": "code",
   "source": "model_lipinski_30.fit(attributes_lipinski_train, target_lipinski_train)",
   "id": "e0a800f0ba134efe",
   "outputs": [],
   "execution_count": null
  },
  {
   "metadata": {},
   "cell_type": "code",
   "source": "model_bro_10.fit(attributes_bro_train, target_bro_train)",
   "id": "229a7328531a334d",
   "outputs": [],
   "execution_count": null
  },
  {
   "metadata": {},
   "cell_type": "code",
   "source": "model_bro_20.fit(attributes_bro_train, target_bro_train)",
   "id": "797825cb10aec4c",
   "outputs": [],
   "execution_count": null
  },
  {
   "metadata": {},
   "cell_type": "code",
   "source": "model_bro_30.fit(attributes_bro_train, target_bro_train)",
   "id": "7c9ef07ed33cbdd3",
   "outputs": [],
   "execution_count": null
  },
  {
   "metadata": {},
   "cell_type": "code",
   "source": "model_muegge_10.fit(attributes_muegge_train, target_muegge_train)",
   "id": "1a0b510ab024910",
   "outputs": [],
   "execution_count": null
  },
  {
   "metadata": {},
   "cell_type": "code",
   "source": "model_muegge_20.fit(attributes_muegge_train, target_muegge_train)",
   "id": "d0c44ff4ad5c79ae",
   "outputs": [],
   "execution_count": null
  },
  {
   "metadata": {},
   "cell_type": "code",
   "source": "model_muegge_30.fit(attributes_muegge_train, target_muegge_train)",
   "id": "a67d0877a36f64f1",
   "outputs": [],
   "execution_count": null
  },
  {
   "metadata": {},
   "cell_type": "code",
   "source": [
    "test_prediction_lipinski_10 = model_lipinski_10.predict(attributes_lipinski_test)\n",
    "test_prediction_lipinski_20 = model_lipinski_20.predict(attributes_lipinski_test)\n",
    "test_prediction_lipinski_30 = model_lipinski_30.predict(attributes_lipinski_test)"
   ],
   "id": "5590b79e75c5c9e5",
   "outputs": [],
   "execution_count": null
  },
  {
   "metadata": {},
   "cell_type": "code",
   "source": [
    "test_prediction_bro_10 = model_bro_10.predict(attributes_bro_test)\n",
    "test_prediction_bro_20 = model_bro_20.predict(attributes_bro_test)\n",
    "test_prediction_bro_30 = model_bro_30.predict(attributes_bro_test)"
   ],
   "id": "67f56b503a3500bc",
   "outputs": [],
   "execution_count": null
  },
  {
   "metadata": {},
   "cell_type": "code",
   "source": [
    "test_predicton_muegge_10 = model_muegge_10.predict(attributes_muegge_test)\n",
    "test_predicton_muegge_20 = model_muegge_20.predict(attributes_muegge_test)\n",
    "test_predicton_muegge_30 = model_muegge_30.predict(attributes_muegge_test)"
   ],
   "id": "f8a621262bc0b12a",
   "outputs": [],
   "execution_count": null
  },
  {
   "metadata": {},
   "cell_type": "code",
   "source": [
    "accuracy_lipinski_model_10 = accuracy_score(target_lipinski_test, test_prediction_lipinski_10)\n",
    "accuracy_lipinski_model_20 = accuracy_score(target_lipinski_test, test_prediction_lipinski_20)\n",
    "accuracy_lipinski_model_30 = accuracy_score(target_lipinski_test, test_prediction_lipinski_30)"
   ],
   "id": "4586ad63e1ad0624",
   "outputs": [],
   "execution_count": null
  },
  {
   "metadata": {},
   "cell_type": "code",
   "source": [
    "accuracy_bro_model_10 = accuracy_score(target_bro_test, test_prediction_bro_10)\n",
    "accuracy_bro_model_20 = accuracy_score(target_bro_test, test_prediction_bro_20)\n",
    "accuracy_bro_model_30 = accuracy_score(target_bro_test, test_prediction_bro_30)"
   ],
   "id": "dcb36d5865799e33",
   "outputs": [],
   "execution_count": null
  },
  {
   "metadata": {},
   "cell_type": "code",
   "source": [
    "accuracy_muegge_model_10 = accuracy_score(target_muegge_test, test_predicton_muegge_10)\n",
    "accuracy_muegge_model_20 = accuracy_score(target_muegge_test, test_predicton_muegge_20)\n",
    "accuracy_muegge_model_30 = accuracy_score(target_muegge_test, test_predicton_muegge_30)"
   ],
   "id": "d83fee2f54b8ba48",
   "outputs": [],
   "execution_count": null
  },
  {
   "metadata": {},
   "cell_type": "code",
   "source": [
    "print(\"Accuracy of Lipinski model with 10 trees:\", accuracy_lipinski_model_10)\n",
    "print(\"Accuracy of Lipinski model with 20 trees:\", accuracy_lipinski_model_20)\n",
    "print(\"Accuracy of Lipinski model with 30 trees:\", accuracy_lipinski_model_30)"
   ],
   "id": "3285a7d2b2d9abc",
   "outputs": [],
   "execution_count": null
  },
  {
   "metadata": {},
   "cell_type": "code",
   "source": [
    "print(\"Accuracy of Bro model with 10 trees:\", accuracy_bro_model_10)\n",
    "print(\"Accuracy of Bro model with 20 trees:\", accuracy_bro_model_20)\n",
    "print(\"Accuracy of Bro model with 30 trees:\", accuracy_bro_model_30)"
   ],
   "id": "b24f8ec7b078f2f7",
   "outputs": [],
   "execution_count": null
  },
  {
   "metadata": {},
   "cell_type": "code",
   "source": [
    "print(\"Accuracy of Muegge model with 10 trees:\", accuracy_muegge_model_10)\n",
    "print(\"Accuracy of Muegge model with 20 trees:\", accuracy_muegge_model_20)\n",
    "print(\"Accuracy of Muegge model with 30 trees:\", accuracy_muegge_model_30)"
   ],
   "id": "fc08418f55718049",
   "outputs": [],
   "execution_count": null
  },
  {
   "metadata": {},
   "cell_type": "code",
   "source": [
    "precision_lipinski_model_10 = precision_score(target_lipinski_test, test_prediction_lipinski_10, average='weighted')\n",
    "precision_lipinski_model_20 = precision_score(target_lipinski_test, test_prediction_lipinski_20, average='weighted')\n",
    "precision_lipinski_model_30 = precision_score(target_lipinski_test, test_prediction_lipinski_30, average='weighted')"
   ],
   "id": "adbe148296c4f1d9",
   "outputs": [],
   "execution_count": null
  },
  {
   "metadata": {},
   "cell_type": "code",
   "source": [
    "precision_bro_model_10 = precision_score(target_bro_test, test_prediction_bro_10, average='weighted')\n",
    "precision_bro_model_20 = precision_score(target_bro_test, test_prediction_bro_20, average='weighted')\n",
    "precision_bro_model_30 = precision_score(target_bro_test, test_prediction_bro_30, average='weighted')"
   ],
   "id": "9d620882b00aa5a",
   "outputs": [],
   "execution_count": null
  },
  {
   "metadata": {},
   "cell_type": "code",
   "source": [
    "precision_muegge_model_10 = precision_score(target_muegge_test, test_predicton_muegge_10, average='weighted')\n",
    "precision_muegge_model_20 = precision_score(target_muegge_test, test_predicton_muegge_20, average='weighted')\n",
    "precision_muegge_model_30 = precision_score(target_muegge_test, test_predicton_muegge_30, average='weighted')"
   ],
   "id": "aab5ed53abf409d5",
   "outputs": [],
   "execution_count": null
  },
  {
   "metadata": {},
   "cell_type": "code",
   "source": [
    "print(\"Precision of Lipinski model with 10 trees:\", precision_lipinski_model_10)\n",
    "print(\"Precision of Lipinski model with 20 trees:\", precision_lipinski_model_20)\n",
    "print(\"Precision of Lipinski model with 30 trees:\", precision_lipinski_model_30)"
   ],
   "id": "c8105a953ca47ceb",
   "outputs": [],
   "execution_count": null
  },
  {
   "metadata": {},
   "cell_type": "code",
   "source": [
    "print(\"Precision of Bro model with 10 trees:\", precision_bro_model_10)\n",
    "print(\"Precision of Bro model with 20 trees:\", precision_bro_model_20)\n",
    "print(\"Precision of Bro model with 30 trees:\", precision_bro_model_30)"
   ],
   "id": "646e3b3b9d5c07cf",
   "outputs": [],
   "execution_count": null
  },
  {
   "metadata": {},
   "cell_type": "code",
   "source": [
    "print(\"Precision of Muegge model with 10 trees:\", precision_muegge_model_10)\n",
    "print(\"Precision of Muegge model with 20 trees:\", precision_muegge_model_20)\n",
    "print(\"Precision of Muegge model with 30 trees:\", precision_muegge_model_30)"
   ],
   "id": "75fca296cbd585a3",
   "outputs": [],
   "execution_count": null
  },
  {
   "metadata": {},
   "cell_type": "code",
   "source": [
    "recall_lipinski_10 = recall_score(target_lipinski_test, test_prediction_lipinski_10, average='weighted')\n",
    "recall_lipinski_20 = recall_score(target_lipinski_test, test_prediction_lipinski_20, average='weighted')\n",
    "recall_lipinski_30 = recall_score(target_lipinski_test, test_prediction_lipinski_30, average='weighted')"
   ],
   "id": "be4b281466936aca",
   "outputs": [],
   "execution_count": null
  },
  {
   "metadata": {},
   "cell_type": "code",
   "source": [
    "recall_bro_10 = recall_score(target_bro_test, test_prediction_bro_10, average='weighted')\n",
    "recall_bro_20 = recall_score(target_bro_test, test_prediction_bro_20, average='weighted')\n",
    "recall_bro_30 = recall_score(target_bro_test, test_prediction_bro_30, average='weighted')"
   ],
   "id": "4da9bd3c44a06c80",
   "outputs": [],
   "execution_count": null
  },
  {
   "metadata": {},
   "cell_type": "code",
   "source": [
    "recall_muegge_10 = recall_score(target_muegge_test, test_predicton_muegge_10, average='weighted')\n",
    "recall_muegge_20 = recall_score(target_muegge_test, test_predicton_muegge_20, average='weighted')\n",
    "recall_muegge_30 = recall_score(target_muegge_test, test_predicton_muegge_30, average='weighted')"
   ],
   "id": "3c88673440f9a3f8",
   "outputs": [],
   "execution_count": null
  },
  {
   "metadata": {},
   "cell_type": "code",
   "source": [
    "print(\"Recall of Lipinski model with 10 trees:\", recall_lipinski_10)\n",
    "print(\"Recall of Lipinski model with 20 trees:\", recall_lipinski_20)\n",
    "print(\"Recall of Lipinski model with 30 trees:\", recall_lipinski_30)"
   ],
   "id": "a6e140ee7499b740",
   "outputs": [],
   "execution_count": null
  },
  {
   "metadata": {},
   "cell_type": "code",
   "source": [
    "print(\"Recall of Bro model with 10 trees:\", recall_bro_10)\n",
    "print(\"Recall of Bro model with 20 trees:\", recall_bro_20)\n",
    "print(\"Recall of Bro model with 30 trees:\", recall_bro_30)"
   ],
   "id": "cef9ef31217f3bc5",
   "outputs": [],
   "execution_count": null
  },
  {
   "metadata": {},
   "cell_type": "code",
   "source": [
    "print(\"Recall of Muegge model with 10 trees:\", recall_muegge_10)\n",
    "print(\"Recall of Muegge model with 20 trees:\", recall_muegge_20)\n",
    "print(\"Recall of Muegge model with 30 trees:\", recall_muegge_30)"
   ],
   "id": "c4c4f5ae0fdb18a5",
   "outputs": [],
   "execution_count": null
  },
  {
   "metadata": {},
   "cell_type": "code",
   "source": [
    "f1_score_lipinski_10 = f1_score(target_lipinski_test, test_prediction_lipinski_10, average='weighted')\n",
    "f1_score_lipinski_20 = f1_score(target_lipinski_test, test_prediction_lipinski_20, average='weighted')\n",
    "f1_score_lipinski_30 = f1_score(target_lipinski_test, test_prediction_lipinski_30, average='weighted')"
   ],
   "id": "b481dc55628c12ed",
   "outputs": [],
   "execution_count": null
  },
  {
   "metadata": {},
   "cell_type": "code",
   "source": [
    "f1_score_bro_10 = f1_score(target_bro_test, test_prediction_bro_10, average='weighted')\n",
    "f1_score_bro_20 = f1_score(target_bro_test, test_prediction_bro_20, average='weighted')\n",
    "f1_score_bro_30 = f1_score(target_bro_test, test_prediction_bro_30, average='weighted')"
   ],
   "id": "a04c1589f03f4d47",
   "outputs": [],
   "execution_count": null
  },
  {
   "metadata": {},
   "cell_type": "code",
   "source": [
    "f1_score_muegge_10 = f1_score(target_muegge_test, test_predicton_muegge_10, average='weighted')\n",
    "f1_score_muegge_20 = f1_score(target_muegge_test, test_predicton_muegge_20, average='weighted')\n",
    "f1_score_muegge_30 = f1_score(target_muegge_test, test_predicton_muegge_30, average='weighted')"
   ],
   "id": "f6d63599e7715da8",
   "outputs": [],
   "execution_count": null
  },
  {
   "metadata": {},
   "cell_type": "code",
   "source": [
    "print(\"F1 Score of Lipinski model with 10 trees:\", f1_score_lipinski_10)\n",
    "print(\"F1 Score of Lipinski model with 20 trees:\", f1_score_lipinski_20)\n",
    "print(\"F1 Score of Lipinski model with 30 trees:\", f1_score_lipinski_30)"
   ],
   "id": "9cbe40b400961016",
   "outputs": [],
   "execution_count": null
  },
  {
   "metadata": {},
   "cell_type": "code",
   "source": [
    "print(\"F1 Score of Bro model with 10 trees:\", f1_score_bro_10)\n",
    "print(\"F1 Score of Bro model with 20 trees:\", f1_score_bro_20)\n",
    "print(\"F1 Score of Bro model with 30 trees:\", f1_score_bro_30)"
   ],
   "id": "aef7f8a6a940f198",
   "outputs": [],
   "execution_count": null
  },
  {
   "metadata": {},
   "cell_type": "code",
   "source": [
    "print(\"F1 Score of Muegge model with 10 trees:\", f1_score_muegge_10)\n",
    "print(\"F1 Score of Muegge model with 20 trees:\", f1_score_muegge_20)\n",
    "print(\"F1 Score of Muegge model with 30 trees:\", f1_score_muegge_30)"
   ],
   "id": "ea1a59d4438485ee",
   "outputs": [],
   "execution_count": null
  },
  {
   "metadata": {},
   "cell_type": "code",
   "source": [
    "plt.scatter(target_lipinski_test, test_prediction_lipinski_10, alpha=0.5, color='black')\n",
    "plt.xlabel(\"Test Values\")\n",
    "plt.ylabel(\"Predicted Values\")\n",
    "plt.title(\"Scatter plot: Random Forest Classifier (Lipinski 10 Trees)\")\n",
    "plt.grid(True)\n",
    "plt.show()"
   ],
   "id": "798505827151b332",
   "outputs": [],
   "execution_count": null
  },
  {
   "metadata": {},
   "cell_type": "code",
   "source": [
    "plt.scatter(target_lipinski_test, test_prediction_lipinski_20, alpha=0.5, color='black')\n",
    "plt.xlabel(\"Test Values\")\n",
    "plt.ylabel(\"Predicted Values\")\n",
    "plt.title(\"Scatter plot: Random Forest Classifier (Lipinski 20 Trees)\")\n",
    "plt.grid(True)\n",
    "plt.show()"
   ],
   "id": "bbab84d82fc9e0eb",
   "outputs": [],
   "execution_count": null
  },
  {
   "metadata": {},
   "cell_type": "code",
   "source": [
    "plt.scatter(target_lipinski_test, test_prediction_lipinski_30, alpha=0.5, color='black')\n",
    "plt.xlabel(\"Test Values\")\n",
    "plt.ylabel(\"Predicted Values\")\n",
    "plt.title(\"Scatter plot: Random Forest Classifier (Lipinski 30 Trees)\")\n",
    "plt.grid(True)\n",
    "plt.show()"
   ],
   "id": "ea89035f9f298fe6",
   "outputs": [],
   "execution_count": null
  },
  {
   "metadata": {},
   "cell_type": "code",
   "source": [
    "plt.scatter(target_muegge_test, test_predicton_muegge_10, alpha=0.5, color='black')\n",
    "plt.xlabel(\"Test Values\")\n",
    "plt.ylabel(\"Predicted Values\")\n",
    "plt.title(\"Scatter plot: Random Forest Classifier (Muegge 10 Trees)\")\n",
    "plt.grid(True)\n",
    "plt.show()"
   ],
   "id": "3a925737487b059e",
   "outputs": [],
   "execution_count": null
  },
  {
   "metadata": {},
   "cell_type": "code",
   "source": [
    "plt.scatter(target_muegge_test, test_predicton_muegge_20, alpha=0.5, color='black')\n",
    "plt.xlabel(\"Test Values\")\n",
    "plt.ylabel(\"Predicted Values\")\n",
    "plt.title(\"Scatter plot: Random Forest Classifier (Muegge 20 Trees)\")\n",
    "plt.grid(True)\n",
    "plt.show()"
   ],
   "id": "a4c7b44147f4c813",
   "outputs": [],
   "execution_count": null
  },
  {
   "metadata": {},
   "cell_type": "code",
   "source": [
    "plt.scatter(target_muegge_test, test_predicton_muegge_30, alpha=0.5, color='black')\n",
    "plt.xlabel(\"Test Values\")\n",
    "plt.ylabel(\"Predicted Values\")\n",
    "plt.title(\"Scatter plot: Random Forest Classifier (Muegge 30 Trees)\")\n",
    "plt.grid(True)\n",
    "plt.show()"
   ],
   "id": "259f2b0a486b218",
   "outputs": [],
   "execution_count": null
  },
  {
   "metadata": {},
   "cell_type": "code",
   "source": [
    "plt.scatter(target_bro_test, test_prediction_bro_10, alpha=0.5, color='black')\n",
    "plt.xlabel(\"Test Values\")\n",
    "plt.ylabel(\"Predicted Values\")\n",
    "plt.title(\"Scatter plot: Random Forest Classifier (bRo5 10 Trees)\")\n",
    "plt.grid(True)\n",
    "plt.show()"
   ],
   "id": "ee2e666815e0cb28",
   "outputs": [],
   "execution_count": null
  },
  {
   "metadata": {},
   "cell_type": "code",
   "source": [
    "plt.scatter(target_bro_test, test_prediction_bro_20, alpha=0.5, color='black')\n",
    "plt.xlabel(\"Test Values\")\n",
    "plt.ylabel(\"Predicted Values\")\n",
    "plt.title(\"Scatter plot: Random Forest Classifier (bRo5 20 Trees)\")\n",
    "plt.grid(True)\n",
    "plt.show()"
   ],
   "id": "4005c6d0397ede8e",
   "outputs": [],
   "execution_count": null
  },
  {
   "metadata": {},
   "cell_type": "code",
   "source": [
    "plt.scatter(target_bro_test, test_prediction_bro_30, alpha=0.5, color='black')\n",
    "plt.xlabel(\"Test Values\")\n",
    "plt.ylabel(\"Predicted Values\")\n",
    "plt.title(\"Scatter plot: Random Forest Classifier (bRo5 30 Trees)\")\n",
    "plt.grid(True)\n",
    "plt.show()"
   ],
   "id": "62b3bf2a4033d6a6",
   "outputs": [],
   "execution_count": null
  },
  {
   "metadata": {},
   "cell_type": "code",
   "source": [
    "classes = np.unique(target_lipinski_test)\n",
    "n_classes = len(classes)\n",
    "\n",
    "lipinski_test_bin = label_binarize(target_lipinski_test, classes=classes)\n",
    "lipinski_10_score = model_lipinski_10.predict_proba(attributes_lipinski_test)\n",
    "\n",
    "fpr_micro, tpr_micro, _ = roc_curve(lipinski_test_bin.ravel(), lipinski_10_score.ravel())\n",
    "auc_micro = roc_auc_score(lipinski_test_bin, lipinski_10_score, average=\"micro\")\n",
    "auc_macro = roc_auc_score(lipinski_test_bin, lipinski_10_score, average=\"macro\")\n",
    "\n",
    "plt.plot(fpr_micro, tpr_micro, label=f\"Micro-average ROC (AUC = {auc_micro:.2f})\", color='black')\n",
    "plt.plot([0, 1], [0, 1], linestyle='--', color='gray')\n",
    "plt.xlabel(\"False Positive Rate\")\n",
    "plt.ylabel(\"True Positive Rate\")\n",
    "plt.title(\"ROC Lipinski 10 Trees\")\n",
    "plt.legend()\n",
    "plt.grid(True)\n",
    "plt.show()\n",
    "\n",
    "print(f\"Macro-average AUC: {auc_macro:.3f}\")\n",
    "print(f\"Micro-average AUC: {auc_micro:.3f}\")"
   ],
   "id": "3203815eac7f2074",
   "outputs": [],
   "execution_count": null
  },
  {
   "metadata": {},
   "cell_type": "code",
   "source": [
    "classes = np.unique(target_lipinski_test)\n",
    "n_classes_lipinski = len(classes)\n",
    "\n",
    "lipinski_test_bin = label_binarize(target_lipinski_test, classes=classes)\n",
    "lipinski_20_score = model_lipinski_20.predict_proba(attributes_lipinski_test)\n",
    "\n",
    "fpr_micro, tpr_micro, _ = roc_curve(lipinski_test_bin.ravel(), lipinski_20_score.ravel())\n",
    "auc_micro = roc_auc_score(lipinski_test_bin, lipinski_20_score, average=\"micro\")\n",
    "auc_macro = roc_auc_score(lipinski_test_bin, lipinski_20_score, average=\"macro\")\n",
    "\n",
    "plt.plot(fpr_micro, tpr_micro, label=f\"Micro-average ROC (AUC = {auc_micro:.2f})\", color='black')\n",
    "plt.plot([0, 1], [0, 1], linestyle='--', color='gray')\n",
    "plt.xlabel(\"False Positive Rate\")\n",
    "plt.ylabel(\"True Positive Rate\")\n",
    "plt.title(\"ROC Lipinski 20 Trees\")\n",
    "plt.legend()\n",
    "plt.grid(True)\n",
    "plt.show()\n",
    "\n",
    "print(f\"Macro-average AUC: {auc_macro:.3f}\")\n",
    "print(f\"Micro-average AUC: {auc_micro:.3f}\")"
   ],
   "id": "509ef464e3a0dfe5",
   "outputs": [],
   "execution_count": null
  },
  {
   "metadata": {},
   "cell_type": "code",
   "source": [
    "classes = np.unique(target_lipinski_test)\n",
    "n_classes_lipinski = len(classes)\n",
    "\n",
    "lipinski_test_bin = label_binarize(target_lipinski_test, classes=classes)\n",
    "lipinski_30_score = model_lipinski_30.predict_proba(attributes_lipinski_test)\n",
    "\n",
    "fpr_micro, tpr_micro, _ = roc_curve(lipinski_test_bin.ravel(), lipinski_30_score.ravel())\n",
    "auc_micro = roc_auc_score(lipinski_test_bin, lipinski_30_score, average=\"micro\")\n",
    "auc_macro = roc_auc_score(lipinski_test_bin, lipinski_30_score, average=\"macro\")\n",
    "\n",
    "plt.plot(fpr_micro, tpr_micro, label=f\"Micro-average ROC (AUC = {auc_micro:.2f})\", color='black')\n",
    "plt.plot([0, 1], [0, 1], linestyle='--', color='gray')\n",
    "plt.xlabel(\"False Positive Rate\")\n",
    "plt.ylabel(\"True Positive Rate\")\n",
    "plt.title(\"ROC Lipinski 30 Trees\")\n",
    "plt.legend()\n",
    "plt.grid(True)\n",
    "plt.show()\n",
    "\n",
    "print(f\"Macro-average AUC: {auc_macro:.3f}\")\n",
    "print(f\"Micro-average AUC: {auc_micro:.3f}\")"
   ],
   "id": "f5a4cc01c9d13f5",
   "outputs": [],
   "execution_count": null
  },
  {
   "metadata": {},
   "cell_type": "code",
   "source": [
    "classes = np.unique(target_muegge_test)\n",
    "n_classes_muegge = len(classes)\n",
    "\n",
    "muegge_test_bin = label_binarize(target_muegge_test, classes=classes)\n",
    "muegge_10_score = model_muegge_10.predict_proba(attributes_muegge_test)\n",
    "\n",
    "fpr_micro, tpr_micro, _ = roc_curve(muegge_test_bin.ravel(), muegge_10_score.ravel())\n",
    "auc_micro = roc_auc_score(muegge_test_bin, muegge_10_score, average=\"micro\")\n",
    "auc_macro = roc_auc_score(muegge_test_bin, muegge_10_score, average=\"macro\")\n",
    "\n",
    "plt.plot(fpr_micro, tpr_micro, label=f\"Micro-average ROC (AUC = {auc_micro:.2f})\", color='black')\n",
    "plt.plot([0, 1], [0, 1], linestyle='--', color='gray')\n",
    "plt.xlabel(\"False Positive Rate\")\n",
    "plt.ylabel(\"True Positive Rate\")\n",
    "plt.title(\"ROC Muegge 10 Trees\")\n",
    "plt.legend()\n",
    "plt.grid(True)\n",
    "plt.show()\n",
    "\n",
    "print(f\"Macro-average AUC: {auc_macro:.3f}\")\n",
    "print(f\"Micro-average AUC: {auc_micro:.3f}\")"
   ],
   "id": "c4949a64256b4e44",
   "outputs": [],
   "execution_count": null
  },
  {
   "metadata": {},
   "cell_type": "code",
   "source": [
    "classes = np.unique(target_muegge_test)\n",
    "n_classes_muegge = len(classes)\n",
    "\n",
    "muegge_test_bin = label_binarize(target_muegge_test, classes=classes)\n",
    "muegge_20_score = model_muegge_20.predict_proba(attributes_muegge_test)\n",
    "\n",
    "fpr_micro, tpr_micro, _ = roc_curve(muegge_test_bin.ravel(), muegge_20_score.ravel())\n",
    "auc_micro = roc_auc_score(muegge_test_bin, muegge_20_score, average=\"micro\")\n",
    "auc_macro = roc_auc_score(muegge_test_bin, muegge_20_score, average=\"macro\")\n",
    "\n",
    "plt.plot(fpr_micro, tpr_micro, label=f\"Micro-average ROC (AUC = {auc_micro:.2f})\", color='black')\n",
    "plt.plot([0, 1], [0, 1], linestyle='--', color='gray')\n",
    "plt.xlabel(\"False Positive Rate\")\n",
    "plt.ylabel(\"True Positive Rate\")\n",
    "plt.title(\"ROC Muegge 20 Trees\")\n",
    "plt.legend()\n",
    "plt.grid(True)\n",
    "plt.show()\n",
    "\n",
    "print(f\"Macro-average AUC: {auc_macro:.3f}\")\n",
    "print(f\"Micro-average AUC: {auc_micro:.3f}\")"
   ],
   "id": "b77abdee1772bd2b",
   "outputs": [],
   "execution_count": null
  },
  {
   "metadata": {},
   "cell_type": "code",
   "source": [
    "classes = np.unique(target_muegge_test)\n",
    "n_classes_muegge = len(classes)\n",
    "\n",
    "muegge_test_bin = label_binarize(target_muegge_test, classes=classes)\n",
    "muegge_30_score = model_muegge_30.predict_proba(attributes_muegge_test)\n",
    "\n",
    "fpr_micro, tpr_micro, _ = roc_curve(muegge_test_bin.ravel(), muegge_30_score.ravel())\n",
    "auc_micro = roc_auc_score(muegge_test_bin, muegge_30_score, average=\"micro\")\n",
    "auc_macro = roc_auc_score(muegge_test_bin, muegge_30_score, average=\"macro\")\n",
    "\n",
    "plt.plot(fpr_micro, tpr_micro, label=f\"Micro-average ROC (AUC = {auc_micro:.2f})\", color='black')\n",
    "plt.plot([0, 1], [0, 1], linestyle='--', color='gray')\n",
    "plt.xlabel(\"False Positive Rate\")\n",
    "plt.ylabel(\"True Positive Rate\")\n",
    "plt.title(\"ROC Muegge 30 Trees\")\n",
    "plt.legend()\n",
    "plt.grid(True)\n",
    "plt.show()\n",
    "\n",
    "print(f\"Macro-average AUC: {auc_macro:.3f}\")\n",
    "print(f\"Micro-average AUC: {auc_micro:.3f}\")"
   ],
   "id": "ca98dd82b9adbc7",
   "outputs": [],
   "execution_count": null
  },
  {
   "metadata": {},
   "cell_type": "code",
   "source": [
    "classes = np.unique(target_bro_test)\n",
    "n_classes_bro = len(classes)\n",
    "\n",
    "bro_test_bin = label_binarize(target_bro_test, classes=classes)\n",
    "bro_10_score = model_bro_10.predict_proba(attributes_muegge_test)\n",
    "\n",
    "fpr_micro, tpr_micro, _ = roc_curve(bro_test_bin.ravel(), bro_10_score.ravel())\n",
    "auc_micro = roc_auc_score(bro_test_bin, bro_10_score, average=\"micro\")\n",
    "auc_macro = roc_auc_score(bro_test_bin, bro_10_score, average=\"macro\")\n",
    "\n",
    "plt.plot(fpr_micro, tpr_micro, label=f\"Micro-average ROC (AUC = {auc_micro:.2f})\", color='black')\n",
    "plt.plot([0, 1], [0, 1], linestyle='--', color='gray')\n",
    "plt.xlabel(\"False Positive Rate\")\n",
    "plt.ylabel(\"True Positive Rate\")\n",
    "plt.title(\"ROC bRo5 10 Trees\")\n",
    "plt.legend()\n",
    "plt.grid(True)\n",
    "plt.show()\n",
    "\n",
    "print(f\"Macro-average AUC: {auc_macro:.3f}\")\n",
    "print(f\"Micro-average AUC: {auc_micro:.3f}\")"
   ],
   "id": "ec19db94aa7ca06b",
   "outputs": [],
   "execution_count": null
  },
  {
   "metadata": {},
   "cell_type": "code",
   "source": [
    "classes = np.unique(target_bro_test)\n",
    "n_classes_bro = len(classes)\n",
    "\n",
    "bro_test_bin = label_binarize(target_bro_test, classes=classes)\n",
    "bro_20_score = model_bro_20.predict_proba(attributes_muegge_test)\n",
    "\n",
    "fpr_micro, tpr_micro, _ = roc_curve(bro_test_bin.ravel(), bro_20_score.ravel())\n",
    "auc_micro = roc_auc_score(bro_test_bin, bro_20_score, average=\"micro\")\n",
    "auc_macro = roc_auc_score(bro_test_bin, bro_20_score, average=\"macro\")\n",
    "\n",
    "plt.plot(fpr_micro, tpr_micro, label=f\"Micro-average ROC (AUC = {auc_micro:.2f})\", color='black')\n",
    "plt.plot([0, 1], [0, 1], linestyle='--', color='gray')\n",
    "plt.xlabel(\"False Positive Rate\")\n",
    "plt.ylabel(\"True Positive Rate\")\n",
    "plt.title(\"ROC bRo5 20 Trees\")\n",
    "plt.legend()\n",
    "plt.grid(True)\n",
    "plt.show()\n",
    "\n",
    "print(f\"Macro-average AUC: {auc_macro:.3f}\")\n",
    "print(f\"Micro-average AUC: {auc_micro:.3f}\")"
   ],
   "id": "8b0d2554d011ad9e",
   "outputs": [],
   "execution_count": null
  },
  {
   "metadata": {},
   "cell_type": "code",
   "source": [
    "classes = np.unique(target_bro_test)\n",
    "n_classes_bro = len(classes)\n",
    "\n",
    "bro_test_bin = label_binarize(target_bro_test, classes=classes)\n",
    "bro_30_score = model_bro_30.predict_proba(attributes_muegge_test)\n",
    "\n",
    "fpr_micro, tpr_micro, _ = roc_curve(bro_test_bin.ravel(), bro_30_score.ravel())\n",
    "auc_micro = roc_auc_score(bro_test_bin, bro_30_score, average=\"micro\")\n",
    "auc_macro = roc_auc_score(bro_test_bin, bro_30_score, average=\"macro\")\n",
    "\n",
    "plt.plot(fpr_micro, tpr_micro, label=f\"Micro-average ROC (AUC = {auc_micro:.2f})\", color='black')\n",
    "plt.plot([0, 1], [0, 1], linestyle='--', color='gray')\n",
    "plt.xlabel(\"False Positive Rate\")\n",
    "plt.ylabel(\"True Positive Rate\")\n",
    "plt.title(\"ROC bRo5 30 Trees\")\n",
    "plt.legend()\n",
    "plt.grid(True)\n",
    "plt.show()\n",
    "\n",
    "print(f\"Macro-average AUC: {auc_macro:.3f}\")\n",
    "print(f\"Micro-average AUC: {auc_micro:.3f}\")"
   ],
   "id": "13f62f12628f23f0",
   "outputs": [],
   "execution_count": null
  },
  {
   "metadata": {},
   "cell_type": "code",
   "source": "test_dataset = pd.DataFrame.from_dict(molecular_descriptors_test_peptides, orient='index').T",
   "id": "1cb1f0f201a2b4ab",
   "outputs": [],
   "execution_count": null
  },
  {
   "metadata": {},
   "cell_type": "code",
   "source": [
    "test_dataset = test_dataset.rename(columns={'MolWt': 'mw', 'MolLogP': 'xlogp', 'NumHDonors': 'hbonddonor', 'NumHAcceptors': 'hbondacc', 'TPSA': 'polararea', 'NumRotatableBonds': 'rotbonds'})\n",
    "test_dataset_for_work = test_dataset[['mw', 'xlogp', 'hbonddonor', 'hbondacc', 'polararea', 'rotbonds']]\n",
    "test_dataset_for_work_lipinski = test_dataset[['mw', 'xlogp', 'hbonddonor', 'hbondacc']]"
   ],
   "id": "5f15f38edfdd9243",
   "outputs": [],
   "execution_count": null
  },
  {
   "metadata": {},
   "cell_type": "code",
   "source": "peptide_names = ['ML1', 'ML2', 'ML3', 'ML4', 'ML5', 'ML6', 'ML7', 'ML8', 'ML9', 'ML10', 'ML11', 'ML12', 'ML13', 'ML14', 'ML15', 'ML16', 'ML17', 'ML18', 'ML19', 'ML20', 'ML21', 'ML22', 'ML23', 'ML24', 'ML25', 'ML26']",
   "id": "1ea1c18fca1bc975",
   "outputs": [],
   "execution_count": null
  },
  {
   "metadata": {},
   "cell_type": "code",
   "source": "tested_molecules = {'tested_molecules': peptide_names}",
   "id": "1db2e60e17a1c11d",
   "outputs": [],
   "execution_count": null
  },
  {
   "metadata": {},
   "cell_type": "code",
   "source": "prediction_lipinski_10 = model_lipinski_10.predict(test_dataset_for_work_lipinski)",
   "id": "3a0ff8a1db53c35",
   "outputs": [],
   "execution_count": null
  },
  {
   "metadata": {},
   "cell_type": "code",
   "source": "prediction_lipinski_20 = model_lipinski_20.predict(test_dataset_for_work_lipinski)",
   "id": "acd95a1355bc8e57",
   "outputs": [],
   "execution_count": null
  },
  {
   "metadata": {},
   "cell_type": "code",
   "source": "prediction_lipinski_30 = model_lipinski_30.predict(test_dataset_for_work_lipinski)",
   "id": "267777dca9226006",
   "outputs": [],
   "execution_count": null
  },
  {
   "metadata": {},
   "cell_type": "code",
   "source": "prediction_bro_10 = model_bro_10.predict(test_dataset_for_work)",
   "id": "603de201bf2d4b03",
   "outputs": [],
   "execution_count": null
  },
  {
   "metadata": {},
   "cell_type": "code",
   "source": "prediction_bro_20 = model_bro_20.predict(test_dataset_for_work)",
   "id": "7c1fae6fe7966671",
   "outputs": [],
   "execution_count": null
  },
  {
   "metadata": {},
   "cell_type": "code",
   "source": "prediction_bro_30 = model_bro_30.predict(test_dataset_for_work)",
   "id": "f3e2f64c25ddc82d",
   "outputs": [],
   "execution_count": null
  },
  {
   "metadata": {},
   "cell_type": "code",
   "source": "prediction_muegge_10 = model_muegge_10.predict(test_dataset_for_work)",
   "id": "65eebe5bc21e484e",
   "outputs": [],
   "execution_count": null
  },
  {
   "metadata": {},
   "cell_type": "code",
   "source": "prediction_muegge_20 = model_muegge_20.predict(test_dataset_for_work)",
   "id": "80f3f71c0c5be115",
   "outputs": [],
   "execution_count": null
  },
  {
   "metadata": {},
   "cell_type": "code",
   "source": "prediction_muegge_30 = model_muegge_30.predict(test_dataset_for_work)",
   "id": "aa5fff7cb7df1998",
   "outputs": [],
   "execution_count": null
  },
  {
   "metadata": {},
   "cell_type": "code",
   "source": [
    "predicted_violations_peptides_lipinski_10 = []\n",
    "\n",
    "for predicted_value in prediction_lipinski_10:\n",
    "    predicted_violations_peptides_lipinski_10.append(int(predicted_value))"
   ],
   "id": "aa4efb1ab32bfb6d",
   "outputs": [],
   "execution_count": null
  },
  {
   "metadata": {},
   "cell_type": "code",
   "source": [
    "predicted_violations_peptides_lipinski_20 = []\n",
    "\n",
    "for predicted_value in prediction_lipinski_20:\n",
    "    predicted_violations_peptides_lipinski_20.append(int(predicted_value))"
   ],
   "id": "509efbf3fe99aca1",
   "outputs": [],
   "execution_count": null
  },
  {
   "metadata": {},
   "cell_type": "code",
   "source": [
    "predicted_violations_peptides_lipinski_30 = []\n",
    "\n",
    "for predicted_value in prediction_lipinski_30:\n",
    "    predicted_violations_peptides_lipinski_30.append(int(predicted_value))"
   ],
   "id": "4f2d00999431b2bb",
   "outputs": [],
   "execution_count": null
  },
  {
   "metadata": {},
   "cell_type": "code",
   "source": [
    "predicted_violations_peptides_bro_10 = []\n",
    "\n",
    "for predicted_value in prediction_bro_10:\n",
    "    predicted_violations_peptides_bro_10.append(int(predicted_value))"
   ],
   "id": "ed2cf7ffcac20d6",
   "outputs": [],
   "execution_count": null
  },
  {
   "metadata": {},
   "cell_type": "code",
   "source": [
    "predicted_violations_peptides_bro_20 = []\n",
    "\n",
    "for predicted_value in prediction_bro_20:\n",
    "    predicted_violations_peptides_bro_20.append(int(predicted_value))"
   ],
   "id": "8bd036e5e1a5cd75",
   "outputs": [],
   "execution_count": null
  },
  {
   "metadata": {},
   "cell_type": "code",
   "source": [
    "predicted_violations_peptides_bro_30 = []\n",
    "\n",
    "for predicted_value in prediction_bro_30:\n",
    "    predicted_violations_peptides_bro_30.append(int(predicted_value))"
   ],
   "id": "1474b8eac141a395",
   "outputs": [],
   "execution_count": null
  },
  {
   "metadata": {},
   "cell_type": "code",
   "source": [
    "predicted_violations_peptides_muegge_10 = []\n",
    "\n",
    "for predicted_value in prediction_muegge_10:\n",
    "    predicted_violations_peptides_muegge_10.append(int(predicted_value))"
   ],
   "id": "90e61d805646c251",
   "outputs": [],
   "execution_count": null
  },
  {
   "metadata": {},
   "cell_type": "code",
   "source": [
    "predicted_violations_peptides_muegge_20 = []\n",
    "\n",
    "for predicted_value in prediction_muegge_20:\n",
    "    predicted_violations_peptides_muegge_20.append(int(predicted_value))"
   ],
   "id": "476119bf62fa3cd1",
   "outputs": [],
   "execution_count": null
  },
  {
   "metadata": {},
   "cell_type": "code",
   "source": [
    "predicted_violations_peptides_muegge_30 = []\n",
    "\n",
    "for predicted_value in prediction_muegge_30:\n",
    "    predicted_violations_peptides_muegge_30.append(int(predicted_value))"
   ],
   "id": "f5daf6e7f7fcf992",
   "outputs": [],
   "execution_count": null
  },
  {
   "metadata": {},
   "cell_type": "code",
   "source": [
    "print(predicted_violations_peptides_lipinski_10)\n",
    "print(predicted_violations_peptides_lipinski_20)\n",
    "print(predicted_violations_peptides_lipinski_30)\n",
    "print(predicted_violations_peptides_bro_10)\n",
    "print(predicted_violations_peptides_bro_20)\n",
    "print(predicted_violations_peptides_bro_30)\n",
    "print(predicted_violations_peptides_muegge_10)\n",
    "print(predicted_violations_peptides_muegge_20)\n",
    "print(predicted_violations_peptides_muegge_30)"
   ],
   "id": "46fcde0d8cf52c2c",
   "outputs": [],
   "execution_count": null
  },
  {
   "metadata": {},
   "cell_type": "code",
   "source": [
    "lipinski_violations_dict_10 = {'nviolations_lipinski_rule_10': predicted_violations_peptides_lipinski_10}\n",
    "lipinski_violations_dict_20 = {'nviolations_lipinski_rule_20': predicted_violations_peptides_lipinski_20}\n",
    "lipinski_violations_dict_30 = {'nviolations_lipinski_rule_30': predicted_violations_peptides_lipinski_30}"
   ],
   "id": "5d36e35860b8bd83",
   "outputs": [],
   "execution_count": null
  },
  {
   "metadata": {},
   "cell_type": "code",
   "source": [
    "bro_violations_dict_10 = {'nviolations_bro_rule': predicted_violations_peptides_bro_10}\n",
    "bro_violations_dict_20 = {'nviolations_bro_rule': predicted_violations_peptides_bro_20}\n",
    "bro_violations_dict_30 = {'nviolations_bro_rule': predicted_violations_peptides_bro_30}"
   ],
   "id": "16548fb71c0c92ea",
   "outputs": [],
   "execution_count": null
  },
  {
   "metadata": {},
   "cell_type": "code",
   "source": [
    "muegge_violations_10_dict = {'nviolations_muegge_rule_10': predicted_violations_peptides_muegge_10}\n",
    "muegge_violations_20_dict = {'nviolations_muegge_rule_20': predicted_violations_peptides_muegge_20}\n",
    "muegge_violations_30_dict = {'nviolations_muegge_rule_30': predicted_violations_peptides_muegge_30}"
   ],
   "id": "aa23d175376dad3b",
   "outputs": [],
   "execution_count": null
  },
  {
   "metadata": {},
   "cell_type": "code",
   "source": "peptide_predictions_dataset_lipinski = pd.concat([pd.DataFrame(tested_molecules), test_dataset_for_work_lipinski, pd.DataFrame(lipinski_violations_dict_10), pd.DataFrame(lipinski_violations_dict_20), pd.DataFrame(lipinski_violations_dict_30)], axis=1)",
   "id": "2bce3053cac3f3ee",
   "outputs": [],
   "execution_count": null
  },
  {
   "metadata": {},
   "cell_type": "code",
   "source": "peptide_predictions_bro_dataset = pd.concat([pd.DataFrame(tested_molecules), test_dataset_for_work, pd.DataFrame(bro_violations_dict_10), pd.DataFrame(bro_violations_dict_20), pd.DataFrame(bro_violations_dict_30)], axis=1)",
   "id": "5b5e601ce4682d6f",
   "outputs": [],
   "execution_count": null
  },
  {
   "metadata": {},
   "cell_type": "code",
   "source": "peptide_predictions_muegge_dataset = pd.concat([pd.DataFrame(tested_molecules), test_dataset_for_work, pd.DataFrame(muegge_violations_10_dict), pd.DataFrame(muegge_violations_20_dict), pd.DataFrame(muegge_violations_30_dict)], axis=1)",
   "id": "aa3eacccc2bde4a",
   "outputs": [],
   "execution_count": null
  },
  {
   "metadata": {},
   "cell_type": "code",
   "source": "swissadme_peptides = pd.read_csv('datasets/swissadme_peptides.csv')",
   "id": "a9c8962371a0419f",
   "outputs": [],
   "execution_count": null
  },
  {
   "metadata": {},
   "cell_type": "code",
   "source": "comparison_table_peptides_lipinski = pd.concat([peptide_predictions_dataset_lipinski[['tested_molecules', 'nviolations_lipinski_rule_10', 'nviolations_lipinski_rule_20', 'nviolations_lipinski_rule_30']], swissadme_peptides[['Lipinski #violations']]], axis=1)",
   "id": "73fb3bf5facb598f",
   "outputs": [],
   "execution_count": null
  },
  {
   "metadata": {},
   "cell_type": "code",
   "source": "comparison_table_peptides_muegge = pd.concat([peptide_predictions_muegge_dataset[['tested_molecules', 'nviolations_muegge_rule_10', 'nviolations_muegge_rule_20', 'nviolations_muegge_rule_30']], swissadme_peptides[['Muegge #violations']]], axis=1)",
   "id": "2c471e7e1d38a73e",
   "outputs": [],
   "execution_count": null
  },
  {
   "metadata": {},
   "cell_type": "code",
   "source": "dataset_smiles_violations = dataset_with_nviolations[['smiles', 'nviolations_lipinski_rule', 'nviolations_muegge_rule', 'nviolations_bro_rule']]",
   "id": "f9b3f94c3126092c",
   "outputs": [],
   "execution_count": null
  },
  {
   "metadata": {},
   "cell_type": "code",
   "source": "dataset_smiles_violations",
   "id": "7c3b75bf33a5d262",
   "outputs": [],
   "execution_count": null
  },
  {
   "metadata": {},
   "cell_type": "code",
   "source": [
    "list_of_smiles = [smile for smile in dataset_with_nviolations['smiles']]\n",
    "list_lipinski_violations = [violation for violation in dataset_with_nviolations['nviolations_lipinski_rule']]\n",
    "list_bro_violations = [violation for violation in dataset_with_nviolations['nviolations_bro_rule']]\n",
    "list_muegge_violations = [violation for violation in dataset_with_nviolations['nviolations_muegge_rule']]"
   ],
   "id": "c57b5868e567972e",
   "outputs": [],
   "execution_count": null
  },
  {
   "metadata": {},
   "cell_type": "code",
   "source": [
    "fingerprint_generator = rdFingerprintGenerator.GetMorganGenerator(radius=4, fpSize=1024)\n",
    "\n",
    "fingerprints_list = []\n",
    "target_lipinski_values = []\n",
    "target_bro_values = []\n",
    "target_muegge_values = []\n",
    "\n",
    "for _, row in dataset_smiles_violations.iterrows():\n",
    "\n",
    "    smile = row['smiles']\n",
    "    mol = Chem.MolFromSmiles(smile)\n",
    "    if mol is not None:\n",
    "        fp = fingerprint_generator.GetFingerprint(mol)\n",
    "        fingerprints_list.append(np.array(fp))\n",
    "        target_lipinski_values.append(row['nviolations_lipinski_rule'])\n",
    "        target_bro_values.append(row['nviolations_bro_rule'])\n",
    "        target_muegge_values.append(row['nviolations_muegge_rule'])\n",
    "\n",
    "fingerprints_array = np.array(fingerprints_list, dtype=np.float32)"
   ],
   "id": "71878af8dfcf829f",
   "outputs": [],
   "execution_count": null
  },
  {
   "metadata": {},
   "cell_type": "code",
   "source": [
    "violations_lipinski_vectors = {'nviolations_lipinski_rule': target_lipinski_values}\n",
    "violations_bro_vectors = {'nviolations_bro_rule': target_bro_values}\n",
    "violations_muegge_vectors = {'nviolations_muegge_rule': target_muegge_values}"
   ],
   "id": "43e47dd406a231ab",
   "outputs": [],
   "execution_count": null
  },
  {
   "metadata": {},
   "cell_type": "code",
   "source": "smiles_vectors = pd.DataFrame(fingerprints_array)",
   "id": "5214004c3cac29ac",
   "outputs": [],
   "execution_count": null
  },
  {
   "metadata": {},
   "cell_type": "code",
   "source": "smiles_vectors_violations = pd.concat([smiles_vectors, pd.DataFrame(violations_lipinski_vectors), pd.DataFrame(violations_bro_vectors), pd.DataFrame(violations_muegge_vectors)], axis=1)",
   "id": "80a505a99b2c7bff",
   "outputs": [],
   "execution_count": null
  },
  {
   "metadata": {},
   "cell_type": "code",
   "source": "smiles_vectors_lipinski_train, smiles_vectors_lipinski_test, target_lipinski_vectors_train, target_lipinski_vectors_test = train_test_split(smiles_vectors_violations.iloc[:, 1:1025], smiles_vectors_violations['nviolations_lipinski_rule'], test_size=0.2, random_state=42)",
   "id": "ef2172cd67520eb9",
   "outputs": [],
   "execution_count": null
  },
  {
   "metadata": {},
   "cell_type": "code",
   "source": "smiles_vectors_bro_train, smiles_vectors_bro_test, target_bro_vectors_train, target_bro_vectors_test = train_test_split(smiles_vectors_violations.iloc[:, 1:1025], smiles_vectors_violations['nviolations_bro_rule'], test_size=0.2, random_state=42)",
   "id": "81b3be8e158fdce1",
   "outputs": [],
   "execution_count": null
  },
  {
   "metadata": {},
   "cell_type": "code",
   "source": "smiles_vectors_muegge_train, smiles_vectors_muegge_test, target_muegge_vectors_train, target_muegge_vectors_test = train_test_split(smiles_vectors_violations.iloc[:, 1:1025], smiles_vectors_violations['nviolations_muegge_rule'], test_size=0.2, random_state=42)",
   "id": "52b09e2768164955",
   "outputs": [],
   "execution_count": null
  },
  {
   "metadata": {},
   "cell_type": "code",
   "source": [
    "smiles_vectors_lipinski_train.columns = smiles_vectors_lipinski_train.columns.astype(str)\n",
    "smiles_vectors_bro_train.columns = smiles_vectors_bro_train.columns.astype(str)\n",
    "smiles_vectors_muegge_train.columns = smiles_vectors_muegge_train.columns.astype(str)"
   ],
   "id": "1d25d58d5fda4376",
   "outputs": [],
   "execution_count": null
  },
  {
   "metadata": {},
   "cell_type": "code",
   "source": [
    "rf_lipinski_vectors = RandomForestClassifier()\n",
    "\n",
    "smiles_vectors_lipinski_train.columns = smiles_vectors_lipinski_train.columns.astype(str)\n",
    "\n",
    "param_grid = {\n",
    "    'n_estimators': [10, 20, 30],\n",
    "    'max_depth': [None, 10, 20],\n",
    "    'max_features': ['sqrt', 'log2'],\n",
    "    'min_samples_split': [2, 5],\n",
    "    'min_samples_leaf': [1, 4],\n",
    "    'bootstrap': [True, False]\n",
    "}\n",
    "\n",
    "grid_search = GridSearchCV(estimator=rf_lipinski_vectors, param_grid=param_grid,\n",
    "                           cv=5, scoring='accuracy', n_jobs=1, verbose=2, error_score='raise')\n",
    "\n",
    "grid_search.fit(smiles_vectors_lipinski_train, target_lipinski_vectors_train)\n",
    "\n",
    "print(\"Best parameters:\", grid_search.best_params_)\n",
    "print(\"Best accuracy:\", grid_search.best_score_)"
   ],
   "id": "4065f0748df0d8",
   "outputs": [],
   "execution_count": null
  },
  {
   "metadata": {},
   "cell_type": "code",
   "source": [
    "rf_lipinski_vectors = RandomForestClassifier()\n",
    "\n",
    "param_grid = {\n",
    "    'n_estimators': [10, 20, 30],\n",
    "    'max_depth': [None, 10, 20],\n",
    "    'max_features': ['sqrt', 'log2'],\n",
    "    'min_samples_split': [2, 5],\n",
    "    'min_samples_leaf': [1, 4],\n",
    "    'bootstrap': [True, False]\n",
    "}\n",
    "\n",
    "scorer = make_scorer(precision_score, average='macro')\n",
    "\n",
    "grid_search = GridSearchCV(estimator=rf_lipinski_vectors, param_grid=param_grid,\n",
    "                           cv=5, scoring=scorer, n_jobs=1, verbose=2, error_score='raise')\n",
    "\n",
    "grid_search.fit(smiles_vectors_lipinski_train, target_lipinski_vectors_train)\n",
    "\n",
    "print(\"Best parameters:\", grid_search.best_params_)\n",
    "print(\"Best precision:\", grid_search.best_score_)"
   ],
   "id": "15cbd66ef111ba4e",
   "outputs": [],
   "execution_count": null
  },
  {
   "metadata": {},
   "cell_type": "code",
   "source": [
    "rf_lipinski_vectors = RandomForestClassifier()\n",
    "\n",
    "param_grid = {\n",
    "    'n_estimators': [10, 20, 30],\n",
    "    'max_depth': [None, 10, 20],\n",
    "    'max_features': ['sqrt', 'log2'],\n",
    "    'min_samples_split': [2, 5],\n",
    "    'min_samples_leaf': [1, 4],\n",
    "    'bootstrap': [True, False]\n",
    "}\n",
    "\n",
    "scorer = make_scorer(recall_score, average='macro')\n",
    "\n",
    "grid_search = GridSearchCV(estimator=rf_lipinski_vectors, param_grid=param_grid,\n",
    "                           cv=5, scoring=scorer, n_jobs=1, verbose=2, error_score='raise')\n",
    "\n",
    "grid_search.fit(smiles_vectors_lipinski_train, target_lipinski_vectors_train)\n",
    "\n",
    "print(\"Best parameters:\", grid_search.best_params_)\n",
    "print(\"Best recall:\", grid_search.best_score_)"
   ],
   "id": "bffe13cabfc90a6b",
   "outputs": [],
   "execution_count": null
  },
  {
   "metadata": {},
   "cell_type": "code",
   "source": [
    "rf_lipinski_vectors = RandomForestClassifier()\n",
    "\n",
    "param_grid = {\n",
    "    'n_estimators': [10, 20, 30],\n",
    "    'max_depth': [None, 10, 20],\n",
    "    'max_features': ['sqrt', 'log2'],\n",
    "    'min_samples_split': [2, 5],\n",
    "    'min_samples_leaf': [1, 4],\n",
    "    'bootstrap': [True, False]\n",
    "}\n",
    "\n",
    "scorer = make_scorer(f1_score, average='macro')\n",
    "\n",
    "grid_search = GridSearchCV(estimator=rf_lipinski_vectors, param_grid=param_grid,\n",
    "                           cv=5, scoring=scorer, n_jobs=1, verbose=2, error_score='raise')\n",
    "\n",
    "grid_search.fit(smiles_vectors_lipinski_train, target_lipinski_vectors_train)\n",
    "\n",
    "print(\"Best parameters:\", grid_search.best_params_)\n",
    "print(\"Best F1-score:\", grid_search.best_score_)"
   ],
   "id": "2eb5c36356842b7e",
   "outputs": [],
   "execution_count": null
  },
  {
   "metadata": {},
   "cell_type": "code",
   "source": [
    "rf_bro_vectors = RandomForestClassifier()\n",
    "\n",
    "param_grid = {\n",
    "    'n_estimators': [10, 20, 30],\n",
    "    'max_depth': [None, 10, 20],\n",
    "    'max_features': ['sqrt', 'log2'],\n",
    "    'min_samples_split': [2, 5],\n",
    "    'min_samples_leaf': [1, 4],\n",
    "    'bootstrap': [True, False]\n",
    "}\n",
    "\n",
    "grid_search = GridSearchCV(estimator=rf_bro_vectors, param_grid=param_grid,\n",
    "                           cv=5, scoring='accuracy', n_jobs=1, verbose=2, error_score='raise')\n",
    "\n",
    "grid_search.fit(smiles_vectors_bro_train, target_bro_vectors_train)\n",
    "\n",
    "print(\"Best parameters:\", grid_search.best_params_)\n",
    "print(\"Best accuracy:\", grid_search.best_score_)"
   ],
   "id": "25a52ca908c6d1c5",
   "outputs": [],
   "execution_count": null
  },
  {
   "metadata": {},
   "cell_type": "code",
   "source": [
    "rf_bro_vectors = RandomForestClassifier()\n",
    "\n",
    "param_grid = {\n",
    "    'n_estimators': [10, 20, 30],\n",
    "    'max_depth': [None, 10, 20],\n",
    "    'max_features': ['sqrt', 'log2'],\n",
    "    'min_samples_split': [2, 5],\n",
    "    'min_samples_leaf': [1, 4],\n",
    "    'bootstrap': [True, False]\n",
    "}\n",
    "\n",
    "scorer = make_scorer(precision_score, average='macro')\n",
    "\n",
    "grid_search = GridSearchCV(estimator=rf_bro_vectors, param_grid=param_grid,\n",
    "                           cv=5, scoring=scorer, n_jobs=1, verbose=2, error_score='raise')\n",
    "\n",
    "grid_search.fit(smiles_vectors_bro_train, target_bro_vectors_train)\n",
    "\n",
    "print(\"Best parameters:\", grid_search.best_params_)\n",
    "print(\"Best precision:\", grid_search.best_score_)"
   ],
   "id": "ebf5331b54865999",
   "outputs": [],
   "execution_count": null
  },
  {
   "metadata": {},
   "cell_type": "code",
   "source": [
    "rf_bro_vectors = RandomForestClassifier()\n",
    "\n",
    "param_grid = {\n",
    "    'n_estimators': [10, 20, 30],\n",
    "    'max_depth': [None, 10, 20],\n",
    "    'max_features': ['sqrt', 'log2'],\n",
    "    'min_samples_split': [2, 5],\n",
    "    'min_samples_leaf': [1, 4],\n",
    "    'bootstrap': [True, False]\n",
    "}\n",
    "\n",
    "scorer = make_scorer(recall_score, average='macro')\n",
    "\n",
    "grid_search = GridSearchCV(estimator=rf_bro_vectors, param_grid=param_grid,\n",
    "                           cv=5, scoring=scorer, n_jobs=1, verbose=2, error_score='raise')\n",
    "\n",
    "grid_search.fit(smiles_vectors_bro_train, target_bro_vectors_train)\n",
    "\n",
    "print(\"Best parameters:\", grid_search.best_params_)\n",
    "print(\"Best recall:\", grid_search.best_score_)"
   ],
   "id": "cab4861156c41674",
   "outputs": [],
   "execution_count": null
  },
  {
   "metadata": {},
   "cell_type": "code",
   "source": [
    "rf_bro_vectors = RandomForestClassifier()\n",
    "\n",
    "param_grid = {\n",
    "    'n_estimators': [10, 20, 30],\n",
    "    'max_depth': [None, 10, 20],\n",
    "    'max_features': ['sqrt', 'log2'],\n",
    "    'min_samples_split': [2, 5],\n",
    "    'min_samples_leaf': [1, 4],\n",
    "    'bootstrap': [True, False]\n",
    "}\n",
    "\n",
    "scorer = make_scorer(f1_score, average='macro')\n",
    "\n",
    "grid_search = GridSearchCV(estimator=rf_bro_vectors, param_grid=param_grid,\n",
    "                           cv=5, scoring=scorer, n_jobs=1, verbose=2, error_score='raise')\n",
    "\n",
    "grid_search.fit(smiles_vectors_bro_train, target_bro_vectors_train)\n",
    "\n",
    "print(\"Best parameters:\", grid_search.best_params_)\n",
    "print(\"Best F1-score:\", grid_search.best_score_)"
   ],
   "id": "5ce3c0e84ff05f09",
   "outputs": [],
   "execution_count": null
  },
  {
   "metadata": {},
   "cell_type": "code",
   "source": [
    "rf_muegge_vectors = RandomForestClassifier()\n",
    "\n",
    "param_grid = {\n",
    "    'n_estimators': [10, 20, 30],\n",
    "    'max_depth': [None, 10, 20],\n",
    "    'max_features': ['sqrt', 'log2'],\n",
    "    'min_samples_split': [2, 5],\n",
    "    'min_samples_leaf': [1, 4],\n",
    "    'bootstrap': [True, False]\n",
    "}\n",
    "\n",
    "grid_search = GridSearchCV(estimator=rf_muegge_vectors, param_grid=param_grid,\n",
    "                           cv=5, scoring='accuracy', n_jobs=1, verbose=2, error_score='raise')\n",
    "\n",
    "grid_search.fit(smiles_vectors_muegge_train, target_muegge_vectors_train)\n",
    "\n",
    "print(\"Best parameters:\", grid_search.best_params_)\n",
    "print(\"Best accuracy:\", grid_search.best_score_)"
   ],
   "id": "89b658fbd250d51a",
   "outputs": [],
   "execution_count": null
  },
  {
   "metadata": {},
   "cell_type": "code",
   "source": [
    "rf_muegge_vectors = RandomForestClassifier()\n",
    "\n",
    "param_grid = {\n",
    "    'n_estimators': [10, 20, 30],\n",
    "    'max_depth': [None, 10, 20],\n",
    "    'max_features': ['sqrt', 'log2'],\n",
    "    'min_samples_split': [2, 5],\n",
    "    'min_samples_leaf': [1, 4],\n",
    "    'bootstrap': [True, False]\n",
    "}\n",
    "\n",
    "scorer = make_scorer(precision_score, average='macro')\n",
    "\n",
    "grid_search = GridSearchCV(estimator=rf_muegge_vectors, param_grid=param_grid,\n",
    "                           cv=5, scoring=scorer, n_jobs=1, verbose=2, error_score='raise')\n",
    "\n",
    "grid_search.fit(smiles_vectors_muegge_train, target_muegge_vectors_train)\n",
    "\n",
    "print(\"Best parameters:\", grid_search.best_params_)\n",
    "print(\"Best precision:\", grid_search.best_score_)"
   ],
   "id": "f0278274c22319bd",
   "outputs": [],
   "execution_count": null
  },
  {
   "metadata": {},
   "cell_type": "code",
   "source": [
    "rf_muegge_vectors = RandomForestClassifier()\n",
    "\n",
    "param_grid = {\n",
    "    'n_estimators': [10, 20, 30],\n",
    "    'max_depth': [None, 10, 20],\n",
    "    'max_features': ['sqrt', 'log2'],\n",
    "    'min_samples_split': [2, 5],\n",
    "    'min_samples_leaf': [1, 4],\n",
    "    'bootstrap': [True, False]\n",
    "}\n",
    "\n",
    "scorer = make_scorer(recall_score, average='macro')\n",
    "\n",
    "grid_search = GridSearchCV(estimator=rf_muegge_vectors, param_grid=param_grid,\n",
    "                           cv=5, scoring=scorer, n_jobs=1, verbose=2, error_score='raise')\n",
    "\n",
    "grid_search.fit(smiles_vectors_muegge_train, target_muegge_vectors_train)\n",
    "\n",
    "print(\"Best parameters:\", grid_search.best_params_)\n",
    "print(\"Best recall:\", grid_search.best_score_)"
   ],
   "id": "8437051697667c71",
   "outputs": [],
   "execution_count": null
  },
  {
   "metadata": {},
   "cell_type": "code",
   "source": [
    "rf_muegge_vectors = RandomForestClassifier()\n",
    "\n",
    "param_grid = {\n",
    "    'n_estimators': [10, 20, 30],\n",
    "    'max_depth': [None, 10, 20],\n",
    "    'max_features': ['sqrt', 'log2'],\n",
    "    'min_samples_split': [2, 5],\n",
    "    'min_samples_leaf': [1, 4],\n",
    "    'bootstrap': [True, False]\n",
    "}\n",
    "\n",
    "scorer = make_scorer(f1_score, average='macro')\n",
    "\n",
    "grid_search = GridSearchCV(estimator=rf_muegge_vectors, param_grid=param_grid,\n",
    "                           cv=5, scoring=scorer, n_jobs=1, verbose=2, error_score='raise')\n",
    "\n",
    "grid_search.fit(smiles_vectors_muegge_train, target_muegge_vectors_train)\n",
    "\n",
    "print(\"Best parameters:\", grid_search.best_params_)\n",
    "print(\"Best F1-score:\", grid_search.best_score_)"
   ],
   "id": "111dd21cf288de0",
   "outputs": [],
   "execution_count": null
  },
  {
   "metadata": {},
   "cell_type": "code",
   "source": "model_lipinski_vectors_10 = RandomForestClassifier(n_estimators=10)",
   "id": "dc607d6651f1110c",
   "outputs": [],
   "execution_count": null
  },
  {
   "metadata": {},
   "cell_type": "code",
   "source": "model_lipinski_vectors_20 = RandomForestClassifier(n_estimators=20)",
   "id": "70f24fcd73c34416",
   "outputs": [],
   "execution_count": null
  },
  {
   "metadata": {},
   "cell_type": "code",
   "source": "model_lipinski_vectors_30 = RandomForestClassifier(n_estimators=30)",
   "id": "11b4537d1b5a8180",
   "outputs": [],
   "execution_count": null
  },
  {
   "metadata": {},
   "cell_type": "code",
   "source": "model_bro_vectors_10 = RandomForestClassifier(n_estimators=10)",
   "id": "e286192aa105e5cd",
   "outputs": [],
   "execution_count": null
  },
  {
   "metadata": {},
   "cell_type": "code",
   "source": "model_bro_vectors_20 = RandomForestClassifier(n_estimators=20)",
   "id": "55d4d60f7cb93452",
   "outputs": [],
   "execution_count": null
  },
  {
   "metadata": {},
   "cell_type": "code",
   "source": "model_bro_vectors_30 = RandomForestClassifier(n_estimators=30)",
   "id": "c04e667d9e29fe79",
   "outputs": [],
   "execution_count": null
  },
  {
   "metadata": {},
   "cell_type": "code",
   "source": "model_muegge_vectors_10 = RandomForestClassifier(n_estimators=10)",
   "id": "23a40f2c0e23f1ce",
   "outputs": [],
   "execution_count": null
  },
  {
   "metadata": {},
   "cell_type": "code",
   "source": "model_muegge_vectors_20 = RandomForestClassifier(n_estimators=20)",
   "id": "ffe302472be2578e",
   "outputs": [],
   "execution_count": null
  },
  {
   "metadata": {},
   "cell_type": "code",
   "source": "model_muegge_vectors_30 = RandomForestClassifier(n_estimators=30)",
   "id": "f4ca323efe840a16",
   "outputs": [],
   "execution_count": null
  },
  {
   "metadata": {},
   "cell_type": "code",
   "source": "model_lipinski_vectors_10.fit(smiles_vectors_lipinski_train, target_lipinski_vectors_train)",
   "id": "17a0cc3ba10fb140",
   "outputs": [],
   "execution_count": null
  },
  {
   "metadata": {},
   "cell_type": "code",
   "source": "model_lipinski_vectors_20.fit(smiles_vectors_lipinski_train, target_lipinski_vectors_train)",
   "id": "b610dc258cdf6869",
   "outputs": [],
   "execution_count": null
  },
  {
   "metadata": {},
   "cell_type": "code",
   "source": "model_lipinski_vectors_30.fit(smiles_vectors_lipinski_train, target_lipinski_vectors_train)",
   "id": "a64531fe6e5d5f78",
   "outputs": [],
   "execution_count": null
  },
  {
   "metadata": {},
   "cell_type": "code",
   "source": "model_bro_vectors_10.fit(smiles_vectors_bro_train, target_bro_vectors_train)",
   "id": "d4f8099977fc360",
   "outputs": [],
   "execution_count": null
  },
  {
   "metadata": {},
   "cell_type": "code",
   "source": "model_bro_vectors_20.fit(smiles_vectors_bro_train, target_bro_vectors_train)",
   "id": "bc43dfe37715c288",
   "outputs": [],
   "execution_count": null
  },
  {
   "metadata": {},
   "cell_type": "code",
   "source": "model_bro_vectors_30.fit(smiles_vectors_bro_train, target_bro_vectors_train)",
   "id": "3c9dbb7912f9e515",
   "outputs": [],
   "execution_count": null
  },
  {
   "metadata": {},
   "cell_type": "code",
   "source": "model_muegge_vectors_10.fit(smiles_vectors_muegge_train, target_muegge_vectors_train)",
   "id": "db8e54be59285d61",
   "outputs": [],
   "execution_count": null
  },
  {
   "metadata": {},
   "cell_type": "code",
   "source": "model_muegge_vectors_20.fit(smiles_vectors_muegge_train, target_muegge_vectors_train)",
   "id": "5b3d416bc4cd66e5",
   "outputs": [],
   "execution_count": null
  },
  {
   "metadata": {},
   "cell_type": "code",
   "source": "model_muegge_vectors_30.fit(smiles_vectors_muegge_train, target_muegge_vectors_train)",
   "id": "ea96cda82cccdb71",
   "outputs": [],
   "execution_count": null
  },
  {
   "metadata": {},
   "cell_type": "code",
   "source": [
    "smiles_vectors_lipinski_test.columns = smiles_vectors_lipinski_test.columns.astype(str)\n",
    "smiles_vectors_bro_test.columns = smiles_vectors_bro_test.columns.astype(str)\n",
    "smiles_vectors_muegge_test.columns = smiles_vectors_muegge_test.columns.astype(str)"
   ],
   "id": "245e98395739d416",
   "outputs": [],
   "execution_count": null
  },
  {
   "metadata": {},
   "cell_type": "code",
   "source": "test_prediction_lipinski_vectors_10 = model_lipinski_vectors_10.predict(smiles_vectors_lipinski_test)",
   "id": "a3f26be2428a59de",
   "outputs": [],
   "execution_count": null
  },
  {
   "metadata": {},
   "cell_type": "code",
   "source": "test_prediction_lipinski_vectors_20 = model_lipinski_vectors_20.predict(smiles_vectors_lipinski_test)",
   "id": "eb768b32ef62808a",
   "outputs": [],
   "execution_count": null
  },
  {
   "metadata": {},
   "cell_type": "code",
   "source": "test_prediction_lipinski_vectors_30 = model_lipinski_vectors_30.predict(smiles_vectors_lipinski_test)",
   "id": "b1dc18863b5de4b8",
   "outputs": [],
   "execution_count": null
  },
  {
   "metadata": {},
   "cell_type": "code",
   "source": "test_prediction_bro_vectors_10 = model_bro_vectors_10.predict(smiles_vectors_bro_test)",
   "id": "8154c60a240b9616",
   "outputs": [],
   "execution_count": null
  },
  {
   "metadata": {},
   "cell_type": "code",
   "source": "test_prediction_bro_vectors_20 = model_bro_vectors_20.predict(smiles_vectors_bro_test)",
   "id": "555acb35e3872f11",
   "outputs": [],
   "execution_count": null
  },
  {
   "metadata": {},
   "cell_type": "code",
   "source": "test_prediction_bro_vectors_30 = model_bro_vectors_30.predict(smiles_vectors_bro_test)",
   "id": "2927462a930a88fa",
   "outputs": [],
   "execution_count": null
  },
  {
   "metadata": {},
   "cell_type": "code",
   "source": "test_predicton_muegge_vectors_10 = model_muegge_vectors_10.predict(smiles_vectors_muegge_test)",
   "id": "88df65c34818f17c",
   "outputs": [],
   "execution_count": null
  },
  {
   "metadata": {},
   "cell_type": "code",
   "source": "test_predicton_muegge_vectors_20 = model_muegge_vectors_20.predict(smiles_vectors_muegge_test)",
   "id": "60dfe70799760f1a",
   "outputs": [],
   "execution_count": null
  },
  {
   "metadata": {},
   "cell_type": "code",
   "source": "test_predicton_muegge_vectors_30 = model_muegge_vectors_30.predict(smiles_vectors_muegge_test)",
   "id": "648db0ed33ea002b",
   "outputs": [],
   "execution_count": null
  },
  {
   "metadata": {},
   "cell_type": "code",
   "source": [
    "accuracy_lipinski_vectors_model_10 = accuracy_score(target_lipinski_vectors_test, test_prediction_lipinski_vectors_10)\n",
    "accuracy_lipinski_vectors_model_20 = accuracy_score(target_lipinski_vectors_test, test_prediction_lipinski_vectors_20)\n",
    "accuracy_lipinski_vectors_model_30 = accuracy_score(target_lipinski_vectors_test, test_prediction_lipinski_vectors_30)"
   ],
   "id": "e6eb07597c6dc0d6",
   "outputs": [],
   "execution_count": null
  },
  {
   "metadata": {},
   "cell_type": "code",
   "source": [
    "accuracy_bro_vectors_model_10 = accuracy_score(target_bro_vectors_test, test_prediction_bro_vectors_10)\n",
    "accuracy_bro_vectors_model_20 = accuracy_score(target_bro_vectors_test, test_prediction_bro_vectors_20)\n",
    "accuracy_bro_vectors_model_30 = accuracy_score(target_bro_vectors_test, test_prediction_bro_vectors_30)"
   ],
   "id": "79fb8c3b55010528",
   "outputs": [],
   "execution_count": null
  },
  {
   "metadata": {},
   "cell_type": "code",
   "source": [
    "accuracy_muegge_vectors_model_10 = accuracy_score(target_muegge_vectors_test, test_predicton_muegge_vectors_10)\n",
    "accuracy_muegge_vectors_model_20 = accuracy_score(target_muegge_vectors_test, test_predicton_muegge_vectors_20)\n",
    "accuracy_muegge_vectors_model_30 = accuracy_score(target_muegge_vectors_test, test_predicton_muegge_vectors_30)"
   ],
   "id": "9e27db88f63ceea",
   "outputs": [],
   "execution_count": null
  },
  {
   "metadata": {},
   "cell_type": "code",
   "source": [
    "print(\"Accuracy of Lipinski Vectors model with 10 trees:\", accuracy_lipinski_vectors_model_10)\n",
    "print(\"Accuracy of Lipinski Vectors model with 20 trees:\", accuracy_lipinski_vectors_model_20)\n",
    "print(\"Accuracy of Lipinski Vectors model with 30 trees:\", accuracy_lipinski_vectors_model_30)\n",
    "print(\"Accuracy of Bro Vectors model with 10 trees:\", accuracy_bro_vectors_model_10)\n",
    "print(\"Accuracy of Bro Vectors model with 20 trees:\", accuracy_bro_vectors_model_20)\n",
    "print(\"Accuracy of Bro Vectors model with 30 trees:\", accuracy_bro_vectors_model_30)\n",
    "print(\"Accuracy of Muegge Vectors model with 10 trees:\", accuracy_muegge_vectors_model_10)\n",
    "print(\"Accuracy of Muegge Vectors model with 20 trees:\", accuracy_muegge_vectors_model_20)\n",
    "print(\"Accuracy of Muegge Vectors model with 30 trees:\", accuracy_muegge_vectors_model_30)"
   ],
   "id": "d8ec09c78f01b5cf",
   "outputs": [],
   "execution_count": null
  },
  {
   "metadata": {},
   "cell_type": "code",
   "source": [
    "precision_lipinski_vectors_model_10 = precision_score(target_lipinski_vectors_test, test_prediction_lipinski_vectors_10, average='weighted')\n",
    "precision_lipinski_vectors_model_20 = precision_score(target_lipinski_vectors_test, test_prediction_lipinski_vectors_20, average='weighted')\n",
    "precision_lipinski_vectors_model_30 = precision_score(target_lipinski_vectors_test, test_prediction_lipinski_vectors_30, average='weighted')"
   ],
   "id": "c5be24d187de58d4",
   "outputs": [],
   "execution_count": null
  },
  {
   "metadata": {},
   "cell_type": "code",
   "source": [
    "precision_bro_vectors_model_10 = precision_score(target_bro_vectors_test, test_prediction_bro_vectors_10, average='weighted')\n",
    "precision_bro_vectors_model_20 = precision_score(target_bro_vectors_test, test_prediction_bro_vectors_20, average='weighted')\n",
    "precision_bro_vectors_model_30 = precision_score(target_bro_vectors_test, test_prediction_bro_vectors_30, average='weighted')"
   ],
   "id": "cf17240320a7c444",
   "outputs": [],
   "execution_count": null
  },
  {
   "metadata": {},
   "cell_type": "code",
   "source": [
    "precision_muegge_vectors_model_10 = precision_score(target_muegge_vectors_test, test_predicton_muegge_vectors_10, average='weighted')\n",
    "precision_muegge_vectors_model_20 = precision_score(target_muegge_vectors_test, test_predicton_muegge_vectors_20, average='weighted')\n",
    "precision_muegge_vectors_model_30 = precision_score(target_muegge_vectors_test, test_predicton_muegge_vectors_30, average='weighted')"
   ],
   "id": "6113136ff5436f88",
   "outputs": [],
   "execution_count": null
  },
  {
   "metadata": {},
   "cell_type": "code",
   "source": [
    "print(\"Precision of Lipinski Vectors model with 10 trees:\", precision_lipinski_vectors_model_10)\n",
    "print(\"Precision of Lipinski Vectors model with 20 trees:\", precision_lipinski_vectors_model_20)\n",
    "print(\"Precision of Lipinski Vectors model with 30 trees:\", precision_lipinski_vectors_model_30)\n",
    "print(\"Precision of Bro Vectors model with 10 trees:\", precision_bro_vectors_model_10)\n",
    "print(\"Precision of Bro Vectors model with 20 trees:\", precision_bro_vectors_model_20)\n",
    "print(\"Precision of Bro Vectors model with 30 trees:\", precision_bro_vectors_model_30)\n",
    "print(\"Precision of Muegge Vectors model with 10 trees:\", precision_muegge_vectors_model_10)\n",
    "print(\"Precision of Muegge Vectors model with 20 trees:\", precision_muegge_vectors_model_20)\n",
    "print(\"Precision of Muegge Vectors model with 30 trees:\", precision_muegge_vectors_model_30)"
   ],
   "id": "9872cc5bda83ea61",
   "outputs": [],
   "execution_count": null
  },
  {
   "metadata": {},
   "cell_type": "code",
   "source": [
    "recall_lipinski_vectors_10 = recall_score(target_lipinski_vectors_test, test_prediction_lipinski_vectors_10, average='weighted')\n",
    "recall_lipinski_vectors_20 = recall_score(target_lipinski_vectors_test, test_prediction_lipinski_vectors_20, average='weighted')\n",
    "recall_lipinski_vectors_30 = recall_score(target_lipinski_vectors_test, test_prediction_lipinski_vectors_30, average='weighted')"
   ],
   "id": "3add255945553746",
   "outputs": [],
   "execution_count": null
  },
  {
   "metadata": {},
   "cell_type": "code",
   "source": [
    "recall_bro_vectors_10 = recall_score(target_bro_vectors_test, test_prediction_bro_vectors_10, average='weighted')\n",
    "recall_bro_vectors_20 = recall_score(target_bro_vectors_test, test_prediction_bro_vectors_20, average='weighted')\n",
    "recall_bro_vectors_30 = recall_score(target_bro_vectors_test, test_prediction_bro_vectors_30, average='weighted')"
   ],
   "id": "8b15104fc74ebc9b",
   "outputs": [],
   "execution_count": null
  },
  {
   "metadata": {},
   "cell_type": "code",
   "source": [
    "recall_muegge_vectors_10 = recall_score(target_muegge_vectors_test, test_predicton_muegge_vectors_10, average='weighted')\n",
    "recall_muegge_vectors_20 = recall_score(target_muegge_vectors_test, test_predicton_muegge_vectors_20, average='weighted')\n",
    "recall_muegge_vectors_30 = recall_score(target_muegge_vectors_test, test_predicton_muegge_vectors_30, average='weighted')"
   ],
   "id": "88a326b7fdc4f3df",
   "outputs": [],
   "execution_count": null
  },
  {
   "metadata": {},
   "cell_type": "code",
   "source": [
    "print(\"Recall of Lipinski Vectors model with 10 trees:\", recall_lipinski_vectors_10)\n",
    "print(\"Recall of Lipinski Vectors model with 20 trees:\", recall_lipinski_vectors_20)\n",
    "print(\"Recall of Lipinski Vectors model with 30 trees:\", recall_lipinski_vectors_30)\n",
    "print(\"Recall of Bro Vectors model with 10 trees:\", recall_bro_vectors_10)\n",
    "print(\"Recall of Bro Vectors model with 20 trees:\", recall_bro_vectors_20)\n",
    "print(\"Recall of Bro Vectors model with 30 trees:\", recall_bro_vectors_30)\n",
    "print(\"Recall of Muegge Vectors model with 10 trees:\", recall_muegge_vectors_10)\n",
    "print(\"Recall of Muegge Vectors model with 20 trees:\", recall_muegge_vectors_20)\n",
    "print(\"Recall of Muegge Vectors model with 30 trees:\", recall_muegge_vectors_30)"
   ],
   "id": "4a38edafded7a88d",
   "outputs": [],
   "execution_count": null
  },
  {
   "metadata": {},
   "cell_type": "code",
   "source": [
    "f1_score_lipinski_vectors_10 = f1_score(target_lipinski_vectors_test, test_prediction_lipinski_vectors_10, average='weighted')\n",
    "f1_score_lipinski_vectors_20 = f1_score(target_lipinski_vectors_test, test_prediction_lipinski_vectors_20, average='weighted')\n",
    "f1_score_lipinski_vectors_30 = f1_score(target_lipinski_vectors_test, test_prediction_lipinski_vectors_30, average='weighted')"
   ],
   "id": "519be7c153bb704b",
   "outputs": [],
   "execution_count": null
  },
  {
   "metadata": {},
   "cell_type": "code",
   "source": [
    "f1_score_bro_vectors_10 = f1_score(target_bro_vectors_test, test_prediction_bro_vectors_10, average='weighted')\n",
    "f1_score_bro_vectors_20 = f1_score(target_bro_vectors_test, test_prediction_bro_vectors_20, average='weighted')\n",
    "f1_score_bro_vectors_30 = f1_score(target_bro_vectors_test, test_prediction_bro_vectors_30, average='weighted')"
   ],
   "id": "fd215bd4e4b1a6da",
   "outputs": [],
   "execution_count": null
  },
  {
   "metadata": {},
   "cell_type": "code",
   "source": [
    "f1_score_muegge_vectors_10 = f1_score(target_muegge_vectors_test, test_predicton_muegge_vectors_10, average='weighted')\n",
    "f1_score_muegge_vectors_20 = f1_score(target_muegge_vectors_test, test_predicton_muegge_vectors_20, average='weighted')\n",
    "f1_score_muegge_vectors_30 = f1_score(target_muegge_vectors_test, test_predicton_muegge_vectors_30, average='weighted')"
   ],
   "id": "6e17635230b88f0a",
   "outputs": [],
   "execution_count": null
  },
  {
   "metadata": {},
   "cell_type": "code",
   "source": [
    "print(\"F1 Score of Lipinski Vectors model with 10 trees:\", f1_score_lipinski_vectors_10)\n",
    "print(\"F1 Score of Lipinski Vectors model with 20 trees:\", f1_score_lipinski_vectors_20)\n",
    "print(\"F1 Score of Lipinski Vectors model with 30 trees:\", f1_score_lipinski_vectors_30)\n",
    "print(\"F1 Score of Bro Vectors model with 10 trees:\", f1_score_bro_vectors_10)\n",
    "print(\"F1 Score of Bro Vectors model with 20 trees:\", f1_score_bro_vectors_20)\n",
    "print(\"F1 Score of Bro Vectors model with 30 trees:\", f1_score_bro_vectors_30)\n",
    "print(\"F1 Score of Muegge Vectors model with 10 trees:\", f1_score_muegge_vectors_10)\n",
    "print(\"F1 Score of Muegge Vectors model with 20 trees:\", f1_score_muegge_vectors_20)\n",
    "print(\"F1 Score of Muegge Vectors model with 30 trees:\", f1_score_muegge_vectors_30)"
   ],
   "id": "e8eb858cfee32056",
   "outputs": [],
   "execution_count": null
  },
  {
   "metadata": {},
   "cell_type": "code",
   "source": [
    "plt.scatter(target_lipinski_vectors_test, test_prediction_lipinski_vectors_10, alpha=0.5, color='black')\n",
    "plt.xlabel(\"Test Values\")\n",
    "plt.ylabel(\"Predicted Values\")\n",
    "plt.title(\"Scatter plot: Random Forest Classifier Vectors (Lipinski 10 Trees)\")\n",
    "plt.grid(True)\n",
    "plt.show()"
   ],
   "id": "789912390fe9cae3",
   "outputs": [],
   "execution_count": null
  },
  {
   "metadata": {},
   "cell_type": "code",
   "source": [
    "plt.scatter(target_lipinski_vectors_test, test_prediction_lipinski_vectors_20, alpha=0.5, color='black')\n",
    "plt.xlabel(\"Test Values\")\n",
    "plt.ylabel(\"Predicted Values\")\n",
    "plt.title(\"Scatter plot: Random Forest Classifier Vectors (Lipinski 20 Trees)\")\n",
    "plt.grid(True)\n",
    "plt.show()"
   ],
   "id": "a0c92922ebdd9089",
   "outputs": [],
   "execution_count": null
  },
  {
   "metadata": {},
   "cell_type": "code",
   "source": [
    "plt.scatter(target_lipinski_vectors_test, test_prediction_lipinski_vectors_30, alpha=0.5, color='black')\n",
    "plt.xlabel(\"Test Values\")\n",
    "plt.ylabel(\"Predicted Values\")\n",
    "plt.title(\"Scatter plot: Random Forest Classifier Vectors (Lipinski 30 Trees)\")\n",
    "plt.grid(True)\n",
    "plt.show()"
   ],
   "id": "b1ace47a1c696110",
   "outputs": [],
   "execution_count": null
  },
  {
   "metadata": {},
   "cell_type": "code",
   "source": [
    "plt.scatter(target_muegge_vectors_test, test_predicton_muegge_vectors_10, alpha=0.5, color='black')\n",
    "plt.xlabel(\"Test Values\")\n",
    "plt.ylabel(\"Predicted Values\")\n",
    "plt.title(\"Scatter plot: Random Forest Classifier Vectors (Muegge 10 Trees)\")\n",
    "plt.grid(True)\n",
    "plt.show()"
   ],
   "id": "525d749ef1b4ee64",
   "outputs": [],
   "execution_count": null
  },
  {
   "metadata": {},
   "cell_type": "code",
   "source": [
    "plt.scatter(target_muegge_vectors_test, test_predicton_muegge_vectors_20, alpha=0.5, color='black')\n",
    "plt.xlabel(\"Test Values\")\n",
    "plt.ylabel(\"Predicted Values\")\n",
    "plt.title(\"Scatter plot: Random Forest Classifier Vectors (Muegge 20 Trees)\")\n",
    "plt.grid(True)\n",
    "plt.show()"
   ],
   "id": "8a7beac34dbaf4e",
   "outputs": [],
   "execution_count": null
  },
  {
   "metadata": {},
   "cell_type": "code",
   "source": [
    "plt.scatter(target_muegge_vectors_test, test_predicton_muegge_vectors_30, alpha=0.5, color='black')\n",
    "plt.xlabel(\"Test Values\")\n",
    "plt.ylabel(\"Predicted Values\")\n",
    "plt.title(\"Scatter plot: Random Forest Classifier Vectors (Muegge 30 Trees)\")\n",
    "plt.grid(True)\n",
    "plt.show()"
   ],
   "id": "b01dedae7c5fa023",
   "outputs": [],
   "execution_count": null
  },
  {
   "metadata": {},
   "cell_type": "code",
   "source": [
    "plt.scatter(target_bro_vectors_test, test_prediction_bro_vectors_10, alpha=0.5, color='black')\n",
    "plt.xlabel(\"Test Values\")\n",
    "plt.ylabel(\"Predicted Values\")\n",
    "plt.title(\"Scatter plot: Random Forest Classifier Vectors (bRo5 10 Trees)\")\n",
    "plt.grid(True)\n",
    "plt.show()"
   ],
   "id": "716190cb14cef7fd",
   "outputs": [],
   "execution_count": null
  },
  {
   "metadata": {},
   "cell_type": "code",
   "source": [
    "plt.scatter(target_bro_vectors_test, test_prediction_bro_vectors_20, alpha=0.5, color='black')\n",
    "plt.xlabel(\"Test Values\")\n",
    "plt.ylabel(\"Predicted Values\")\n",
    "plt.title(\"Scatter plot: Random Forest Classifier Vectors (bRo5 20 Trees)\")\n",
    "plt.grid(True)\n",
    "plt.show()"
   ],
   "id": "7c77c43b81f3369a",
   "outputs": [],
   "execution_count": null
  },
  {
   "metadata": {},
   "cell_type": "code",
   "source": [
    "plt.scatter(target_bro_vectors_test, test_prediction_bro_vectors_30, alpha=0.5, color='black')\n",
    "plt.xlabel(\"Test Values\")\n",
    "plt.ylabel(\"Predicted Values\")\n",
    "plt.title(\"Scatter plot: Random Forest Classifier Vectors (bRo5 30 Trees)\")\n",
    "plt.grid(True)\n",
    "plt.show()"
   ],
   "id": "88118c0f121b64ae",
   "outputs": [],
   "execution_count": null
  },
  {
   "metadata": {},
   "cell_type": "code",
   "source": [
    "classes = np.unique(target_lipinski_vectors_test)\n",
    "n_classes = len(classes)\n",
    "\n",
    "lipinski_test_bin = label_binarize(target_lipinski_vectors_test, classes=classes)\n",
    "lipinski_10_score = model_lipinski_vectors_10.predict_proba(smiles_vectors_lipinski_test)\n",
    "\n",
    "fpr_micro, tpr_micro, _ = roc_curve(lipinski_test_bin.ravel(), lipinski_10_score.ravel())\n",
    "auc_micro = roc_auc_score(lipinski_test_bin, lipinski_10_score, average=\"micro\")\n",
    "auc_macro = roc_auc_score(lipinski_test_bin, lipinski_10_score, average=\"macro\")\n",
    "\n",
    "plt.plot(fpr_micro, tpr_micro, label=f\"Micro-average ROC (AUC = {auc_micro:.2f})\", color='black')\n",
    "plt.plot([0, 1], [0, 1], linestyle='--', color='gray')\n",
    "plt.xlabel(\"False Positive Rate\")\n",
    "plt.ylabel(\"True Positive Rate\")\n",
    "plt.title(\"ROC Lipinski Vectors 10 Trees\")\n",
    "plt.legend()\n",
    "plt.grid(True)\n",
    "plt.show()\n",
    "\n",
    "print(f\"Macro-average AUC: {auc_macro:.3f}\")\n",
    "print(f\"Micro-average AUC: {auc_micro:.3f}\")"
   ],
   "id": "3e4e9193bf5e104e",
   "outputs": [],
   "execution_count": null
  },
  {
   "metadata": {},
   "cell_type": "code",
   "source": [
    "classes = np.unique(target_lipinski_vectors_test)\n",
    "n_classes_lipinski = len(classes)\n",
    "\n",
    "lipinski_test_bin = label_binarize(target_lipinski_vectors_test, classes=classes)\n",
    "lipinski_20_score = model_lipinski_vectors_20.predict_proba(smiles_vectors_lipinski_test)\n",
    "\n",
    "fpr_micro, tpr_micro, _ = roc_curve(lipinski_test_bin.ravel(), lipinski_20_score.ravel())\n",
    "auc_micro = roc_auc_score(lipinski_test_bin, lipinski_20_score, average=\"micro\")\n",
    "auc_macro = roc_auc_score(lipinski_test_bin, lipinski_20_score, average=\"macro\")\n",
    "\n",
    "plt.plot(fpr_micro, tpr_micro, label=f\"Micro-average ROC (AUC = {auc_micro:.2f})\", color='black')\n",
    "plt.plot([0, 1], [0, 1], linestyle='--', color='gray')\n",
    "plt.xlabel(\"False Positive Rate\")\n",
    "plt.ylabel(\"True Positive Rate\")\n",
    "plt.title(\"ROC Lipinski Vectors 20 Trees\")\n",
    "plt.legend()\n",
    "plt.grid(True)\n",
    "plt.show()\n",
    "\n",
    "print(f\"Macro-average AUC: {auc_macro:.3f}\")\n",
    "print(f\"Micro-average AUC: {auc_micro:.3f}\")"
   ],
   "id": "2a409f6a6b65de35",
   "outputs": [],
   "execution_count": null
  },
  {
   "metadata": {},
   "cell_type": "code",
   "source": [
    "classes = np.unique(target_lipinski_vectors_test)\n",
    "n_classes_lipinski = len(classes)\n",
    "\n",
    "lipinski_test_bin = label_binarize(target_lipinski_vectors_test, classes=classes)\n",
    "lipinski_30_score = model_lipinski_vectors_30.predict_proba(smiles_vectors_lipinski_test)\n",
    "\n",
    "fpr_micro, tpr_micro, _ = roc_curve(lipinski_test_bin.ravel(), lipinski_30_score.ravel())\n",
    "auc_micro = roc_auc_score(lipinski_test_bin, lipinski_30_score, average=\"micro\")\n",
    "auc_macro = roc_auc_score(lipinski_test_bin, lipinski_30_score, average=\"macro\")\n",
    "\n",
    "plt.plot(fpr_micro, tpr_micro, label=f\"Micro-average ROC (AUC = {auc_micro:.2f})\", color='black')\n",
    "plt.plot([0, 1], [0, 1], linestyle='--', color='gray')\n",
    "plt.xlabel(\"False Positive Rate\")\n",
    "plt.ylabel(\"True Positive Rate\")\n",
    "plt.title(\"ROC Lipinski Vectors 30 Trees\")\n",
    "plt.legend()\n",
    "plt.grid(True)\n",
    "plt.show()\n",
    "\n",
    "print(f\"Macro-average AUC: {auc_macro:.3f}\")\n",
    "print(f\"Micro-average AUC: {auc_micro:.3f}\")"
   ],
   "id": "8bd53933992a1836",
   "outputs": [],
   "execution_count": null
  },
  {
   "metadata": {},
   "cell_type": "code",
   "source": [
    "classes = np.unique(target_muegge_vectors_test)\n",
    "n_classes_muegge = len(classes)\n",
    "\n",
    "muegge_test_bin = label_binarize(target_muegge_vectors_test, classes=classes)\n",
    "muegge_10_score = model_muegge_vectors_10.predict_proba(smiles_vectors_muegge_test)\n",
    "\n",
    "fpr_micro, tpr_micro, _ = roc_curve(muegge_test_bin.ravel(), muegge_10_score.ravel())\n",
    "auc_micro = roc_auc_score(muegge_test_bin, muegge_10_score, average=\"micro\")\n",
    "auc_macro = roc_auc_score(muegge_test_bin, muegge_10_score, average=\"macro\")\n",
    "\n",
    "plt.plot(fpr_micro, tpr_micro, label=f\"Micro-average ROC (AUC = {auc_micro:.2f})\", color='black')\n",
    "plt.plot([0, 1], [0, 1], linestyle='--', color='gray')\n",
    "plt.xlabel(\"False Positive Rate\")\n",
    "plt.ylabel(\"True Positive Rate\")\n",
    "plt.title(\"ROC Muegge Vectors 10 Trees\")\n",
    "plt.legend()\n",
    "plt.grid(True)\n",
    "plt.show()\n",
    "\n",
    "print(f\"Macro-average AUC: {auc_macro:.3f}\")\n",
    "print(f\"Micro-average AUC: {auc_micro:.3f}\")"
   ],
   "id": "9447545cfe2dbe2e",
   "outputs": [],
   "execution_count": null
  },
  {
   "metadata": {},
   "cell_type": "code",
   "source": [
    "classes = np.unique(target_muegge_vectors_test)\n",
    "n_classes_muegge = len(classes)\n",
    "\n",
    "muegge_test_bin = label_binarize(target_muegge_vectors_test, classes=classes)\n",
    "muegge_20_score = model_muegge_vectors_20.predict_proba(smiles_vectors_muegge_test)\n",
    "\n",
    "fpr_micro, tpr_micro, _ = roc_curve(muegge_test_bin.ravel(), muegge_20_score.ravel())\n",
    "auc_micro = roc_auc_score(muegge_test_bin, muegge_20_score, average=\"micro\")\n",
    "auc_macro = roc_auc_score(muegge_test_bin, muegge_20_score, average=\"macro\")\n",
    "\n",
    "plt.plot(fpr_micro, tpr_micro, label=f\"Micro-average ROC (AUC = {auc_micro:.2f})\", color='black')\n",
    "plt.plot([0, 1], [0, 1], linestyle='--', color='gray')\n",
    "plt.xlabel(\"False Positive Rate\")\n",
    "plt.ylabel(\"True Positive Rate\")\n",
    "plt.title(\"ROC Muegge Vectors 20 Trees\")\n",
    "plt.legend()\n",
    "plt.grid(True)\n",
    "plt.show()\n",
    "\n",
    "print(f\"Macro-average AUC: {auc_macro:.3f}\")\n",
    "print(f\"Micro-average AUC: {auc_micro:.3f}\")"
   ],
   "id": "b39a27bc01c5d197",
   "outputs": [],
   "execution_count": null
  },
  {
   "metadata": {},
   "cell_type": "code",
   "source": [
    "classes = np.unique(target_muegge_vectors_test)\n",
    "n_classes_muegge = len(classes)\n",
    "\n",
    "muegge_test_bin = label_binarize(target_muegge_vectors_test, classes=classes)\n",
    "muegge_30_score = model_muegge_vectors_30.predict_proba(smiles_vectors_muegge_test)\n",
    "\n",
    "fpr_micro, tpr_micro, _ = roc_curve(muegge_test_bin.ravel(), muegge_30_score.ravel())\n",
    "auc_micro = roc_auc_score(muegge_test_bin, muegge_30_score, average=\"micro\")\n",
    "auc_macro = roc_auc_score(muegge_test_bin, muegge_30_score, average=\"macro\")\n",
    "\n",
    "plt.plot(fpr_micro, tpr_micro, label=f\"Micro-average ROC (AUC = {auc_micro:.2f})\", color='black')\n",
    "plt.plot([0, 1], [0, 1], linestyle='--', color='gray')\n",
    "plt.xlabel(\"False Positive Rate\")\n",
    "plt.ylabel(\"True Positive Rate\")\n",
    "plt.title(\"ROC Muegge Vectors 30 Trees\")\n",
    "plt.legend()\n",
    "plt.grid(True)\n",
    "plt.show()\n",
    "\n",
    "print(f\"Macro-average AUC: {auc_macro:.3f}\")\n",
    "print(f\"Micro-average AUC: {auc_micro:.3f}\")"
   ],
   "id": "3591e3d5181efd66",
   "outputs": [],
   "execution_count": null
  },
  {
   "metadata": {},
   "cell_type": "code",
   "source": [
    "classes = np.unique(target_bro_vectors_test)\n",
    "n_classes_bro = len(classes)\n",
    "\n",
    "bro_test_bin = label_binarize(target_bro_vectors_test, classes=classes)\n",
    "bro_10_score = model_bro_vectors_10.predict_proba(smiles_vectors_muegge_test)\n",
    "\n",
    "fpr_micro, tpr_micro, _ = roc_curve(bro_test_bin.ravel(), bro_10_score.ravel())\n",
    "auc_micro = roc_auc_score(bro_test_bin, bro_10_score, average=\"micro\")\n",
    "auc_macro = roc_auc_score(bro_test_bin, bro_10_score, average=\"macro\")\n",
    "\n",
    "plt.plot(fpr_micro, tpr_micro, label=f\"Micro-average ROC (AUC = {auc_micro:.2f})\", color='black')\n",
    "plt.plot([0, 1], [0, 1], linestyle='--', color='gray')\n",
    "plt.xlabel(\"False Positive Rate\")\n",
    "plt.ylabel(\"True Positive Rate\")\n",
    "plt.title(\"ROC bRo5 Vectors 10 Trees\")\n",
    "plt.legend()\n",
    "plt.grid(True)\n",
    "plt.show()\n",
    "\n",
    "print(f\"Macro-average AUC: {auc_macro:.3f}\")\n",
    "print(f\"Micro-average AUC: {auc_micro:.3f}\")"
   ],
   "id": "daffd62ff20fe19",
   "outputs": [],
   "execution_count": null
  },
  {
   "metadata": {},
   "cell_type": "code",
   "source": [
    "classes = np.unique(target_bro_vectors_test)\n",
    "n_classes_bro = len(classes)\n",
    "\n",
    "bro_test_bin = label_binarize(target_bro_vectors_test, classes=classes)\n",
    "bro_20_score = model_bro_vectors_20.predict_proba(smiles_vectors_muegge_test)\n",
    "\n",
    "fpr_micro, tpr_micro, _ = roc_curve(bro_test_bin.ravel(), bro_20_score.ravel())\n",
    "auc_micro = roc_auc_score(bro_test_bin, bro_20_score, average=\"micro\")\n",
    "auc_macro = roc_auc_score(bro_test_bin, bro_20_score, average=\"macro\")\n",
    "\n",
    "plt.plot(fpr_micro, tpr_micro, label=f\"Micro-average ROC (AUC = {auc_micro:.2f})\", color='black')\n",
    "plt.plot([0, 1], [0, 1], linestyle='--', color='gray')\n",
    "plt.xlabel(\"False Positive Rate\")\n",
    "plt.ylabel(\"True Positive Rate\")\n",
    "plt.title(\"ROC bRo5 Vectors 20 Trees\")\n",
    "plt.legend()\n",
    "plt.grid(True)\n",
    "plt.show()\n",
    "\n",
    "print(f\"Macro-average AUC: {auc_macro:.3f}\")\n",
    "print(f\"Micro-average AUC: {auc_micro:.3f}\")"
   ],
   "id": "d8f37a92509dfeec",
   "outputs": [],
   "execution_count": null
  },
  {
   "metadata": {},
   "cell_type": "code",
   "source": [
    "classes = np.unique(target_bro_vectors_test)\n",
    "n_classes_bro = len(classes)\n",
    "\n",
    "bro_test_bin = label_binarize(target_bro_vectors_test, classes=classes)\n",
    "bro_30_score = model_bro_vectors_30.predict_proba(smiles_vectors_muegge_test)\n",
    "\n",
    "fpr_micro, tpr_micro, _ = roc_curve(bro_test_bin.ravel(), bro_30_score.ravel())\n",
    "auc_micro = roc_auc_score(bro_test_bin, bro_30_score, average=\"micro\")\n",
    "auc_macro = roc_auc_score(bro_test_bin, bro_30_score, average=\"macro\")\n",
    "\n",
    "plt.plot(fpr_micro, tpr_micro, label=f\"Micro-average ROC (AUC = {auc_micro:.2f})\", color='black')\n",
    "plt.plot([0, 1], [0, 1], linestyle='--', color='gray')\n",
    "plt.xlabel(\"False Positive Rate\")\n",
    "plt.ylabel(\"True Positive Rate\")\n",
    "plt.title(\"ROC bRo5 Vectors 30 Trees\")\n",
    "plt.legend()\n",
    "plt.grid(True)\n",
    "plt.show()\n",
    "\n",
    "print(f\"Macro-average AUC: {auc_macro:.3f}\")\n",
    "print(f\"Micro-average AUC: {auc_micro:.3f}\")"
   ],
   "id": "ce5653602d63ea4e",
   "outputs": [],
   "execution_count": null
  },
  {
   "metadata": {},
   "cell_type": "code",
   "source": "peptide_molecules_smiles = ['N[C@@H](CCCNC(=N)N)C(=O)NCC(=O)N[C@@H](CC(=O)O)C(=O)O', 'NC(CCNC(=N)N)C(=O)NCC(=O)N[C@@H](CC(=O)O)C(=O)O', 'NC(CNC(=N)N)C(=O)NCC(=O)N[C@@H](CC(=O)O)C(=O)O', 'N[C@@H](CCONC(=N)N)C(=O)OCC(=O)N[C@@H](CC(=O)O)C(=O)O', 'NCCNC(=O)[C@H](CC(=O)O)NC(=O)CNC(=O)[C@@H](N)CCCNC(=N)N', 'NCCCNC(=O)[C@H](CC(=O)O)NC(=O)CNC(=O)[C@@H](N)CCCNC(=N)N', 'NCCNC(=O)[C@H](CC(=O)O)NC(=O)CNC(=O)C(N)CCNC(=N)N', 'NCCCNC(=O)[C@H](CC(=O)O)NC(=O)CNC(=O)C(N)CCNC(=N)N', 'NCCNC(=O)[C@H](CC(=O)O)NC(=O)CNC(=O)C(N)CNC(=N)N', 'NCCCNC(=O)[C@H](CC(=O)O)NC(=O)CNC(=O)C(N)CNC(=N)N', 'NCCNC(=O)[C@H](CC(=O)O)NC(=O)COC(=O)[C@@H](N)CCONC(=N)N', 'NCCCNC(=O)[C@H](CC(=O)O)NC(=O)COC(=O)[C@@H](N)CCONC(=N)N', 'CC[C@H](C)[C@@H](NC(=O)[C@@H]1CCCN1C(=O)[C@@H](NC(=O)[C@H](C)N)C(C)C)C(=O)O', 'CC[C@H](C)[C@@H](NC(=O)[C@@H]1CCCN1C(=O)[C@H](Cc2ccc(F)cc2)NC(=O)[C@H](C)N)C(=O)O', 'C[C@H](N)C(=O)N[C@@H](Cc1ccc(F)cc1)C(=O)N2CCC[C@H]2C(=O)N[C@H](Cc3ccc(F)cc3)C(=O)O', 'CC(C)[C@H](NC(=O)[C@H](C)N)C(=O)N1CCC[C@H]1C(=O)N[C@H](Cc2ccc(F)cc2)C(=O)O', 'CC[C@H](C)[C@H](NC(=O)[C@H](Cc1ccc(O)cc1)NC(=O)C2CCCN2C(=O)[C@H](CCCNC(=N)N)NC(=O)[C@@H](N)CCCNC(=N)N)C(=O)N[C@@H](CC(C)C)C(=O)O', 'CC[C@H](C)[C@H](NC(=O)[C@H](Cc1ccc(O)cc1)NC(=O)C2CCCN2C(=O)[C@H](CCONC(=N)N)NC(=O)[C@@H](N)CCCCN)C(=O)N[C@@H](CC(C)C)C(=O)O', 'CC[C@H](C)[C@H](NC(=O)[C@H](Cc1ccc(O)cc1)NC(=O)C2CCCN2C(=O)[C@H](CCCCN)NC(=O)[C@@H](N)CCONC(=N)N)C(=O)N[C@@H](CC(C)C)C(=O)O', 'CC[C@H](C)[C@H](NC(=O)[C@H](Cc1ccc(O)cc1)NC(=O)C2CCCN2C(=O)[C@H](CCONC(=N)N)NC(=O)[C@@H](N)CCONC(=N)N)C(=O)N[C@@H](CC(C)C)C(=O)O', 'CC[C@H](C)[C@H](NC(=O)[C@H](Cc1ccc(O)cc1)NC(=O)C2CCCN2C(=O)[C@H](CCONC(=N)N)NC(=O)[C@@H](N)CCCNC(=N)N)C(=O)N[C@@H](CC(C)C)C(=O)O', 'CC[C@H](C)[C@H](NC(=O)[C@H](Cc1ccc(O)cc1)NC(=O)C2CCCN2C(=O)[C@H](CCCNC(=N)N)NC(=O)[C@@H](N)CCONC(=N)N)C(=O)N[C@@H](CC(C)C)C(=O)O', 'CC[C@@H](C)[C@H](NC(=O)[C@H](Cc1ccc(F)cc1)NC(=O)C2CCCN2C(=O)[C@H](CCCNC(=N)N)NC(=O)[C@@H](N)CCONC(=N)N)C(=O)N[C@@H](CC(C)C)C(=O)O', 'CCC(C)[C@H](NC(=O)[C@@H]1CCCN1C(=O)[C@@H](NC(=O)[C@H](C)N)C(C)C)C(=O)N[C@@H](CCCNC(=N)N)C(=O)N[C@@H](CCCNC(=N)N)C(=O)N[C@@H](CCCNC(=N)N)C(=O)N[C@@H](CCCNC(=N)N)C(=O)N[C@@H](CCCNC(=N)N)C(=O)N[C@@H](CCCNC(=N)N)C(=O)O', 'CC[C@H](C)[C@H](NC(=O)[C@H](Cc1ccc(O)cc1)NC(=O)C2CCCN2C(=O)[C@H](CCONC(=N)N)NC(=O)[C@H](CCONC(=N)N)NC(=O)[C@@H](NC(=O)[C@@H]3CCCN3C(=O)[C@@H](NC(=O)[C@H](C)N)C(C)C)C(C)CC)C(=O)N[C@@H](CC(C)C)C(=O)O', 'CC[C@H](C)[C@H](NC(=O)[C@H](Cc1ccc(O)cc1)NC(=O)C2CCCN2C(=O)[C@H](CCCNC(=N)N)NC(=O)[C@H](CCCNC(=N)N)NC(=O)[C@@H](NC(=O)[C@@H]3CCCN3C(=O)[C@@H](NC(=O)[C@H](C)N)C(C)C)C(C)CC)C(=O)N[C@@H](CC(C)C)C(=O)O']",
   "id": "df9a4d840f8ba047",
   "outputs": [],
   "execution_count": null
  },
  {
   "metadata": {},
   "cell_type": "code",
   "source": "peptides_molecules_smiles_dict = {'smiles': peptide_molecules_smiles}",
   "id": "e703db0bed463be7",
   "outputs": [],
   "execution_count": null
  },
  {
   "metadata": {},
   "cell_type": "code",
   "source": "test_dataset_smiles = pd.concat([pd.DataFrame(peptides_molecules_smiles_dict), test_dataset_for_work], axis=1)",
   "id": "a0982b4b50181053",
   "outputs": [],
   "execution_count": null
  },
  {
   "metadata": {},
   "cell_type": "code",
   "source": [
    "fingerprint_generator_test = rdFingerprintGenerator.GetMorganGenerator(radius=4, fpSize=1024)\n",
    "\n",
    "test_molecules_fingerprints_list = []\n",
    "\n",
    "for _, row in test_dataset_smiles.iterrows():\n",
    "\n",
    "    smile = row['smiles']\n",
    "    mol = Chem.MolFromSmiles(smile)\n",
    "    if mol is not None:\n",
    "        fp = fingerprint_generator_test.GetFingerprint(mol)\n",
    "        test_molecules_fingerprints_list.append(np.array(fp))\n",
    "\n",
    "test_molecules_fingerprints_array = np.array(test_molecules_fingerprints_list, dtype=np.float32)"
   ],
   "id": "366bcce4bdb501d9",
   "outputs": [],
   "execution_count": null
  },
  {
   "metadata": {},
   "cell_type": "code",
   "source": "test_molecules_fingerprints_df = pd.DataFrame(test_molecules_fingerprints_array)",
   "id": "793f611cf6267199",
   "outputs": [],
   "execution_count": null
  },
  {
   "metadata": {},
   "cell_type": "code",
   "source": [
    "prediction_lipinski_vectors_10 = model_lipinski_vectors_10.predict(test_molecules_fingerprints_df)\n",
    "prediction_lipinski_vectors_20 = model_lipinski_vectors_20.predict(test_molecules_fingerprints_df)\n",
    "prediction_lipinski_vectors_30 = model_lipinski_vectors_30.predict(test_molecules_fingerprints_df)"
   ],
   "id": "c0de0bfabbadd78f",
   "outputs": [],
   "execution_count": null
  },
  {
   "metadata": {},
   "cell_type": "code",
   "source": [
    "prediction_bro_vectors_10 = model_bro_vectors_10.predict(test_molecules_fingerprints_array)\n",
    "prediction_bro_vectors_20 = model_bro_vectors_20.predict(test_molecules_fingerprints_array)\n",
    "prediction_bro_vectors_30 = model_bro_vectors_30.predict(test_molecules_fingerprints_array)"
   ],
   "id": "519df519cd3032ba",
   "outputs": [],
   "execution_count": null
  },
  {
   "metadata": {},
   "cell_type": "code",
   "source": [
    "prediction_muegge_vectors_10 = model_muegge_vectors_10.predict(test_molecules_fingerprints_array)\n",
    "prediction_muegge_vectors_20 = model_muegge_vectors_20.predict(test_molecules_fingerprints_array)\n",
    "prediction_muegge_vectors_30 = model_muegge_vectors_30.predict(test_molecules_fingerprints_array)"
   ],
   "id": "67abc49d1a9c7061",
   "outputs": [],
   "execution_count": null
  },
  {
   "metadata": {},
   "cell_type": "code",
   "source": [
    "predicted_violations_peptides_lipinski_vectors_10 = []\n",
    "\n",
    "for predicted_value in prediction_lipinski_vectors_10:\n",
    "    predicted_violations_peptides_lipinski_vectors_10.append(int(predicted_value))"
   ],
   "id": "f8c05ffc9b04fced",
   "outputs": [],
   "execution_count": null
  },
  {
   "metadata": {},
   "cell_type": "code",
   "source": [
    "predicted_violations_peptides_lipinski_vectors_20 = []\n",
    "\n",
    "for predicted_value in prediction_lipinski_vectors_20:\n",
    "    predicted_violations_peptides_lipinski_vectors_20.append(int(predicted_value))"
   ],
   "id": "7f08c26c135ea7be",
   "outputs": [],
   "execution_count": null
  },
  {
   "metadata": {},
   "cell_type": "code",
   "source": [
    "predicted_violations_peptides_lipinski_vectors_30 = []\n",
    "\n",
    "for predicted_value in prediction_lipinski_vectors_30:\n",
    "    predicted_violations_peptides_lipinski_vectors_30.append(int(predicted_value))"
   ],
   "id": "836f74f6d4592a77",
   "outputs": [],
   "execution_count": null
  },
  {
   "metadata": {},
   "cell_type": "code",
   "source": [
    "predicted_violations_peptides_bro_vectors_10 = []\n",
    "\n",
    "for predicted_value in prediction_bro_vectors_10:\n",
    "    predicted_violations_peptides_bro_vectors_10.append(int(predicted_value))"
   ],
   "id": "aaa1ffc1ee4a2e9d",
   "outputs": [],
   "execution_count": null
  },
  {
   "metadata": {},
   "cell_type": "code",
   "source": [
    "predicted_violations_peptides_bro_vectors_20 = []\n",
    "\n",
    "for predicted_value in prediction_bro_vectors_20:\n",
    "    predicted_violations_peptides_bro_vectors_20.append(int(predicted_value))"
   ],
   "id": "a314dce70c8f6a41",
   "outputs": [],
   "execution_count": null
  },
  {
   "metadata": {},
   "cell_type": "code",
   "source": [
    "predicted_violations_peptides_bro_vectors_30 = []\n",
    "\n",
    "for predicted_value in prediction_bro_vectors_30:\n",
    "    predicted_violations_peptides_bro_vectors_30.append(int(predicted_value))"
   ],
   "id": "2d7187f331a27b2",
   "outputs": [],
   "execution_count": null
  },
  {
   "metadata": {},
   "cell_type": "code",
   "source": [
    "predicted_violations_peptides_muegge_vectors_10 = []\n",
    "\n",
    "for predicted_value in prediction_muegge_vectors_10:\n",
    "    predicted_violations_peptides_muegge_vectors_10.append(int(predicted_value))"
   ],
   "id": "cc103d305d36aeb3",
   "outputs": [],
   "execution_count": null
  },
  {
   "metadata": {},
   "cell_type": "code",
   "source": [
    "predicted_violations_peptides_muegge_vectors_20 = []\n",
    "\n",
    "for predicted_value in prediction_muegge_vectors_20:\n",
    "    predicted_violations_peptides_muegge_vectors_20.append(int(predicted_value))"
   ],
   "id": "d5e22655aeb9be06",
   "outputs": [],
   "execution_count": null
  },
  {
   "metadata": {},
   "cell_type": "code",
   "source": [
    "predicted_violations_peptides_muegge_vectors_30 = []\n",
    "\n",
    "for predicted_value in prediction_muegge_vectors_30:\n",
    "    predicted_violations_peptides_muegge_vectors_30.append(int(predicted_value))"
   ],
   "id": "c524ab586aaeeb11",
   "outputs": [],
   "execution_count": null
  },
  {
   "metadata": {},
   "cell_type": "code",
   "source": [
    "lipinski_violations_vectors_dict_10 = {'nviolations_lipinski_rule_10': predicted_violations_peptides_lipinski_vectors_10}\n",
    "lipinski_violations_vectors_dict_20 = {'nviolations_lipinski_rule_20': predicted_violations_peptides_lipinski_vectors_20}\n",
    "lipinski_violations_vectors_dict_30 = {'nviolations_lipinski_rule_30': predicted_violations_peptides_lipinski_vectors_30}\n",
    "bro_violations_dict_vectors_10 = {'nviolations_bro_rule': predicted_violations_peptides_bro_vectors_10}\n",
    "bro_violations_dict_vectors_20 = {'nviolations_bro_rule': predicted_violations_peptides_bro_vectors_20}\n",
    "bro_violations_dict_vectors_30 = {'nviolations_bro_rule': predicted_violations_peptides_bro_vectors_30}\n",
    "muegge_violations_10_vectors_dict = {'nviolations_muegge_rule_10': predicted_violations_peptides_muegge_vectors_10}\n",
    "muegge_violations_20_vectors_dict = {'nviolations_muegge_rule_20': predicted_violations_peptides_muegge_vectors_20}\n",
    "muegge_violations_30_vectors_dict = {'nviolations_muegge_rule_30': predicted_violations_peptides_muegge_vectors_30}"
   ],
   "id": "1b41ded3c12337ea",
   "outputs": [],
   "execution_count": null
  },
  {
   "metadata": {},
   "cell_type": "code",
   "source": [
    "peptide_predictions_dataset_lipinski_vectors = pd.concat(\n",
    "    [pd.DataFrame(lipinski_violations_vectors_dict_10),\n",
    "     pd.DataFrame(lipinski_violations_vectors_dict_20), pd.DataFrame(lipinski_violations_vectors_dict_30)], axis=1)\n",
    "peptide_predictions_bro_dataset_vectors = pd.concat(\n",
    "    [pd.DataFrame(bro_violations_dict_vectors_10),\n",
    "     pd.DataFrame(bro_violations_dict_vectors_20), pd.DataFrame(bro_violations_dict_vectors_30)], axis=1)\n",
    "peptide_predictions_muegge_dataset_vectors = pd.concat(\n",
    "    [pd.DataFrame(muegge_violations_10_vectors_dict),\n",
    "     pd.DataFrame(muegge_violations_20_vectors_dict), pd.DataFrame(muegge_violations_30_vectors_dict)], axis=1)"
   ],
   "id": "fe4c951f780512c4",
   "outputs": [],
   "execution_count": null
  },
  {
   "metadata": {},
   "cell_type": "code",
   "source": "peptide_predictions_dataset_lipinski_vectors",
   "id": "1610b95a1b84a8b6",
   "outputs": [],
   "execution_count": null
  },
  {
   "metadata": {},
   "cell_type": "code",
   "source": "peptide_predictions_bro_dataset_vectors",
   "id": "3c7f2e556be90578",
   "outputs": [],
   "execution_count": null
  },
  {
   "metadata": {},
   "cell_type": "code",
   "source": "peptide_predictions_muegge_dataset_vectors",
   "id": "87cee42a716b6147",
   "outputs": [],
   "execution_count": null
  }
 ],
 "metadata": {
  "kernelspec": {
   "display_name": "Python 3",
   "language": "python",
   "name": "python3"
  },
  "language_info": {
   "codemirror_mode": {
    "name": "ipython",
    "version": 2
   },
   "file_extension": ".py",
   "mimetype": "text/x-python",
   "name": "python",
   "nbconvert_exporter": "python",
   "pygments_lexer": "ipython2",
   "version": "2.7.6"
  }
 },
 "nbformat": 4,
 "nbformat_minor": 5
}
