{
 "cells": [
  {
   "cell_type": "code",
   "id": "initial_id",
   "metadata": {
    "collapsed": true
   },
   "source": [
    "import pandas as pd\n",
    "import numpy as np\n",
    "import matplotlib.pyplot as plt\n",
    "import seaborn as sns\n",
    "\n",
    "\n",
    "from rdkit import Chem\n",
    "\n",
    "from rdkit import Chem\n",
    "from rdkit.Chem import Descriptors, Draw\n",
    "\n",
    "from sklearn.model_selection import train_test_split\n",
    "\n",
    "from sklearn.ensemble import RandomForestRegressor\n",
    "\n",
    "from sklearn.metrics import roc_curve, roc_auc_score, RocCurveDisplay, mean_squared_error, mean_absolute_error, r2_score\n",
    "from sklearn.preprocessing import label_binarize\n",
    "from sklearn.model_selection import GridSearchCV"
   ],
   "outputs": [],
   "execution_count": null
  },
  {
   "metadata": {},
   "cell_type": "code",
   "source": "dataset_chemical_physical = pd.read_csv('datasets/pubchem_chemical_and_physical_properties.csv', low_memory=False)",
   "id": "adf12f538ee0eec1",
   "outputs": [],
   "execution_count": null
  },
  {
   "metadata": {},
   "cell_type": "code",
   "source": "dataset_chemical_physical_for_work = dataset_chemical_physical[['cmpdname', 'smiles', 'mw', 'xlogp', 'hbonddonor', 'hbondacc', 'polararea', 'rotbonds']]",
   "id": "29176a721b1cc6c4",
   "outputs": [],
   "execution_count": null
  },
  {
   "metadata": {},
   "cell_type": "code",
   "source": [
    "violations_lipinski = []\n",
    "\n",
    "for row in range(0, len(dataset_chemical_physical_for_work)):\n",
    "\n",
    "    nviolations = 0\n",
    "\n",
    "    if float(dataset_chemical_physical_for_work.iloc[row, 2]) > 500:\n",
    "        nviolations += 1\n",
    "    if float(dataset_chemical_physical_for_work.iloc[row, 3]) > 5:\n",
    "        nviolations += 1\n",
    "    if float(dataset_chemical_physical_for_work.iloc[row, 3]) < 0:\n",
    "        nviolations += 1\n",
    "    if float(dataset_chemical_physical_for_work.iloc[row, 4]) > 5:\n",
    "        nviolations += 1\n",
    "    if float(dataset_chemical_physical_for_work.iloc[row, 5]) > 10:\n",
    "        nviolations += 1\n",
    "\n",
    "    violations_lipinski.append(nviolations)"
   ],
   "id": "2685917393a4c7c4",
   "outputs": [],
   "execution_count": null
  },
  {
   "metadata": {},
   "cell_type": "code",
   "source": [
    "violations_bro = []\n",
    "\n",
    "for row in range(0, len(dataset_chemical_physical_for_work)):\n",
    "\n",
    "    nviolations = 0\n",
    "\n",
    "    if float(dataset_chemical_physical_for_work.iloc[row, 2]) > 1000:\n",
    "        nviolations += 1\n",
    "    if float(dataset_chemical_physical_for_work.iloc[row, 3]) > 10:\n",
    "        nviolations += 1\n",
    "    if float(dataset_chemical_physical_for_work.iloc[row, 3]) < -2:\n",
    "        nviolations += 1\n",
    "    if float(dataset_chemical_physical_for_work.iloc[row, 4]) > 6:\n",
    "        nviolations += 1\n",
    "    if float(dataset_chemical_physical_for_work.iloc[row, 5]) > 15:\n",
    "        nviolations += 1\n",
    "    if float(dataset_chemical_physical_for_work.iloc[row, 6]) > 250:\n",
    "        nviolations += 1\n",
    "    if float(dataset_chemical_physical_for_work.iloc[row, 7]) > 20:\n",
    "        nviolations += 1\n",
    "\n",
    "    violations_bro.append(nviolations)"
   ],
   "id": "a6c5f1fe5adea09c",
   "outputs": [],
   "execution_count": null
  },
  {
   "metadata": {},
   "cell_type": "code",
   "source": [
    "violations_muegge = []\n",
    "\n",
    "for row in range(0, len(dataset_chemical_physical_for_work)):\n",
    "\n",
    "    nviolations = 0\n",
    "\n",
    "    if float(dataset_chemical_physical_for_work.iloc[row, 2]) > 600:\n",
    "        nviolations += 1\n",
    "    if float(dataset_chemical_physical_for_work.iloc[row, 2]) < 200:\n",
    "        nviolations += 1\n",
    "    if float(dataset_chemical_physical_for_work.iloc[row, 3]) > 5:\n",
    "        nviolations += 1\n",
    "    if float(dataset_chemical_physical_for_work.iloc[row, 3]) < -2:\n",
    "        nviolations += 1\n",
    "    if float(dataset_chemical_physical_for_work.iloc[row, 4]) > 5:\n",
    "        nviolations += 1\n",
    "    if float(dataset_chemical_physical_for_work.iloc[row, 5]) > 10:\n",
    "        nviolations += 1\n",
    "    if float(dataset_chemical_physical_for_work.iloc[row, 6]) > 150:\n",
    "        nviolations += 1\n",
    "    if float(dataset_chemical_physical_for_work.iloc[row, 7]) > 15:\n",
    "        nviolations += 1\n",
    "\n",
    "    count_carbon = 0\n",
    "    count_heteroatoms = 0\n",
    "    count_rings = 0\n",
    "\n",
    "    for symbol in dataset_chemical_physical_for_work.iloc[row, 1]:\n",
    "\n",
    "        heteroatoms_check = ['C', 'c', 'H', 'h', '[', ']', '(', ')', '+', '-', '=', '#']\n",
    "\n",
    "        if symbol == 'C':\n",
    "            count_carbon += 1\n",
    "        elif symbol not in heteroatoms_check:\n",
    "            count_heteroatoms += 1\n",
    "        elif symbol.isdigit():\n",
    "            count_rings = int(symbol)\n",
    "\n",
    "        if symbol == 'l':\n",
    "            count_carbon -= 1\n",
    "        # elif symbol == 'r':\n",
    "        #     count_carbon -= 1\n",
    "\n",
    "    if count_carbon < 5:\n",
    "        nviolations += 1\n",
    "    if count_heteroatoms < 2:\n",
    "        nviolations += 1\n",
    "    if count_rings > 7:\n",
    "        nviolations += 1\n",
    "\n",
    "\n",
    "    violations_muegge.append(nviolations)"
   ],
   "id": "beb5e78895456c8f",
   "outputs": [],
   "execution_count": null
  },
  {
   "metadata": {},
   "cell_type": "code",
   "source": [
    "violations_lipinski_dict = {'nviolations_lipinski_rule': violations_lipinski}\n",
    "violations_bro_dict = {'nviolations_bro_rule': violations_bro}\n",
    "violations_muegge_dict = {'nviolations_muegge_rule': violations_muegge}"
   ],
   "id": "904ed00355f07911",
   "outputs": [],
   "execution_count": null
  },
  {
   "metadata": {},
   "cell_type": "code",
   "source": "dataset_with_nviolations_con = pd.concat([dataset_chemical_physical_for_work, pd.DataFrame(violations_lipinski_dict), pd.DataFrame(violations_bro_dict), pd.DataFrame(violations_muegge_dict)], axis=1)",
   "id": "1d8f40a6e22f53d4",
   "outputs": [],
   "execution_count": null
  },
  {
   "metadata": {},
   "cell_type": "code",
   "source": "dataset_with_nviolations = dataset_with_nviolations_con.dropna()",
   "id": "7e8ab2bd68e3069",
   "outputs": [],
   "execution_count": null
  },
  {
   "metadata": {},
   "cell_type": "code",
   "source": "list_of_smiles = [smile for smile in dataset_with_nviolations['smiles']]",
   "id": "ab5628917dbf334d",
   "outputs": [],
   "execution_count": null
  },
  {
   "metadata": {},
   "cell_type": "code",
   "source": [
    "molecule_ml1 = Chem.MolFromSmiles('N[C@@H](CCCNC(=N)N)C(=O)NCC(=O)N[C@@H](CC(=O)O)C(=O)O')\n",
    "molecule_ml2 = Chem.MolFromSmiles('NC(CCNC(=N)N)C(=O)NCC(=O)N[C@@H](CC(=O)O)C(=O)O')\n",
    "molecule_ml3 = Chem.MolFromSmiles('NC(CNC(=N)N)C(=O)NCC(=O)N[C@@H](CC(=O)O)C(=O)O')\n",
    "molecule_ml4 = Chem.MolFromSmiles('N[C@@H](CCONC(=N)N)C(=O)OCC(=O)N[C@@H](CC(=O)O)C(=O)O')\n",
    "molecule_ml5 = Chem.MolFromSmiles('NCCNC(=O)[C@H](CC(=O)O)NC(=O)CNC(=O)[C@@H](N)CCCNC(=N)N')\n",
    "molecule_ml6 = Chem.MolFromSmiles('NCCCNC(=O)[C@H](CC(=O)O)NC(=O)CNC(=O)[C@@H](N)CCCNC(=N)N')\n",
    "molecule_ml7 = Chem.MolFromSmiles('NCCNC(=O)[C@H](CC(=O)O)NC(=O)CNC(=O)C(N)CCNC(=N)N')\n",
    "molecule_ml8 = Chem.MolFromSmiles('NCCCNC(=O)[C@H](CC(=O)O)NC(=O)CNC(=O)C(N)CCNC(=N)N')\n",
    "molecule_ml9 = Chem.MolFromSmiles('NCCNC(=O)[C@H](CC(=O)O)NC(=O)CNC(=O)C(N)CNC(=N)N')\n",
    "molecule_ml10 = Chem.MolFromSmiles('NCCCNC(=O)[C@H](CC(=O)O)NC(=O)CNC(=O)C(N)CNC(=N)N')\n",
    "molecule_ml11 = Chem.MolFromSmiles('NCCNC(=O)[C@H](CC(=O)O)NC(=O)COC(=O)[C@@H](N)CCONC(=N)N')\n",
    "molecule_ml12 = Chem.MolFromSmiles('NCCCNC(=O)[C@H](CC(=O)O)NC(=O)COC(=O)[C@@H](N)CCONC(=N)N')\n",
    "molecule_ml13 = Chem.MolFromSmiles('CC[C@H](C)[C@@H](NC(=O)[C@@H]1CCCN1C(=O)[C@@H](NC(=O)[C@H](C)N)C(C)C)C(=O)O')\n",
    "molecule_ml14 = Chem.MolFromSmiles('CC[C@H](C)[C@@H](NC(=O)[C@@H]1CCCN1C(=O)[C@H](Cc2ccc(F)cc2)NC(=O)[C@H](C)N)C(=O)O')\n",
    "molecule_ml15 = Chem.MolFromSmiles('C[C@H](N)C(=O)N[C@@H](Cc1ccc(F)cc1)C(=O)N2CCC[C@H]2C(=O)N[C@H](Cc3ccc(F)cc3)C(=O)O')\n",
    "molecule_ml16 = Chem.MolFromSmiles('CC(C)[C@H](NC(=O)[C@H](C)N)C(=O)N1CCC[C@H]1C(=O)N[C@H](Cc2ccc(F)cc2)C(=O)O')\n",
    "molecule_ml17 = Chem.MolFromSmiles('CC[C@H](C)[C@H](NC(=O)[C@H](Cc1ccc(O)cc1)NC(=O)C2CCCN2C(=O)[C@H](CCCNC(=N)N)NC(=O)[C@@H](N)CCCNC(=N)N)C(=O)N[C@@H](CC(C)C)C(=O)O')\n",
    "molecule_ml18 = Chem.MolFromSmiles('CC[C@H](C)[C@H](NC(=O)[C@H](Cc1ccc(O)cc1)NC(=O)C2CCCN2C(=O)[C@H](CCONC(=N)N)NC(=O)[C@@H](N)CCCCN)C(=O)N[C@@H](CC(C)C)C(=O)O')\n",
    "molecule_ml19 = Chem.MolFromSmiles('CC[C@H](C)[C@H](NC(=O)[C@H](Cc1ccc(O)cc1)NC(=O)C2CCCN2C(=O)[C@H](CCCCN)NC(=O)[C@@H](N)CCONC(=N)N)C(=O)N[C@@H](CC(C)C)C(=O)O')\n",
    "molecule_ml20 = Chem.MolFromSmiles('CC[C@H](C)[C@H](NC(=O)[C@H](Cc1ccc(O)cc1)NC(=O)C2CCCN2C(=O)[C@H](CCONC(=N)N)NC(=O)[C@@H](N)CCONC(=N)N)C(=O)N[C@@H](CC(C)C)C(=O)O')\n",
    "molecule_ml21 = Chem.MolFromSmiles('CC[C@H](C)[C@H](NC(=O)[C@H](Cc1ccc(O)cc1)NC(=O)C2CCCN2C(=O)[C@H](CCONC(=N)N)NC(=O)[C@@H](N)CCCNC(=N)N)C(=O)N[C@@H](CC(C)C)C(=O)O')\n",
    "molecule_ml22 = Chem.MolFromSmiles('CC[C@H](C)[C@H](NC(=O)[C@H](Cc1ccc(O)cc1)NC(=O)C2CCCN2C(=O)[C@H](CCCNC(=N)N)NC(=O)[C@@H](N)CCONC(=N)N)C(=O)N[C@@H](CC(C)C)C(=O)O')\n",
    "molecule_ml23 = Chem.MolFromSmiles('CC[C@@H](C)[C@H](NC(=O)[C@H](Cc1ccc(F)cc1)NC(=O)C2CCCN2C(=O)[C@H](CCCNC(=N)N)NC(=O)[C@@H](N)CCONC(=N)N)C(=O)N[C@@H](CC(C)C)C(=O)O')\n",
    "molecule_ml24 = Chem.MolFromSmiles('CCC(C)[C@H](NC(=O)[C@@H]1CCCN1C(=O)[C@@H](NC(=O)[C@H](C)N)C(C)C)C(=O)N[C@@H](CCCNC(=N)N)C(=O)N[C@@H](CCCNC(=N)N)C(=O)N[C@@H](CCCNC(=N)N)C(=O)N[C@@H](CCCNC(=N)N)C(=O)N[C@@H](CCCNC(=N)N)C(=O)N[C@@H](CCCNC(=N)N)C(=O)O')\n",
    "molecule_ml25 = Chem.MolFromSmiles('CC[C@H](C)[C@H](NC(=O)[C@H](Cc1ccc(O)cc1)NC(=O)C2CCCN2C(=O)[C@H](CCONC(=N)N)NC(=O)[C@H](CCONC(=N)N)NC(=O)[C@@H](NC(=O)[C@@H]3CCCN3C(=O)[C@@H](NC(=O)[C@H](C)N)C(C)C)C(C)CC)C(=O)N[C@@H](CC(C)C)C(=O)O')\n",
    "molecule_ml26 = Chem.MolFromSmiles('CC[C@H](C)[C@H](NC(=O)[C@H](Cc1ccc(O)cc1)NC(=O)C2CCCN2C(=O)[C@H](CCCNC(=N)N)NC(=O)[C@H](CCCNC(=N)N)NC(=O)[C@@H](NC(=O)[C@@H]3CCCN3C(=O)[C@@H](NC(=O)[C@H](C)N)C(C)C)C(C)CC)C(=O)N[C@@H](CC(C)C)C(=O)O')"
   ],
   "id": "56e0da8afc62543",
   "outputs": [],
   "execution_count": null
  },
  {
   "metadata": {},
   "cell_type": "code",
   "source": [
    "descriptors_ml1 = Descriptors.CalcMolDescriptors(molecule_ml1)\n",
    "descriptors_ml2 = Descriptors.CalcMolDescriptors(molecule_ml2)\n",
    "descriptors_ml3 = Descriptors.CalcMolDescriptors(molecule_ml3)\n",
    "descriptors_ml4 = Descriptors.CalcMolDescriptors(molecule_ml4)\n",
    "descriptors_ml5 = Descriptors.CalcMolDescriptors(molecule_ml5)\n",
    "descriptors_ml6 = Descriptors.CalcMolDescriptors(molecule_ml6)\n",
    "descriptors_ml7 = Descriptors.CalcMolDescriptors(molecule_ml7)\n",
    "descriptors_ml8 = Descriptors.CalcMolDescriptors(molecule_ml8)\n",
    "descriptors_ml9 = Descriptors.CalcMolDescriptors(molecule_ml9)\n",
    "descriptors_ml10 = Descriptors.CalcMolDescriptors(molecule_ml10)\n",
    "descriptors_ml11 = Descriptors.CalcMolDescriptors(molecule_ml11)\n",
    "descriptors_ml12 = Descriptors.CalcMolDescriptors(molecule_ml12)\n",
    "descriptors_ml13 = Descriptors.CalcMolDescriptors(molecule_ml13)\n",
    "descriptors_ml14 = Descriptors.CalcMolDescriptors(molecule_ml14)\n",
    "descriptors_ml15 = Descriptors.CalcMolDescriptors(molecule_ml15)\n",
    "descriptors_ml16 = Descriptors.CalcMolDescriptors(molecule_ml16)\n",
    "descriptors_ml17 = Descriptors.CalcMolDescriptors(molecule_ml17)\n",
    "descriptors_ml18 = Descriptors.CalcMolDescriptors(molecule_ml18)\n",
    "descriptors_ml19 = Descriptors.CalcMolDescriptors(molecule_ml19)\n",
    "descriptors_ml20 = Descriptors.CalcMolDescriptors(molecule_ml20)\n",
    "descriptors_ml21 = Descriptors.CalcMolDescriptors(molecule_ml21)\n",
    "descriptors_ml22 = Descriptors.CalcMolDescriptors(molecule_ml22)\n",
    "descriptors_ml23 = Descriptors.CalcMolDescriptors(molecule_ml23)\n",
    "descriptors_ml24 = Descriptors.CalcMolDescriptors(molecule_ml24)\n",
    "descriptors_ml25 = Descriptors.CalcMolDescriptors(molecule_ml25)\n",
    "descriptors_ml26 = Descriptors.CalcMolDescriptors(molecule_ml26)"
   ],
   "id": "951c9abb891674cd",
   "outputs": [],
   "execution_count": null
  },
  {
   "metadata": {},
   "cell_type": "code",
   "outputs": [],
   "execution_count": null,
   "source": [
    "molecular_descriptors_test_peptides = {\n",
    "    'MolWt': [],\n",
    "    'NHOHCount': [],\n",
    "    'NOCount': [],\n",
    "    'NumHAcceptors': [],\n",
    "    'NumHDonors': [],\n",
    "    'NumRotatableBonds': [],\n",
    "    'MolLogP': [],\n",
    "    'TPSA': []\n",
    "}\n",
    "\n",
    "def molecular_descriptors_calculation_peptides(descriptors_dict):\n",
    "    for descriptor, value in descriptors_dict.items():\n",
    "        if descriptor == 'MolWt':\n",
    "            molecular_descriptors_test_peptides['MolWt'].append(value)\n",
    "        elif descriptor == 'NHOHCount':\n",
    "            molecular_descriptors_test_peptides['NHOHCount'].append(value)\n",
    "        elif descriptor == 'NOCount':\n",
    "            molecular_descriptors_test_peptides['NOCount'].append(value)\n",
    "        elif descriptor == 'NumHAcceptors':\n",
    "            molecular_descriptors_test_peptides['NumHAcceptors'].append(value)\n",
    "        elif descriptor == 'NumHDonors':\n",
    "            molecular_descriptors_test_peptides['NumHDonors'].append(value)\n",
    "        elif descriptor == 'NumRotatableBonds':\n",
    "            molecular_descriptors_test_peptides['NumRotatableBonds'].append(value)\n",
    "        elif descriptor == 'MolLogP':\n",
    "            molecular_descriptors_test_peptides['MolLogP'].append(value)\n",
    "        elif descriptor == 'TPSA':\n",
    "            molecular_descriptors_test_peptides['TPSA'].append(value)"
   ],
   "id": "4acabc2dce92a657"
  },
  {
   "metadata": {},
   "cell_type": "code",
   "outputs": [],
   "execution_count": null,
   "source": [
    "molecular_descriptors_calculation_peptides(descriptors_ml1)\n",
    "molecular_descriptors_calculation_peptides(descriptors_ml2)\n",
    "molecular_descriptors_calculation_peptides(descriptors_ml3)\n",
    "molecular_descriptors_calculation_peptides(descriptors_ml4)\n",
    "molecular_descriptors_calculation_peptides(descriptors_ml5)\n",
    "molecular_descriptors_calculation_peptides(descriptors_ml6)\n",
    "molecular_descriptors_calculation_peptides(descriptors_ml7)\n",
    "molecular_descriptors_calculation_peptides(descriptors_ml8)\n",
    "molecular_descriptors_calculation_peptides(descriptors_ml9)\n",
    "molecular_descriptors_calculation_peptides(descriptors_ml10)\n",
    "molecular_descriptors_calculation_peptides(descriptors_ml11)\n",
    "molecular_descriptors_calculation_peptides(descriptors_ml12)\n",
    "molecular_descriptors_calculation_peptides(descriptors_ml13)\n",
    "molecular_descriptors_calculation_peptides(descriptors_ml14)\n",
    "molecular_descriptors_calculation_peptides(descriptors_ml15)\n",
    "molecular_descriptors_calculation_peptides(descriptors_ml16)\n",
    "molecular_descriptors_calculation_peptides(descriptors_ml17)\n",
    "molecular_descriptors_calculation_peptides(descriptors_ml18)\n",
    "molecular_descriptors_calculation_peptides(descriptors_ml19)\n",
    "molecular_descriptors_calculation_peptides(descriptors_ml20)\n",
    "molecular_descriptors_calculation_peptides(descriptors_ml21)\n",
    "molecular_descriptors_calculation_peptides(descriptors_ml22)\n",
    "molecular_descriptors_calculation_peptides(descriptors_ml23)\n",
    "molecular_descriptors_calculation_peptides(descriptors_ml24)\n",
    "molecular_descriptors_calculation_peptides(descriptors_ml25)\n",
    "molecular_descriptors_calculation_peptides(descriptors_ml26)"
   ],
   "id": "cb884e7900e413b0"
  },
  {
   "metadata": {},
   "cell_type": "code",
   "outputs": [],
   "execution_count": null,
   "source": "test_dataset = pd.DataFrame.from_dict(molecular_descriptors_test_peptides, orient='index').T",
   "id": "1cb1f0f201a2b4ab"
  },
  {
   "metadata": {},
   "cell_type": "code",
   "outputs": [],
   "execution_count": null,
   "source": [
    "test_dataset = test_dataset.rename(columns={'MolWt': 'mw', 'MolLogP': 'xlogp', 'NumHDonors': 'hbonddonor', 'NumHAcceptors': 'hbondacc', 'TPSA': 'polararea', 'NumRotatableBonds': 'rotbonds'})\n",
    "test_dataset_for_work = test_dataset[['mw', 'xlogp', 'hbonddonor', 'hbondacc', 'polararea', 'rotbonds']]\n",
    "test_dataset_for_work_lipinski = test_dataset[['mw', 'xlogp', 'hbonddonor', 'hbondacc']]"
   ],
   "id": "5f15f38edfdd9243"
  },
  {
   "metadata": {},
   "cell_type": "code",
   "outputs": [],
   "execution_count": null,
   "source": "peptide_names = ['ML1', 'ML2', 'ML3', 'ML4', 'ML5', 'ML6', 'ML7', 'ML8', 'ML9', 'ML10', 'ML11', 'ML12', 'ML13', 'ML14', 'ML15', 'ML16', 'ML17', 'ML18', 'ML19', 'ML20', 'ML21', 'ML22', 'ML23', 'ML24', 'ML25', 'ML26']",
   "id": "1ea1c18fca1bc975"
  },
  {
   "metadata": {},
   "cell_type": "code",
   "outputs": [],
   "execution_count": null,
   "source": "tested_molecules = {'tested_molecules': peptide_names}",
   "id": "1db2e60e17a1c11d"
  },
  {
   "metadata": {},
   "cell_type": "code",
   "outputs": [],
   "execution_count": null,
   "source": "attributes_lipinski_train, attributes_lipinski_test, target_lipinski_train, target_lipinski_test = train_test_split(dataset_with_nviolations[['mw', 'xlogp', 'hbonddonor', 'hbondacc']], dataset_with_nviolations[['nviolations_bro_rule']], test_size=0.2, random_state=42)",
   "id": "f87735e70db6cc82"
  },
  {
   "metadata": {},
   "cell_type": "code",
   "outputs": [],
   "execution_count": null,
   "source": "attributes_bro_train, attributes_bro_test, target_bro_train, target_bro_test = train_test_split(dataset_with_nviolations[['mw', 'xlogp', 'hbonddonor', 'hbondacc', 'polararea', 'rotbonds']], dataset_with_nviolations['nviolations_bro_rule'], test_size=0.2, random_state=42)",
   "id": "62168c97b7802d8b"
  },
  {
   "metadata": {},
   "cell_type": "code",
   "outputs": [],
   "execution_count": null,
   "source": "attributes_muegge_train, attributes_muegge_test, target_muegge_train, target_muegge_test = train_test_split(dataset_with_nviolations[['mw', 'xlogp', 'hbonddonor', 'hbondacc', 'polararea', 'rotbonds']], dataset_with_nviolations['nviolations_muegge_rule'], test_size=0.2, random_state=42)\n",
   "id": "713169c05e99e36f"
  },
  {
   "metadata": {},
   "cell_type": "code",
   "outputs": [],
   "execution_count": null,
   "source": [
    "rf_lipinski = RandomForestRegressor()\n",
    "\n",
    "param_grid = {\n",
    "    'n_estimators': [10, 20, 30],\n",
    "    'max_depth': [None, 10, 20],\n",
    "    'max_features': ['sqrt', 'log2'],\n",
    "    'min_samples_split': [2, 5],\n",
    "    'min_samples_leaf': [1, 4],\n",
    "    'bootstrap': [True, False]\n",
    "}\n",
    "\n",
    "grid_search = GridSearchCV(estimator=rf_lipinski, param_grid=param_grid, cv=5, scoring='neg_mean_squared_error', n_jobs=1, verbose=2)\n",
    "\n",
    "grid_search.fit(attributes_lipinski_train, target_lipinski_train)\n",
    "\n",
    "print(\"Best parameters:\", grid_search.best_params_)\n",
    "print(\"Best Value MSE:\", grid_search.best_score_)"
   ],
   "id": "8c6cf280b2bfb47f"
  },
  {
   "metadata": {},
   "cell_type": "code",
   "outputs": [],
   "execution_count": null,
   "source": [
    "rf_lipinski = RandomForestRegressor()\n",
    "\n",
    "param_grid = {\n",
    "    'n_estimators': [10, 20, 30],\n",
    "    'max_depth': [None, 10, 20],\n",
    "    'max_features': ['sqrt', 'log2'],\n",
    "    'min_samples_split': [2, 5],\n",
    "    'min_samples_leaf': [1, 4],\n",
    "    'bootstrap': [True, False]\n",
    "}\n",
    "\n",
    "grid_search = GridSearchCV(estimator=rf_lipinski, param_grid=param_grid, cv=5, scoring='neg_mean_absolute_error', n_jobs=1, verbose=2)\n",
    "\n",
    "grid_search.fit(attributes_lipinski_train, target_lipinski_train)\n",
    "\n",
    "print(\"Best parameters:\", grid_search.best_params_)\n",
    "print(\"Best Value MAE:\", grid_search.best_score_)"
   ],
   "id": "596b8e2c37386314"
  },
  {
   "metadata": {},
   "cell_type": "code",
   "outputs": [],
   "execution_count": null,
   "source": [
    "rf_lipinski = RandomForestRegressor()\n",
    "\n",
    "param_grid = {\n",
    "    'n_estimators': [10, 20, 30],\n",
    "    'max_depth': [None, 10, 20],\n",
    "    'max_features': ['sqrt', 'log2'],\n",
    "    'min_samples_split': [2, 5],\n",
    "    'min_samples_leaf': [1, 4],\n",
    "    'bootstrap': [True, False]\n",
    "}\n",
    "\n",
    "grid_search = GridSearchCV(estimator=rf_lipinski, param_grid=param_grid, cv=5, scoring='r2', n_jobs=1, verbose=2)\n",
    "\n",
    "grid_search.fit(attributes_lipinski_train, target_lipinski_train)\n",
    "\n",
    "print(\"Best parameters:\", grid_search.best_params_)\n",
    "print(\"Best Value R2:\", grid_search.best_score_)"
   ],
   "id": "ebdc8070ed5ec"
  },
  {
   "metadata": {},
   "cell_type": "code",
   "outputs": [],
   "execution_count": null,
   "source": [
    "rf_muegge = RandomForestRegressor()\n",
    "\n",
    "param_grid = {\n",
    "    'n_estimators': [10, 20, 30],\n",
    "    'max_depth': [None, 10, 20],\n",
    "    'max_features': ['sqrt', 'log2'],\n",
    "    'min_samples_split': [2, 5],\n",
    "    'min_samples_leaf': [1, 4],\n",
    "    'bootstrap': [True, False]\n",
    "}\n",
    "\n",
    "grid_search = GridSearchCV(estimator=rf_muegge, param_grid=param_grid, cv=5, scoring='neg_mean_squared_error', n_jobs=1, verbose=2)\n",
    "\n",
    "grid_search.fit(attributes_muegge_train, target_muegge_train)\n",
    "\n",
    "print(\"Best parameters:\", grid_search.best_params_)\n",
    "print(\"Best Value MSE:\", grid_search.best_score_)"
   ],
   "id": "83af43fb1a6449e"
  },
  {
   "metadata": {},
   "cell_type": "code",
   "outputs": [],
   "execution_count": null,
   "source": [
    "rf_muegge = RandomForestRegressor()\n",
    "\n",
    "param_grid = {\n",
    "    'n_estimators': [10, 20, 30],\n",
    "    'max_depth': [None, 10, 20],\n",
    "    'max_features': ['sqrt', 'log2'],\n",
    "    'min_samples_split': [2, 5],\n",
    "    'min_samples_leaf': [1, 4],\n",
    "    'bootstrap': [True, False]\n",
    "}\n",
    "\n",
    "grid_search = GridSearchCV(estimator=rf_muegge, param_grid=param_grid, cv=5, scoring='neg_mean_absolute_error', n_jobs=1, verbose=2)\n",
    "\n",
    "grid_search.fit(attributes_muegge_train, target_muegge_train)\n",
    "\n",
    "print(\"Best parameters:\", grid_search.best_params_)\n",
    "print(\"Best Value MAE:\", grid_search.best_score_)"
   ],
   "id": "313903caae2cc5db"
  },
  {
   "metadata": {},
   "cell_type": "code",
   "outputs": [],
   "execution_count": null,
   "source": [
    "rf_muegge = RandomForestRegressor()\n",
    "\n",
    "param_grid = {\n",
    "    'n_estimators': [10, 20, 30],\n",
    "    'max_depth': [None, 10, 20],\n",
    "    'max_features': ['sqrt', 'log2'],\n",
    "    'min_samples_split': [2, 5],\n",
    "    'min_samples_leaf': [1, 4],\n",
    "    'bootstrap': [True, False]\n",
    "}\n",
    "\n",
    "grid_search = GridSearchCV(estimator=rf_muegge, param_grid=param_grid, cv=5, scoring='r2', n_jobs=1, verbose=2)\n",
    "\n",
    "grid_search.fit(attributes_muegge_train, target_muegge_train)\n",
    "\n",
    "print(\"Best parameters:\", grid_search.best_params_)\n",
    "print(\"Best Value R2:\", grid_search.best_score_)"
   ],
   "id": "8279e0a1f2a117a7"
  },
  {
   "metadata": {},
   "cell_type": "code",
   "outputs": [],
   "execution_count": null,
   "source": [
    "rf_bro = RandomForestRegressor()\n",
    "\n",
    "param_grid = {\n",
    "    'n_estimators': [10, 20, 30],\n",
    "    'max_depth': [None, 10, 20],\n",
    "    'max_features': ['sqrt', 'log2'],\n",
    "    'min_samples_split': [2, 5],\n",
    "    'min_samples_leaf': [1, 4],\n",
    "    'bootstrap': [True, False]\n",
    "}\n",
    "\n",
    "grid_search = GridSearchCV(estimator=rf_bro, param_grid=param_grid, cv=5, scoring='neg_mean_squared_error', n_jobs=1, verbose=2)\n",
    "\n",
    "grid_search.fit(attributes_bro_train, target_bro_train)\n",
    "\n",
    "print(\"Best parameters:\", grid_search.best_params_)\n",
    "print(\"Best Value MSE:\", grid_search.best_score_)"
   ],
   "id": "89affedc31124fe2"
  },
  {
   "metadata": {},
   "cell_type": "code",
   "outputs": [],
   "execution_count": null,
   "source": [
    "rf_bro = RandomForestRegressor()\n",
    "\n",
    "param_grid = {\n",
    "    'n_estimators': [10, 20, 30],\n",
    "    'max_depth': [None, 10, 20],\n",
    "    'max_features': ['sqrt', 'log2'],\n",
    "    'min_samples_split': [2, 5],\n",
    "    'min_samples_leaf': [1, 4],\n",
    "    'bootstrap': [True, False]\n",
    "}\n",
    "\n",
    "grid_search = GridSearchCV(estimator=rf_bro, param_grid=param_grid, cv=5, scoring='neg_mean_absolute_error', n_jobs=1, verbose=2)\n",
    "\n",
    "grid_search.fit(attributes_bro_train, target_bro_train)\n",
    "\n",
    "print(\"Best parameters:\", grid_search.best_params_)\n",
    "print(\"Best Value MAE:\", grid_search.best_score_)"
   ],
   "id": "fb46f6be5584cdcb"
  },
  {
   "metadata": {},
   "cell_type": "code",
   "outputs": [],
   "execution_count": null,
   "source": [
    "rf_bro = RandomForestRegressor()\n",
    "\n",
    "param_grid = {\n",
    "    'n_estimators': [10, 20, 30],\n",
    "    'max_depth': [None, 10, 20],\n",
    "    'max_features': ['sqrt', 'log2'],\n",
    "    'min_samples_split': [2, 5],\n",
    "    'min_samples_leaf': [1, 4],\n",
    "    'bootstrap': [True, False]\n",
    "}\n",
    "\n",
    "grid_search = GridSearchCV(estimator=rf_bro, param_grid=param_grid, cv=5, scoring='r2', n_jobs=1, verbose=2)\n",
    "\n",
    "grid_search.fit(attributes_bro_train, target_bro_train)\n",
    "\n",
    "print(\"Best parameters:\", grid_search.best_params_)\n",
    "print(\"Best Value R2:\", grid_search.best_score_)"
   ],
   "id": "e9c221166bc4ab9f"
  },
  {
   "metadata": {},
   "cell_type": "code",
   "outputs": [],
   "execution_count": null,
   "source": "model_lipinski_10 = RandomForestRegressor(n_estimators=10)",
   "id": "f3a7f907cf80c900"
  },
  {
   "metadata": {},
   "cell_type": "code",
   "outputs": [],
   "execution_count": null,
   "source": "model_lipinski_20 = RandomForestRegressor(n_estimators=20)",
   "id": "58721f1d96bf9c34"
  },
  {
   "metadata": {},
   "cell_type": "code",
   "outputs": [],
   "execution_count": null,
   "source": "model_lipinski_30 = RandomForestRegressor(n_estimators=30)",
   "id": "b318adfcd54f2ac6"
  },
  {
   "metadata": {},
   "cell_type": "code",
   "outputs": [],
   "execution_count": null,
   "source": "model_bro_10 = RandomForestRegressor(n_estimators=10)",
   "id": "4bb7894184662852"
  },
  {
   "metadata": {},
   "cell_type": "code",
   "outputs": [],
   "execution_count": null,
   "source": "model_bro_20 = RandomForestRegressor(n_estimators=20)",
   "id": "ab750ade9286c924"
  },
  {
   "metadata": {},
   "cell_type": "code",
   "outputs": [],
   "execution_count": null,
   "source": "model_bro_30 = RandomForestRegressor(n_estimators=30)",
   "id": "8d3ef72cfbb82718"
  },
  {
   "metadata": {},
   "cell_type": "code",
   "outputs": [],
   "execution_count": null,
   "source": [
    "model_muegge_10 = RandomForestRegressor(n_estimators=10)\n",
    "model_muegge_20 = RandomForestRegressor(n_estimators=20)\n",
    "model_muegge_30 = RandomForestRegressor(n_estimators=30)"
   ],
   "id": "f1fc76202795b699"
  },
  {
   "metadata": {},
   "cell_type": "code",
   "outputs": [],
   "execution_count": null,
   "source": "model_lipinski_10.fit(attributes_lipinski_train, target_lipinski_train)",
   "id": "9a20809f6ca69b19"
  },
  {
   "metadata": {},
   "cell_type": "code",
   "outputs": [],
   "execution_count": null,
   "source": "model_lipinski_20.fit(attributes_lipinski_train, target_lipinski_train)",
   "id": "dbbc44284c4e4da6"
  },
  {
   "metadata": {},
   "cell_type": "code",
   "outputs": [],
   "execution_count": null,
   "source": "model_lipinski_30.fit(attributes_lipinski_train, target_lipinski_train)",
   "id": "e0a800f0ba134efe"
  },
  {
   "metadata": {},
   "cell_type": "code",
   "outputs": [],
   "execution_count": null,
   "source": "model_bro_10.fit(attributes_bro_train, target_bro_train)",
   "id": "229a7328531a334d"
  },
  {
   "metadata": {},
   "cell_type": "code",
   "outputs": [],
   "execution_count": null,
   "source": "model_bro_20.fit(attributes_bro_train, target_bro_train)",
   "id": "f9ceb1ba3d69a27a"
  },
  {
   "metadata": {},
   "cell_type": "code",
   "outputs": [],
   "execution_count": null,
   "source": "model_bro_30.fit(attributes_bro_train, target_bro_train)",
   "id": "7eb5777ae13c1d02"
  },
  {
   "metadata": {},
   "cell_type": "code",
   "outputs": [],
   "execution_count": null,
   "source": "model_muegge_10.fit(attributes_muegge_train, target_muegge_train)",
   "id": "1a0b510ab024910"
  },
  {
   "metadata": {},
   "cell_type": "code",
   "outputs": [],
   "execution_count": null,
   "source": "model_muegge_20.fit(attributes_muegge_train, target_muegge_train)",
   "id": "d0c44ff4ad5c79ae"
  },
  {
   "metadata": {},
   "cell_type": "code",
   "outputs": [],
   "execution_count": null,
   "source": "model_muegge_30.fit(attributes_muegge_train, target_muegge_train)",
   "id": "a67d0877a36f64f1"
  },
  {
   "metadata": {},
   "cell_type": "code",
   "outputs": [],
   "execution_count": null,
   "source": [
    "test_prediction_lipinski_10 = model_lipinski_10.predict(attributes_lipinski_test)\n",
    "test_prediction_lipinski_20 = model_lipinski_20.predict(attributes_lipinski_test)\n",
    "test_prediction_lipinski_30 = model_lipinski_30.predict(attributes_lipinski_test)"
   ],
   "id": "d783ac51e45cfe80"
  },
  {
   "metadata": {},
   "cell_type": "code",
   "outputs": [],
   "execution_count": null,
   "source": [
    "test_prediction_bro_10 = model_bro_10.predict(attributes_bro_test)\n",
    "test_prediction_bro_20 = model_bro_20.predict(attributes_bro_test)\n",
    "test_prediction_bro_30 = model_bro_30.predict(attributes_bro_test)"
   ],
   "id": "e3e34c89042fe09c"
  },
  {
   "metadata": {},
   "cell_type": "code",
   "outputs": [],
   "execution_count": null,
   "source": [
    "test_predicton_muegge_10 = model_muegge_10.predict(attributes_muegge_test)\n",
    "test_predicton_muegge_20 = model_muegge_20.predict(attributes_muegge_test)\n",
    "test_predicton_muegge_30 = model_muegge_30.predict(attributes_muegge_test)"
   ],
   "id": "e6bd9b114cf6a14c"
  },
  {
   "metadata": {},
   "cell_type": "code",
   "outputs": [],
   "execution_count": null,
   "source": [
    "plt.scatter(target_lipinski_test, test_prediction_lipinski_10, alpha=0.5, color='black')\n",
    "plt.xlabel(\"Test Values\")\n",
    "plt.ylabel(\"Predicted Values\")\n",
    "plt.title(\"Scatter plot: Random Forest Regressor (Lipinski 10 Trees)\")\n",
    "plt.grid(True)\n",
    "plt.show()"
   ],
   "id": "487968dde5e07a11"
  },
  {
   "metadata": {},
   "cell_type": "code",
   "outputs": [],
   "execution_count": null,
   "source": [
    "plt.scatter(target_lipinski_test, test_prediction_lipinski_20, alpha=0.5, color='black')\n",
    "plt.xlabel(\"Test Values\")\n",
    "plt.ylabel(\"Predicted Values\")\n",
    "plt.title(\"Scatter plot: Random Forest Regressor (Lipinski 20 Trees)\")\n",
    "plt.grid(True)\n",
    "plt.show()"
   ],
   "id": "b228fc950a91f021"
  },
  {
   "metadata": {},
   "cell_type": "code",
   "outputs": [],
   "execution_count": null,
   "source": [
    "plt.scatter(target_lipinski_test, test_prediction_lipinski_30, alpha=0.5, color='black')\n",
    "plt.xlabel(\"Test Values\")\n",
    "plt.ylabel(\"Predicted Values\")\n",
    "plt.title(\"Scatter plot: Random Forest Regressor (Lipinski 30 Trees)\")\n",
    "plt.grid(True)\n",
    "plt.show()"
   ],
   "id": "39c802384c922f5e"
  },
  {
   "metadata": {},
   "cell_type": "code",
   "outputs": [],
   "execution_count": null,
   "source": [
    "plt.scatter(target_muegge_test, test_predicton_muegge_10, alpha=0.5, color='black')\n",
    "plt.xlabel(\"Test Values\")\n",
    "plt.ylabel(\"Predicted Values\")\n",
    "plt.title(\"Scatter plot: Random Forest Regressor (Muegge 10 Trees)\")\n",
    "plt.grid(True)\n",
    "plt.show()"
   ],
   "id": "217287bf04a92090"
  },
  {
   "metadata": {},
   "cell_type": "code",
   "outputs": [],
   "execution_count": null,
   "source": [
    "plt.scatter(target_muegge_test, test_predicton_muegge_20, alpha=0.5, color='black')\n",
    "plt.xlabel(\"Test Values\")\n",
    "plt.ylabel(\"Predicted Values\")\n",
    "plt.title(\"Scatter plot: Random Forest Regressor (Muegge 20 Trees)\")\n",
    "plt.grid(True)\n",
    "plt.show()"
   ],
   "id": "23c640a0d848d9e7"
  },
  {
   "metadata": {},
   "cell_type": "code",
   "outputs": [],
   "execution_count": null,
   "source": [
    "plt.scatter(target_muegge_test, test_predicton_muegge_30, alpha=0.5, color='black')\n",
    "plt.xlabel(\"Test Values\")\n",
    "plt.ylabel(\"Predicted Values\")\n",
    "plt.title(\"Scatter plot: Random Forest Regressor (Muegge 30 Trees)\")\n",
    "plt.grid(True)\n",
    "plt.show()"
   ],
   "id": "ee941b9e25a9364b"
  },
  {
   "metadata": {},
   "cell_type": "code",
   "outputs": [],
   "execution_count": null,
   "source": [
    "plt.scatter(target_bro_test, test_prediction_bro_10, alpha=0.5, color='black')\n",
    "plt.xlabel(\"Test Values\")\n",
    "plt.ylabel(\"Predicted Values\")\n",
    "plt.title(\"Scatter plot: Random Forest Regressor (bRo5 10 Trees)\")\n",
    "plt.grid(True)\n",
    "plt.show()"
   ],
   "id": "d5be886ebfd98cad"
  },
  {
   "metadata": {},
   "cell_type": "code",
   "outputs": [],
   "execution_count": null,
   "source": [
    "plt.scatter(target_bro_test, test_prediction_bro_20, alpha=0.5, color='black')\n",
    "plt.xlabel(\"Test Values\")\n",
    "plt.ylabel(\"Predicted Values\")\n",
    "plt.title(\"Scatter plot: Random Forest Regressor (bRo5 20 Trees)\")\n",
    "plt.grid(True)\n",
    "plt.show()"
   ],
   "id": "353d6192c4b529a0"
  },
  {
   "metadata": {},
   "cell_type": "code",
   "outputs": [],
   "execution_count": null,
   "source": [
    "plt.scatter(target_bro_test, test_prediction_bro_30, alpha=0.5, color='black')\n",
    "plt.xlabel(\"Test Values\")\n",
    "plt.ylabel(\"Predicted Values\")\n",
    "plt.title(\"Scatter plot: Random Forest Regressor (bRo5 30 Trees)\")\n",
    "plt.grid(True)\n",
    "plt.show()"
   ],
   "id": "be1590136ce9c10b"
  },
  {
   "metadata": {},
   "cell_type": "code",
   "outputs": [],
   "execution_count": null,
   "source": [
    "mse_lipinski_10 = mean_squared_error(target_lipinski_test, test_prediction_lipinski_10)\n",
    "mse_lipinski_20 = mean_squared_error(target_lipinski_test, test_prediction_lipinski_20)\n",
    "mse_lipinski_30 = mean_squared_error(target_lipinski_test, test_prediction_lipinski_30)"
   ],
   "id": "a10c596ae042546e"
  },
  {
   "metadata": {},
   "cell_type": "code",
   "outputs": [],
   "execution_count": null,
   "source": [
    "print(\"MSE Lipinski 10:\", mse_lipinski_10)\n",
    "print(\"MSE Lipinski 20:\", mse_lipinski_20)\n",
    "print(\"MSE Lipinski 30:\", mse_lipinski_30)"
   ],
   "id": "f5c8e44795f3f0d8"
  },
  {
   "metadata": {},
   "cell_type": "code",
   "outputs": [],
   "execution_count": null,
   "source": [
    "mse_bro_10 = mean_squared_error(target_bro_test, test_prediction_bro_10)\n",
    "mse_bro_20 = mean_squared_error(target_bro_test, test_prediction_bro_20)\n",
    "mse_bro_30 = mean_squared_error(target_bro_test, test_prediction_bro_30)"
   ],
   "id": "a4ad617c886676ed"
  },
  {
   "metadata": {},
   "cell_type": "code",
   "outputs": [],
   "execution_count": null,
   "source": [
    "print(\"MSE Bro 10:\", mse_bro_10)\n",
    "print(\"MSE Bro 20:\", mse_bro_20)\n",
    "print(\"MSE Bro 30:\", mse_bro_30)"
   ],
   "id": "561a15cc36c5ebe8"
  },
  {
   "metadata": {},
   "cell_type": "code",
   "outputs": [],
   "execution_count": null,
   "source": [
    "mse_muegge_10 = mean_squared_error(target_muegge_test, test_predicton_muegge_10)\n",
    "mse_muegge_20 = mean_squared_error(target_muegge_test, test_predicton_muegge_20)\n",
    "mse_muegge_30 = mean_squared_error(target_muegge_test, test_predicton_muegge_30)"
   ],
   "id": "543093cec7517b22"
  },
  {
   "metadata": {},
   "cell_type": "code",
   "outputs": [],
   "execution_count": null,
   "source": [
    "print(\"MSE Muegge 10:\", mse_muegge_10)\n",
    "print(\"MSE Muegge 20:\", mse_muegge_20)\n",
    "print(\"MSE Muegge 30:\", mse_muegge_30)"
   ],
   "id": "4b63605fd8445675"
  },
  {
   "metadata": {},
   "cell_type": "code",
   "outputs": [],
   "execution_count": null,
   "source": [
    "mae_lipinski_10 = mean_absolute_error(target_lipinski_test, test_prediction_lipinski_10)\n",
    "mae_lipinski_20 = mean_absolute_error(target_lipinski_test, test_prediction_lipinski_20)\n",
    "mae_lipinski_30 = mean_absolute_error(target_lipinski_test, test_prediction_lipinski_30)"
   ],
   "id": "627a8f2df59cef6b"
  },
  {
   "metadata": {},
   "cell_type": "code",
   "outputs": [],
   "execution_count": null,
   "source": [
    "mae_bro_10 = mean_absolute_error(target_bro_test, test_prediction_bro_10)\n",
    "mae_bro_20 = mean_absolute_error(target_bro_test, test_prediction_bro_20)\n",
    "mae_bro_30 = mean_absolute_error(target_bro_test, test_prediction_bro_30)"
   ],
   "id": "3a3a34e8ee0bfb28"
  },
  {
   "metadata": {},
   "cell_type": "code",
   "outputs": [],
   "execution_count": null,
   "source": [
    "mae_muegge_10 = mean_absolute_error(target_muegge_test, test_predicton_muegge_10)\n",
    "mae_muegge_20 = mean_absolute_error(target_muegge_test, test_predicton_muegge_20)\n",
    "mae_muegge_30 = mean_absolute_error(target_muegge_test, test_predicton_muegge_30)"
   ],
   "id": "b2cb1eafcd559bcf"
  },
  {
   "metadata": {},
   "cell_type": "code",
   "outputs": [],
   "execution_count": null,
   "source": [
    "print(\"MAE Lipinski 10:\", mae_lipinski_10)\n",
    "print(\"MAE Lipinski 20:\", mae_lipinski_20)\n",
    "print(\"MAE Lipinski 30:\", mae_lipinski_30)"
   ],
   "id": "fcf55b900567749e"
  },
  {
   "metadata": {},
   "cell_type": "code",
   "outputs": [],
   "execution_count": null,
   "source": [
    "print(\"MAE Bro 10:\", mae_bro_10)\n",
    "print(\"MAE Bro 20:\", mae_bro_20)\n",
    "print(\"MAE Bro 30:\", mae_bro_30)"
   ],
   "id": "f102a8f194e20130"
  },
  {
   "metadata": {},
   "cell_type": "code",
   "outputs": [],
   "execution_count": null,
   "source": [
    "print(\"MAE Muegge 10:\", mae_muegge_10)\n",
    "print(\"MAE Muegge 20:\", mae_muegge_20)\n",
    "print(\"MAE Muegge 30:\", mae_muegge_30)"
   ],
   "id": "1954bab6943a03da"
  },
  {
   "metadata": {},
   "cell_type": "code",
   "outputs": [],
   "execution_count": null,
   "source": [
    "r2_lipinski_10 = r2_score(target_lipinski_test, test_prediction_lipinski_10)\n",
    "r2_lipinski_20 = r2_score(target_lipinski_test, test_prediction_lipinski_20)\n",
    "r2_lipinski_30 = r2_score(target_lipinski_test, test_prediction_lipinski_30)"
   ],
   "id": "3e6d5193f84d35a5"
  },
  {
   "metadata": {},
   "cell_type": "code",
   "outputs": [],
   "execution_count": null,
   "source": [
    "r2_bro_10 = r2_score(target_bro_test, test_prediction_bro_10)\n",
    "r2_bro_20 = r2_score(target_bro_test, test_prediction_bro_20)\n",
    "r2_bro_30 = r2_score(target_bro_test, test_prediction_bro_30)"
   ],
   "id": "2e3131bea52080a5"
  },
  {
   "metadata": {},
   "cell_type": "code",
   "outputs": [],
   "execution_count": null,
   "source": [
    "r2_muegge_10 = r2_score(target_muegge_test, test_predicton_muegge_10)\n",
    "r2_muegge_20 = r2_score(target_muegge_test, test_predicton_muegge_20)\n",
    "r2_muegge_30 = r2_score(target_muegge_test, test_predicton_muegge_30)"
   ],
   "id": "ebe04f3261f8854c"
  },
  {
   "metadata": {},
   "cell_type": "code",
   "outputs": [],
   "execution_count": null,
   "source": [
    "print(\"R² score Lipinski 10:\", r2_lipinski_10)\n",
    "print(\"R² score Lipinski 20:\", r2_lipinski_20)\n",
    "print(\"R² score Lipinski 30:\", r2_lipinski_30)"
   ],
   "id": "8a05c66e0cf43651"
  },
  {
   "metadata": {},
   "cell_type": "code",
   "outputs": [],
   "execution_count": null,
   "source": [
    "print(\"R² score Bro 10:\", r2_bro_10)\n",
    "print(\"R² score Bro 20:\", r2_bro_20)\n",
    "print(\"R² score Bro 30:\", r2_bro_30)"
   ],
   "id": "2f5187713ab94478"
  },
  {
   "metadata": {},
   "cell_type": "code",
   "outputs": [],
   "execution_count": null,
   "source": [
    "print(\"R² score Muegge 10:\", r2_muegge_10)\n",
    "print(\"R² score Muegge 20:\", r2_muegge_20)\n",
    "print(\"R² score Muegge 30:\", r2_muegge_30)"
   ],
   "id": "1cd0f30f89dfb19b"
  },
  {
   "metadata": {},
   "cell_type": "code",
   "outputs": [],
   "execution_count": null,
   "source": "prediction_lipinski_10 = model_lipinski_10.predict(test_dataset_for_work_lipinski)",
   "id": "3a0ff8a1db53c35"
  },
  {
   "metadata": {},
   "cell_type": "code",
   "outputs": [],
   "execution_count": null,
   "source": "prediction_lipinski_20 = model_lipinski_20.predict(test_dataset_for_work_lipinski)",
   "id": "acd95a1355bc8e57"
  },
  {
   "metadata": {},
   "cell_type": "code",
   "outputs": [],
   "execution_count": null,
   "source": "prediction_lipinski_30 = model_lipinski_30.predict(test_dataset_for_work_lipinski)",
   "id": "267777dca9226006"
  },
  {
   "metadata": {},
   "cell_type": "code",
   "outputs": [],
   "execution_count": null,
   "source": "prediction_bro_10 = model_bro_10.predict(test_dataset_for_work)",
   "id": "603de201bf2d4b03"
  },
  {
   "metadata": {},
   "cell_type": "code",
   "outputs": [],
   "execution_count": null,
   "source": "prediction_bro_20 = model_bro_20.predict(test_dataset_for_work)",
   "id": "b447d57be2a3d39c"
  },
  {
   "metadata": {},
   "cell_type": "code",
   "outputs": [],
   "execution_count": null,
   "source": "prediction_bro_30 = model_bro_30.predict(test_dataset_for_work)",
   "id": "327fb987bff3c929"
  },
  {
   "metadata": {},
   "cell_type": "code",
   "outputs": [],
   "execution_count": null,
   "source": "prediction_muegge_10 = model_muegge_10.predict(test_dataset_for_work)",
   "id": "65eebe5bc21e484e"
  },
  {
   "metadata": {},
   "cell_type": "code",
   "outputs": [],
   "execution_count": null,
   "source": "prediction_muegge_20 = model_muegge_10.predict(test_dataset_for_work)",
   "id": "80f3f71c0c5be115"
  },
  {
   "metadata": {},
   "cell_type": "code",
   "outputs": [],
   "execution_count": null,
   "source": "prediction_muegge_30 = model_muegge_10.predict(test_dataset_for_work)",
   "id": "aa5fff7cb7df1998"
  },
  {
   "metadata": {},
   "cell_type": "code",
   "outputs": [],
   "execution_count": null,
   "source": [
    "predicted_violations_peptides_lipinski_10 = []\n",
    "\n",
    "for predicted_value in prediction_lipinski_10:\n",
    "    predicted_violations_peptides_lipinski_10.append(int(predicted_value))"
   ],
   "id": "aa4efb1ab32bfb6d"
  },
  {
   "metadata": {},
   "cell_type": "code",
   "outputs": [],
   "execution_count": null,
   "source": [
    "predicted_violations_peptides_lipinski_20 = []\n",
    "\n",
    "for predicted_value in prediction_lipinski_20:\n",
    "    predicted_violations_peptides_lipinski_20.append(int(predicted_value))"
   ],
   "id": "509efbf3fe99aca1"
  },
  {
   "metadata": {},
   "cell_type": "code",
   "outputs": [],
   "execution_count": null,
   "source": [
    "predicted_violations_peptides_lipinski_30 = []\n",
    "\n",
    "for predicted_value in prediction_lipinski_30:\n",
    "    predicted_violations_peptides_lipinski_30.append(int(predicted_value))"
   ],
   "id": "4f2d00999431b2bb"
  },
  {
   "metadata": {},
   "cell_type": "code",
   "outputs": [],
   "execution_count": null,
   "source": [
    "predicted_violations_peptides_bro_10 = []\n",
    "\n",
    "for predicted_value in prediction_bro_10:\n",
    "    predicted_violations_peptides_bro_10.append(int(predicted_value))"
   ],
   "id": "ed2cf7ffcac20d6"
  },
  {
   "metadata": {},
   "cell_type": "code",
   "outputs": [],
   "execution_count": null,
   "source": [
    "predicted_violations_peptides_bro_20 = []\n",
    "\n",
    "for predicted_value in prediction_bro_20:\n",
    "    predicted_violations_peptides_bro_20.append(int(predicted_value))"
   ],
   "id": "2b62fc0c4bbb53e7"
  },
  {
   "metadata": {},
   "cell_type": "code",
   "outputs": [],
   "execution_count": null,
   "source": [
    "predicted_violations_peptides_bro_30 = []\n",
    "\n",
    "for predicted_value in prediction_bro_30:\n",
    "    predicted_violations_peptides_bro_30.append(int(predicted_value))"
   ],
   "id": "4df6ae59628cddc0"
  },
  {
   "metadata": {},
   "cell_type": "code",
   "outputs": [],
   "execution_count": null,
   "source": [
    "predicted_violations_peptides_muegge_10 = []\n",
    "\n",
    "for predicted_value in prediction_muegge_10:\n",
    "    predicted_violations_peptides_muegge_10.append(int(predicted_value))"
   ],
   "id": "90e61d805646c251"
  },
  {
   "metadata": {},
   "cell_type": "code",
   "outputs": [],
   "execution_count": null,
   "source": [
    "predicted_violations_peptides_muegge_20 = []\n",
    "\n",
    "for predicted_value in prediction_muegge_20:\n",
    "    predicted_violations_peptides_muegge_20.append(int(predicted_value))"
   ],
   "id": "476119bf62fa3cd1"
  },
  {
   "metadata": {},
   "cell_type": "code",
   "outputs": [],
   "execution_count": null,
   "source": [
    "predicted_violations_peptides_muegge_30 = []\n",
    "\n",
    "for predicted_value in prediction_muegge_30:\n",
    "    predicted_violations_peptides_muegge_30.append(int(predicted_value))"
   ],
   "id": "f5daf6e7f7fcf992"
  },
  {
   "metadata": {},
   "cell_type": "code",
   "outputs": [],
   "execution_count": null,
   "source": [
    "lipinski_violations_dict_10 = {'nviolations_lipinski_rule_10': predicted_violations_peptides_lipinski_10}\n",
    "lipinski_violations_dict_20 = {'nviolations_lipinski_rule_20': predicted_violations_peptides_lipinski_20}\n",
    "lipinski_violations_dict_30 = {'nviolations_lipinski_rule_30': predicted_violations_peptides_lipinski_30}"
   ],
   "id": "5d36e35860b8bd83"
  },
  {
   "metadata": {},
   "cell_type": "code",
   "outputs": [],
   "execution_count": null,
   "source": [
    "bro_violations_dict_10 = {'nviolations_bro_rule_10': predicted_violations_peptides_bro_10}\n",
    "bro_violations_dict_20 = {'nviolations_bro_rule_20': predicted_violations_peptides_bro_20}\n",
    "bro_violations_dict_30 = {'nviolations_bro_rule_30': predicted_violations_peptides_bro_30}"
   ],
   "id": "5ecce0c62681f597"
  },
  {
   "metadata": {},
   "cell_type": "code",
   "outputs": [],
   "execution_count": null,
   "source": [
    "muegge_violations_10_dict = {'nviolations_muegge_rule_10': predicted_violations_peptides_muegge_10}\n",
    "muegge_violations_20_dict = {'nviolations_muegge_rule_20': predicted_violations_peptides_muegge_20}\n",
    "muegge_violations_30_dict = {'nviolations_muegge_rule_30': predicted_violations_peptides_muegge_30}"
   ],
   "id": "aa23d175376dad3b"
  },
  {
   "metadata": {},
   "cell_type": "code",
   "outputs": [],
   "execution_count": null,
   "source": "peptide_predictions_dataset_lipinski = pd.concat([pd.DataFrame(tested_molecules), test_dataset_for_work_lipinski, pd.DataFrame(lipinski_violations_dict_10), pd.DataFrame(lipinski_violations_dict_20), pd.DataFrame(lipinski_violations_dict_30)], axis=1)",
   "id": "2bce3053cac3f3ee"
  },
  {
   "metadata": {},
   "cell_type": "code",
   "outputs": [],
   "execution_count": null,
   "source": "peptide_predictions_dataset_bro = pd.concat([pd.DataFrame(tested_molecules), test_dataset_for_work, pd.DataFrame(bro_violations_dict_10), pd.DataFrame(bro_violations_dict_20), pd.DataFrame(bro_violations_dict_30)], axis=1)",
   "id": "cb28136c9841e725"
  },
  {
   "metadata": {},
   "cell_type": "code",
   "outputs": [],
   "execution_count": null,
   "source": "peptide_predictions_muegge_dataset = pd.concat([pd.DataFrame(tested_molecules), test_dataset_for_work, pd.DataFrame(muegge_violations_10_dict), pd.DataFrame(muegge_violations_20_dict), pd.DataFrame(muegge_violations_30_dict)], axis=1)",
   "id": "aa3eacccc2bde4a"
  },
  {
   "metadata": {},
   "cell_type": "code",
   "outputs": [],
   "execution_count": null,
   "source": "peptide_predictions_dataset_lipinski",
   "id": "bc1e4bd8ed654c47"
  },
  {
   "metadata": {},
   "cell_type": "code",
   "outputs": [],
   "execution_count": null,
   "source": "peptide_predictions_dataset_bro",
   "id": "2a6197e5bd1e961c"
  },
  {
   "metadata": {},
   "cell_type": "code",
   "outputs": [],
   "execution_count": null,
   "source": "peptide_predictions_muegge_dataset",
   "id": "d6dcf1c526ea3762"
  },
  {
   "metadata": {},
   "cell_type": "code",
   "outputs": [],
   "execution_count": null,
   "source": "swissadme_peptides = pd.read_csv('datasets/swissadme_peptides.csv')",
   "id": "a9c8962371a0419f"
  },
  {
   "metadata": {},
   "cell_type": "code",
   "outputs": [],
   "execution_count": null,
   "source": "comparison_table_peptides_lipinski = pd.concat([peptide_predictions_dataset_lipinski[['tested_molecules', 'nviolations_lipinski_rule_10', 'nviolations_lipinski_rule_20', 'nviolations_lipinski_rule_30']], swissadme_peptides[['Lipinski #violations']]], axis=1)",
   "id": "73fb3bf5facb598f"
  },
  {
   "metadata": {},
   "cell_type": "code",
   "outputs": [],
   "execution_count": null,
   "source": "comparison_table_peptides_lipinski",
   "id": "2feb964fe0f073c6"
  },
  {
   "metadata": {},
   "cell_type": "code",
   "outputs": [],
   "execution_count": null,
   "source": "comparison_table_peptides_lipinski",
   "id": "829237ba22106563"
  },
  {
   "metadata": {},
   "cell_type": "code",
   "outputs": [],
   "execution_count": null,
   "source": "comparison_table_peptides_muegge = pd.concat([peptide_predictions_muegge_dataset[['tested_molecules','nviolations_muegge_rule_10', 'nviolations_muegge_rule_20', 'nviolations_muegge_rule_30']], swissadme_peptides[['Muegge #violations']]], axis=1)",
   "id": "46762084f180219b"
  },
  {
   "metadata": {},
   "cell_type": "code",
   "outputs": [],
   "execution_count": null,
   "source": "comparison_table_peptides_muegge",
   "id": "f44576de184ecc7c"
  }
 ],
 "metadata": {
  "kernelspec": {
   "display_name": "Python 3",
   "language": "python",
   "name": "python3"
  },
  "language_info": {
   "codemirror_mode": {
    "name": "ipython",
    "version": 2
   },
   "file_extension": ".py",
   "mimetype": "text/x-python",
   "name": "python",
   "nbconvert_exporter": "python",
   "pygments_lexer": "ipython2",
   "version": "2.7.6"
  }
 },
 "nbformat": 4,
 "nbformat_minor": 5
}
